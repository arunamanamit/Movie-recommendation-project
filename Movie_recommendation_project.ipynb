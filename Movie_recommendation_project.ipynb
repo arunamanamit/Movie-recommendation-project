{
  "nbformat": 4,
  "nbformat_minor": 0,
  "metadata": {
    "colab": {
      "provenance": []
    },
    "kernelspec": {
      "name": "python3",
      "display_name": "Python 3"
    },
    "language_info": {
      "name": "python"
    }
  },
  "cells": [
    {
      "cell_type": "markdown",
      "source": [
        "Title of Project"
      ],
      "metadata": {
        "id": "0WvtIgMcg9Ld"
      }
    },
    {
      "cell_type": "markdown",
      "source": [
        "Movie Recommendation System"
      ],
      "metadata": {
        "id": "p5_CzXPsjbge"
      }
    },
    {
      "cell_type": "markdown",
      "source": [
        "objective"
      ],
      "metadata": {
        "id": "3k9mtdSjhKG7"
      }
    },
    {
      "cell_type": "markdown",
      "source": [
        "The objective of this project is to design and develop a movie recommendation system using Python, which utilizes data-driven techniques to suggest movies tailored to user preferences. The system aims to provide personalized movie suggestions by leveraging machine learning, data analysis, and recommendation algorithms."
      ],
      "metadata": {
        "id": "xIc61-NajYvF"
      }
    },
    {
      "cell_type": "markdown",
      "source": [
        "Data Source"
      ],
      "metadata": {
        "id": "_kFGwtBQjvHl"
      }
    },
    {
      "cell_type": "markdown",
      "source": [
        " 1.IMDb Datasets\n",
        "Description: Offers a collection of datasets containing movie titles, ratings, crew, and cast information.\n",
        "Source: https://www.imdb.com/interfaces/"
      ],
      "metadata": {
        "id": "NS2y4LxHj2AR"
      }
    },
    {
      "cell_type": "markdown",
      "source": [
        "2. Web Scraping Sources\n",
        "Use Python libraries like BeautifulSoup and Scrapy to scrape movie data.\n",
        "IMDb: Movie reviews, ratings, and details.\n",
        "Rotten Tomatoes: Movie reviews and ratings from critics and users.\n",
        "TMDB: Scrape additional movie details using its public API."
      ],
      "metadata": {
        "id": "8qXB4TVgknvM"
      }
    },
    {
      "cell_type": "markdown",
      "source": [
        "3. APIs for Real-Time Data\n",
        "a. TMDB API\n",
        "Provides up-to-date movie data, including user reviews and ratings.\n",
        "Requires free API key registration.\n",
        "Documentation: https://developers.themoviedb.org/3/getting-started\n",
        "b. OMDb API\n",
        "Free and premium API for fetching movie details like ratings, plot, and genre.\n",
        "Documentation: http://www.omdbapi.com/"
      ],
      "metadata": {
        "id": "e2vZGtxIlB7P"
      }
    },
    {
      "cell_type": "markdown",
      "source": [
        "4.User-Generated Data\n",
        "Collect user interaction data for personalized recommendations:\n",
        "User ratings or reviews (if the system allows users to input them).\n",
        "Watch history or preferences (if building an end-to-end platform).\n"
      ],
      "metadata": {
        "id": "Dj2ppfiBlKQ-"
      }
    },
    {
      "cell_type": "markdown",
      "source": [
        "Import Library"
      ],
      "metadata": {
        "id": "vP_BgSAjlU-x"
      }
    },
    {
      "cell_type": "code",
      "source": [
        "import pandas as pd"
      ],
      "metadata": {
        "id": "Qqzv6z_si03G"
      },
      "execution_count": null,
      "outputs": []
    },
    {
      "cell_type": "markdown",
      "source": [],
      "metadata": {
        "id": "8xxTTiQujaQu"
      }
    },
    {
      "cell_type": "code",
      "source": [
        "import numpy as np"
      ],
      "metadata": {
        "id": "KN1ICxLji00v"
      },
      "execution_count": null,
      "outputs": []
    },
    {
      "cell_type": "markdown",
      "source": [
        "Import Dataset"
      ],
      "metadata": {
        "id": "vR4BEObumyQL"
      }
    },
    {
      "cell_type": "code",
      "source": [
        "df = pd.read_csv(r'https://raw.githubusercontent.com/YBI-Foundation/Dataset/main/Movies%20Recommendation.csv')"
      ],
      "metadata": {
        "id": "NiwMcfiKmlEf"
      },
      "execution_count": null,
      "outputs": []
    },
    {
      "cell_type": "code",
      "source": [
        "df.head()"
      ],
      "metadata": {
        "colab": {
          "base_uri": "https://localhost:8080/",
          "height": 672
        },
        "id": "HiuxW82Logv_",
        "outputId": "f563d7e8-c083-488a-f676-556486bc8f3e"
      },
      "execution_count": null,
      "outputs": [
        {
          "output_type": "execute_result",
          "data": {
            "text/plain": [
              "   Movie_ID      Movie_Title                       Movie_Genre Movie_Language  \\\n",
              "0         1       Four Rooms                      Crime Comedy             en   \n",
              "1         2        Star Wars  Adventure Action Science Fiction             en   \n",
              "2         3     Finding Nemo                  Animation Family             en   \n",
              "3         4     Forrest Gump              Comedy Drama Romance             en   \n",
              "4         5  American Beauty                             Drama             en   \n",
              "\n",
              "   Movie_Budget  Movie_Popularity Movie_Release_Date  Movie_Revenue  \\\n",
              "0       4000000         22.876230         09-12-1995        4300000   \n",
              "1      11000000        126.393695         25-05-1977      775398007   \n",
              "2      94000000         85.688789         30-05-2003      940335536   \n",
              "3      55000000        138.133331         06-07-1994      677945399   \n",
              "4      15000000         80.878605         15-09-1999      356296601   \n",
              "\n",
              "   Movie_Runtime  Movie_Vote  ...  \\\n",
              "0           98.0         6.5  ...   \n",
              "1          121.0         8.1  ...   \n",
              "2          100.0         7.6  ...   \n",
              "3          142.0         8.2  ...   \n",
              "4          122.0         7.9  ...   \n",
              "\n",
              "                                      Movie_Homepage  \\\n",
              "0                                                NaN   \n",
              "1  http://www.starwars.com/films/star-wars-episod...   \n",
              "2              http://movies.disney.com/finding-nemo   \n",
              "3                                                NaN   \n",
              "4                      http://www.dreamworks.com/ab/   \n",
              "\n",
              "                                      Movie_Keywords  \\\n",
              "0          hotel new year's eve witch bet hotel room   \n",
              "1        android galaxy hermit death star lightsaber   \n",
              "2  father son relationship harbor underwater fish...   \n",
              "3  vietnam veteran hippie mentally disabled runni...   \n",
              "4  male nudity female nudity adultery midlife cri...   \n",
              "\n",
              "                                      Movie_Overview  \\\n",
              "0  It's Ted the Bellhop's first night on the job....   \n",
              "1  Princess Leia is captured and held hostage by ...   \n",
              "2  Nemo, an adventurous young clownfish, is unexp...   \n",
              "3  A man with a low IQ has accomplished great thi...   \n",
              "4  Lester Burnham, a depressed suburban father in...   \n",
              "\n",
              "                              Movie_Production_House  \\\n",
              "0  [{\"name\": \"Miramax Films\", \"id\": 14}, {\"name\":...   \n",
              "1  [{\"name\": \"Lucasfilm\", \"id\": 1}, {\"name\": \"Twe...   \n",
              "2     [{\"name\": \"Pixar Animation Studios\", \"id\": 3}]   \n",
              "3          [{\"name\": \"Paramount Pictures\", \"id\": 4}]   \n",
              "4  [{\"name\": \"DreamWorks SKG\", \"id\": 27}, {\"name\"...   \n",
              "\n",
              "                            Movie_Production_Country  \\\n",
              "0  [{\"iso_3166_1\": \"US\", \"name\": \"United States o...   \n",
              "1  [{\"iso_3166_1\": \"US\", \"name\": \"United States o...   \n",
              "2  [{\"iso_3166_1\": \"US\", \"name\": \"United States o...   \n",
              "3  [{\"iso_3166_1\": \"US\", \"name\": \"United States o...   \n",
              "4  [{\"iso_3166_1\": \"US\", \"name\": \"United States o...   \n",
              "\n",
              "                      Movie_Spoken_Language  \\\n",
              "0  [{\"iso_639_1\": \"en\", \"name\": \"English\"}]   \n",
              "1  [{\"iso_639_1\": \"en\", \"name\": \"English\"}]   \n",
              "2  [{\"iso_639_1\": \"en\", \"name\": \"English\"}]   \n",
              "3  [{\"iso_639_1\": \"en\", \"name\": \"English\"}]   \n",
              "4  [{\"iso_639_1\": \"en\", \"name\": \"English\"}]   \n",
              "\n",
              "                                       Movie_Tagline  \\\n",
              "0  Twelve outrageous guests. Four scandalous requ...   \n",
              "1       A long time ago in a galaxy far, far away...   \n",
              "2  There are 3.7 trillion fish in the ocean, they...   \n",
              "3  The world will never be the same, once you've ...   \n",
              "4                                       Look closer.   \n",
              "\n",
              "                                          Movie_Cast  \\\n",
              "0  Tim Roth Antonio Banderas Jennifer Beals Madon...   \n",
              "1  Mark Hamill Harrison Ford Carrie Fisher Peter ...   \n",
              "2  Albert Brooks Ellen DeGeneres Alexander Gould ...   \n",
              "3  Tom Hanks Robin Wright Gary Sinise Mykelti Wil...   \n",
              "4  Kevin Spacey Annette Bening Thora Birch Wes Be...   \n",
              "\n",
              "                                          Movie_Crew   Movie_Director  \n",
              "0  [{'name': 'Allison Anders', 'gender': 1, 'depa...   Allison Anders  \n",
              "1  [{'name': 'George Lucas', 'gender': 2, 'depart...     George Lucas  \n",
              "2  [{'name': 'Andrew Stanton', 'gender': 2, 'depa...   Andrew Stanton  \n",
              "3  [{'name': 'Alan Silvestri', 'gender': 2, 'depa...  Robert Zemeckis  \n",
              "4  [{'name': 'Thomas Newman', 'gender': 2, 'depar...       Sam Mendes  \n",
              "\n",
              "[5 rows x 21 columns]"
            ],
            "text/html": [
              "\n",
              "  <div id=\"df-7a149245-6de8-45dd-b707-5a1c3b843a61\" class=\"colab-df-container\">\n",
              "    <div>\n",
              "<style scoped>\n",
              "    .dataframe tbody tr th:only-of-type {\n",
              "        vertical-align: middle;\n",
              "    }\n",
              "\n",
              "    .dataframe tbody tr th {\n",
              "        vertical-align: top;\n",
              "    }\n",
              "\n",
              "    .dataframe thead th {\n",
              "        text-align: right;\n",
              "    }\n",
              "</style>\n",
              "<table border=\"1\" class=\"dataframe\">\n",
              "  <thead>\n",
              "    <tr style=\"text-align: right;\">\n",
              "      <th></th>\n",
              "      <th>Movie_ID</th>\n",
              "      <th>Movie_Title</th>\n",
              "      <th>Movie_Genre</th>\n",
              "      <th>Movie_Language</th>\n",
              "      <th>Movie_Budget</th>\n",
              "      <th>Movie_Popularity</th>\n",
              "      <th>Movie_Release_Date</th>\n",
              "      <th>Movie_Revenue</th>\n",
              "      <th>Movie_Runtime</th>\n",
              "      <th>Movie_Vote</th>\n",
              "      <th>...</th>\n",
              "      <th>Movie_Homepage</th>\n",
              "      <th>Movie_Keywords</th>\n",
              "      <th>Movie_Overview</th>\n",
              "      <th>Movie_Production_House</th>\n",
              "      <th>Movie_Production_Country</th>\n",
              "      <th>Movie_Spoken_Language</th>\n",
              "      <th>Movie_Tagline</th>\n",
              "      <th>Movie_Cast</th>\n",
              "      <th>Movie_Crew</th>\n",
              "      <th>Movie_Director</th>\n",
              "    </tr>\n",
              "  </thead>\n",
              "  <tbody>\n",
              "    <tr>\n",
              "      <th>0</th>\n",
              "      <td>1</td>\n",
              "      <td>Four Rooms</td>\n",
              "      <td>Crime Comedy</td>\n",
              "      <td>en</td>\n",
              "      <td>4000000</td>\n",
              "      <td>22.876230</td>\n",
              "      <td>09-12-1995</td>\n",
              "      <td>4300000</td>\n",
              "      <td>98.0</td>\n",
              "      <td>6.5</td>\n",
              "      <td>...</td>\n",
              "      <td>NaN</td>\n",
              "      <td>hotel new year's eve witch bet hotel room</td>\n",
              "      <td>It's Ted the Bellhop's first night on the job....</td>\n",
              "      <td>[{\"name\": \"Miramax Films\", \"id\": 14}, {\"name\":...</td>\n",
              "      <td>[{\"iso_3166_1\": \"US\", \"name\": \"United States o...</td>\n",
              "      <td>[{\"iso_639_1\": \"en\", \"name\": \"English\"}]</td>\n",
              "      <td>Twelve outrageous guests. Four scandalous requ...</td>\n",
              "      <td>Tim Roth Antonio Banderas Jennifer Beals Madon...</td>\n",
              "      <td>[{'name': 'Allison Anders', 'gender': 1, 'depa...</td>\n",
              "      <td>Allison Anders</td>\n",
              "    </tr>\n",
              "    <tr>\n",
              "      <th>1</th>\n",
              "      <td>2</td>\n",
              "      <td>Star Wars</td>\n",
              "      <td>Adventure Action Science Fiction</td>\n",
              "      <td>en</td>\n",
              "      <td>11000000</td>\n",
              "      <td>126.393695</td>\n",
              "      <td>25-05-1977</td>\n",
              "      <td>775398007</td>\n",
              "      <td>121.0</td>\n",
              "      <td>8.1</td>\n",
              "      <td>...</td>\n",
              "      <td>http://www.starwars.com/films/star-wars-episod...</td>\n",
              "      <td>android galaxy hermit death star lightsaber</td>\n",
              "      <td>Princess Leia is captured and held hostage by ...</td>\n",
              "      <td>[{\"name\": \"Lucasfilm\", \"id\": 1}, {\"name\": \"Twe...</td>\n",
              "      <td>[{\"iso_3166_1\": \"US\", \"name\": \"United States o...</td>\n",
              "      <td>[{\"iso_639_1\": \"en\", \"name\": \"English\"}]</td>\n",
              "      <td>A long time ago in a galaxy far, far away...</td>\n",
              "      <td>Mark Hamill Harrison Ford Carrie Fisher Peter ...</td>\n",
              "      <td>[{'name': 'George Lucas', 'gender': 2, 'depart...</td>\n",
              "      <td>George Lucas</td>\n",
              "    </tr>\n",
              "    <tr>\n",
              "      <th>2</th>\n",
              "      <td>3</td>\n",
              "      <td>Finding Nemo</td>\n",
              "      <td>Animation Family</td>\n",
              "      <td>en</td>\n",
              "      <td>94000000</td>\n",
              "      <td>85.688789</td>\n",
              "      <td>30-05-2003</td>\n",
              "      <td>940335536</td>\n",
              "      <td>100.0</td>\n",
              "      <td>7.6</td>\n",
              "      <td>...</td>\n",
              "      <td>http://movies.disney.com/finding-nemo</td>\n",
              "      <td>father son relationship harbor underwater fish...</td>\n",
              "      <td>Nemo, an adventurous young clownfish, is unexp...</td>\n",
              "      <td>[{\"name\": \"Pixar Animation Studios\", \"id\": 3}]</td>\n",
              "      <td>[{\"iso_3166_1\": \"US\", \"name\": \"United States o...</td>\n",
              "      <td>[{\"iso_639_1\": \"en\", \"name\": \"English\"}]</td>\n",
              "      <td>There are 3.7 trillion fish in the ocean, they...</td>\n",
              "      <td>Albert Brooks Ellen DeGeneres Alexander Gould ...</td>\n",
              "      <td>[{'name': 'Andrew Stanton', 'gender': 2, 'depa...</td>\n",
              "      <td>Andrew Stanton</td>\n",
              "    </tr>\n",
              "    <tr>\n",
              "      <th>3</th>\n",
              "      <td>4</td>\n",
              "      <td>Forrest Gump</td>\n",
              "      <td>Comedy Drama Romance</td>\n",
              "      <td>en</td>\n",
              "      <td>55000000</td>\n",
              "      <td>138.133331</td>\n",
              "      <td>06-07-1994</td>\n",
              "      <td>677945399</td>\n",
              "      <td>142.0</td>\n",
              "      <td>8.2</td>\n",
              "      <td>...</td>\n",
              "      <td>NaN</td>\n",
              "      <td>vietnam veteran hippie mentally disabled runni...</td>\n",
              "      <td>A man with a low IQ has accomplished great thi...</td>\n",
              "      <td>[{\"name\": \"Paramount Pictures\", \"id\": 4}]</td>\n",
              "      <td>[{\"iso_3166_1\": \"US\", \"name\": \"United States o...</td>\n",
              "      <td>[{\"iso_639_1\": \"en\", \"name\": \"English\"}]</td>\n",
              "      <td>The world will never be the same, once you've ...</td>\n",
              "      <td>Tom Hanks Robin Wright Gary Sinise Mykelti Wil...</td>\n",
              "      <td>[{'name': 'Alan Silvestri', 'gender': 2, 'depa...</td>\n",
              "      <td>Robert Zemeckis</td>\n",
              "    </tr>\n",
              "    <tr>\n",
              "      <th>4</th>\n",
              "      <td>5</td>\n",
              "      <td>American Beauty</td>\n",
              "      <td>Drama</td>\n",
              "      <td>en</td>\n",
              "      <td>15000000</td>\n",
              "      <td>80.878605</td>\n",
              "      <td>15-09-1999</td>\n",
              "      <td>356296601</td>\n",
              "      <td>122.0</td>\n",
              "      <td>7.9</td>\n",
              "      <td>...</td>\n",
              "      <td>http://www.dreamworks.com/ab/</td>\n",
              "      <td>male nudity female nudity adultery midlife cri...</td>\n",
              "      <td>Lester Burnham, a depressed suburban father in...</td>\n",
              "      <td>[{\"name\": \"DreamWorks SKG\", \"id\": 27}, {\"name\"...</td>\n",
              "      <td>[{\"iso_3166_1\": \"US\", \"name\": \"United States o...</td>\n",
              "      <td>[{\"iso_639_1\": \"en\", \"name\": \"English\"}]</td>\n",
              "      <td>Look closer.</td>\n",
              "      <td>Kevin Spacey Annette Bening Thora Birch Wes Be...</td>\n",
              "      <td>[{'name': 'Thomas Newman', 'gender': 2, 'depar...</td>\n",
              "      <td>Sam Mendes</td>\n",
              "    </tr>\n",
              "  </tbody>\n",
              "</table>\n",
              "<p>5 rows × 21 columns</p>\n",
              "</div>\n",
              "    <div class=\"colab-df-buttons\">\n",
              "\n",
              "  <div class=\"colab-df-container\">\n",
              "    <button class=\"colab-df-convert\" onclick=\"convertToInteractive('df-7a149245-6de8-45dd-b707-5a1c3b843a61')\"\n",
              "            title=\"Convert this dataframe to an interactive table.\"\n",
              "            style=\"display:none;\">\n",
              "\n",
              "  <svg xmlns=\"http://www.w3.org/2000/svg\" height=\"24px\" viewBox=\"0 -960 960 960\">\n",
              "    <path d=\"M120-120v-720h720v720H120Zm60-500h600v-160H180v160Zm220 220h160v-160H400v160Zm0 220h160v-160H400v160ZM180-400h160v-160H180v160Zm440 0h160v-160H620v160ZM180-180h160v-160H180v160Zm440 0h160v-160H620v160Z\"/>\n",
              "  </svg>\n",
              "    </button>\n",
              "\n",
              "  <style>\n",
              "    .colab-df-container {\n",
              "      display:flex;\n",
              "      gap: 12px;\n",
              "    }\n",
              "\n",
              "    .colab-df-convert {\n",
              "      background-color: #E8F0FE;\n",
              "      border: none;\n",
              "      border-radius: 50%;\n",
              "      cursor: pointer;\n",
              "      display: none;\n",
              "      fill: #1967D2;\n",
              "      height: 32px;\n",
              "      padding: 0 0 0 0;\n",
              "      width: 32px;\n",
              "    }\n",
              "\n",
              "    .colab-df-convert:hover {\n",
              "      background-color: #E2EBFA;\n",
              "      box-shadow: 0px 1px 2px rgba(60, 64, 67, 0.3), 0px 1px 3px 1px rgba(60, 64, 67, 0.15);\n",
              "      fill: #174EA6;\n",
              "    }\n",
              "\n",
              "    .colab-df-buttons div {\n",
              "      margin-bottom: 4px;\n",
              "    }\n",
              "\n",
              "    [theme=dark] .colab-df-convert {\n",
              "      background-color: #3B4455;\n",
              "      fill: #D2E3FC;\n",
              "    }\n",
              "\n",
              "    [theme=dark] .colab-df-convert:hover {\n",
              "      background-color: #434B5C;\n",
              "      box-shadow: 0px 1px 3px 1px rgba(0, 0, 0, 0.15);\n",
              "      filter: drop-shadow(0px 1px 2px rgba(0, 0, 0, 0.3));\n",
              "      fill: #FFFFFF;\n",
              "    }\n",
              "  </style>\n",
              "\n",
              "    <script>\n",
              "      const buttonEl =\n",
              "        document.querySelector('#df-7a149245-6de8-45dd-b707-5a1c3b843a61 button.colab-df-convert');\n",
              "      buttonEl.style.display =\n",
              "        google.colab.kernel.accessAllowed ? 'block' : 'none';\n",
              "\n",
              "      async function convertToInteractive(key) {\n",
              "        const element = document.querySelector('#df-7a149245-6de8-45dd-b707-5a1c3b843a61');\n",
              "        const dataTable =\n",
              "          await google.colab.kernel.invokeFunction('convertToInteractive',\n",
              "                                                    [key], {});\n",
              "        if (!dataTable) return;\n",
              "\n",
              "        const docLinkHtml = 'Like what you see? Visit the ' +\n",
              "          '<a target=\"_blank\" href=https://colab.research.google.com/notebooks/data_table.ipynb>data table notebook</a>'\n",
              "          + ' to learn more about interactive tables.';\n",
              "        element.innerHTML = '';\n",
              "        dataTable['output_type'] = 'display_data';\n",
              "        await google.colab.output.renderOutput(dataTable, element);\n",
              "        const docLink = document.createElement('div');\n",
              "        docLink.innerHTML = docLinkHtml;\n",
              "        element.appendChild(docLink);\n",
              "      }\n",
              "    </script>\n",
              "  </div>\n",
              "\n",
              "\n",
              "<div id=\"df-c153be4e-bbda-487c-9eec-d0e7aa163c30\">\n",
              "  <button class=\"colab-df-quickchart\" onclick=\"quickchart('df-c153be4e-bbda-487c-9eec-d0e7aa163c30')\"\n",
              "            title=\"Suggest charts\"\n",
              "            style=\"display:none;\">\n",
              "\n",
              "<svg xmlns=\"http://www.w3.org/2000/svg\" height=\"24px\"viewBox=\"0 0 24 24\"\n",
              "     width=\"24px\">\n",
              "    <g>\n",
              "        <path d=\"M19 3H5c-1.1 0-2 .9-2 2v14c0 1.1.9 2 2 2h14c1.1 0 2-.9 2-2V5c0-1.1-.9-2-2-2zM9 17H7v-7h2v7zm4 0h-2V7h2v10zm4 0h-2v-4h2v4z\"/>\n",
              "    </g>\n",
              "</svg>\n",
              "  </button>\n",
              "\n",
              "<style>\n",
              "  .colab-df-quickchart {\n",
              "      --bg-color: #E8F0FE;\n",
              "      --fill-color: #1967D2;\n",
              "      --hover-bg-color: #E2EBFA;\n",
              "      --hover-fill-color: #174EA6;\n",
              "      --disabled-fill-color: #AAA;\n",
              "      --disabled-bg-color: #DDD;\n",
              "  }\n",
              "\n",
              "  [theme=dark] .colab-df-quickchart {\n",
              "      --bg-color: #3B4455;\n",
              "      --fill-color: #D2E3FC;\n",
              "      --hover-bg-color: #434B5C;\n",
              "      --hover-fill-color: #FFFFFF;\n",
              "      --disabled-bg-color: #3B4455;\n",
              "      --disabled-fill-color: #666;\n",
              "  }\n",
              "\n",
              "  .colab-df-quickchart {\n",
              "    background-color: var(--bg-color);\n",
              "    border: none;\n",
              "    border-radius: 50%;\n",
              "    cursor: pointer;\n",
              "    display: none;\n",
              "    fill: var(--fill-color);\n",
              "    height: 32px;\n",
              "    padding: 0;\n",
              "    width: 32px;\n",
              "  }\n",
              "\n",
              "  .colab-df-quickchart:hover {\n",
              "    background-color: var(--hover-bg-color);\n",
              "    box-shadow: 0 1px 2px rgba(60, 64, 67, 0.3), 0 1px 3px 1px rgba(60, 64, 67, 0.15);\n",
              "    fill: var(--button-hover-fill-color);\n",
              "  }\n",
              "\n",
              "  .colab-df-quickchart-complete:disabled,\n",
              "  .colab-df-quickchart-complete:disabled:hover {\n",
              "    background-color: var(--disabled-bg-color);\n",
              "    fill: var(--disabled-fill-color);\n",
              "    box-shadow: none;\n",
              "  }\n",
              "\n",
              "  .colab-df-spinner {\n",
              "    border: 2px solid var(--fill-color);\n",
              "    border-color: transparent;\n",
              "    border-bottom-color: var(--fill-color);\n",
              "    animation:\n",
              "      spin 1s steps(1) infinite;\n",
              "  }\n",
              "\n",
              "  @keyframes spin {\n",
              "    0% {\n",
              "      border-color: transparent;\n",
              "      border-bottom-color: var(--fill-color);\n",
              "      border-left-color: var(--fill-color);\n",
              "    }\n",
              "    20% {\n",
              "      border-color: transparent;\n",
              "      border-left-color: var(--fill-color);\n",
              "      border-top-color: var(--fill-color);\n",
              "    }\n",
              "    30% {\n",
              "      border-color: transparent;\n",
              "      border-left-color: var(--fill-color);\n",
              "      border-top-color: var(--fill-color);\n",
              "      border-right-color: var(--fill-color);\n",
              "    }\n",
              "    40% {\n",
              "      border-color: transparent;\n",
              "      border-right-color: var(--fill-color);\n",
              "      border-top-color: var(--fill-color);\n",
              "    }\n",
              "    60% {\n",
              "      border-color: transparent;\n",
              "      border-right-color: var(--fill-color);\n",
              "    }\n",
              "    80% {\n",
              "      border-color: transparent;\n",
              "      border-right-color: var(--fill-color);\n",
              "      border-bottom-color: var(--fill-color);\n",
              "    }\n",
              "    90% {\n",
              "      border-color: transparent;\n",
              "      border-bottom-color: var(--fill-color);\n",
              "    }\n",
              "  }\n",
              "</style>\n",
              "\n",
              "  <script>\n",
              "    async function quickchart(key) {\n",
              "      const quickchartButtonEl =\n",
              "        document.querySelector('#' + key + ' button');\n",
              "      quickchartButtonEl.disabled = true;  // To prevent multiple clicks.\n",
              "      quickchartButtonEl.classList.add('colab-df-spinner');\n",
              "      try {\n",
              "        const charts = await google.colab.kernel.invokeFunction(\n",
              "            'suggestCharts', [key], {});\n",
              "      } catch (error) {\n",
              "        console.error('Error during call to suggestCharts:', error);\n",
              "      }\n",
              "      quickchartButtonEl.classList.remove('colab-df-spinner');\n",
              "      quickchartButtonEl.classList.add('colab-df-quickchart-complete');\n",
              "    }\n",
              "    (() => {\n",
              "      let quickchartButtonEl =\n",
              "        document.querySelector('#df-c153be4e-bbda-487c-9eec-d0e7aa163c30 button');\n",
              "      quickchartButtonEl.style.display =\n",
              "        google.colab.kernel.accessAllowed ? 'block' : 'none';\n",
              "    })();\n",
              "  </script>\n",
              "</div>\n",
              "\n",
              "    </div>\n",
              "  </div>\n"
            ],
            "application/vnd.google.colaboratory.intrinsic+json": {
              "type": "dataframe",
              "variable_name": "df"
            }
          },
          "metadata": {},
          "execution_count": 7
        }
      ]
    },
    {
      "cell_type": "code",
      "source": [
        "df.info()"
      ],
      "metadata": {
        "colab": {
          "base_uri": "https://localhost:8080/"
        },
        "id": "SHjw5y9GognA",
        "outputId": "845efa60-9fc7-4d8a-eca4-41912662bf01"
      },
      "execution_count": null,
      "outputs": [
        {
          "output_type": "stream",
          "name": "stdout",
          "text": [
            "<class 'pandas.core.frame.DataFrame'>\n",
            "RangeIndex: 4760 entries, 0 to 4759\n",
            "Data columns (total 21 columns):\n",
            " #   Column                    Non-Null Count  Dtype  \n",
            "---  ------                    --------------  -----  \n",
            " 0   Movie_ID                  4760 non-null   int64  \n",
            " 1   Movie_Title               4760 non-null   object \n",
            " 2   Movie_Genre               4760 non-null   object \n",
            " 3   Movie_Language            4760 non-null   object \n",
            " 4   Movie_Budget              4760 non-null   int64  \n",
            " 5   Movie_Popularity          4760 non-null   float64\n",
            " 6   Movie_Release_Date        4760 non-null   object \n",
            " 7   Movie_Revenue             4760 non-null   int64  \n",
            " 8   Movie_Runtime             4758 non-null   float64\n",
            " 9   Movie_Vote                4760 non-null   float64\n",
            " 10  Movie_Vote_Count          4760 non-null   int64  \n",
            " 11  Movie_Homepage            1699 non-null   object \n",
            " 12  Movie_Keywords            4373 non-null   object \n",
            " 13  Movie_Overview            4757 non-null   object \n",
            " 14  Movie_Production_House    4760 non-null   object \n",
            " 15  Movie_Production_Country  4760 non-null   object \n",
            " 16  Movie_Spoken_Language     4760 non-null   object \n",
            " 17  Movie_Tagline             3942 non-null   object \n",
            " 18  Movie_Cast                4733 non-null   object \n",
            " 19  Movie_Crew                4760 non-null   object \n",
            " 20  Movie_Director            4738 non-null   object \n",
            "dtypes: float64(3), int64(4), object(14)\n",
            "memory usage: 781.1+ KB\n"
          ]
        }
      ]
    },
    {
      "cell_type": "code",
      "source": [
        "df.shape"
      ],
      "metadata": {
        "colab": {
          "base_uri": "https://localhost:8080/"
        },
        "id": "oxcSVQlYogd6",
        "outputId": "a04c8148-4316-4bb6-95b2-d91d68d99d7f"
      },
      "execution_count": null,
      "outputs": [
        {
          "output_type": "execute_result",
          "data": {
            "text/plain": [
              "(4760, 21)"
            ]
          },
          "metadata": {},
          "execution_count": 9
        }
      ]
    },
    {
      "cell_type": "code",
      "source": [
        "df.columns"
      ],
      "metadata": {
        "colab": {
          "base_uri": "https://localhost:8080/"
        },
        "id": "tmg_jf-mogOn",
        "outputId": "d39b05dc-dc82-49ff-8f1f-2de663afdd8d"
      },
      "execution_count": null,
      "outputs": [
        {
          "output_type": "execute_result",
          "data": {
            "text/plain": [
              "Index(['Movie_ID', 'Movie_Title', 'Movie_Genre', 'Movie_Language',\n",
              "       'Movie_Budget', 'Movie_Popularity', 'Movie_Release_Date',\n",
              "       'Movie_Revenue', 'Movie_Runtime', 'Movie_Vote', 'Movie_Vote_Count',\n",
              "       'Movie_Homepage', 'Movie_Keywords', 'Movie_Overview',\n",
              "       'Movie_Production_House', 'Movie_Production_Country',\n",
              "       'Movie_Spoken_Language', 'Movie_Tagline', 'Movie_Cast', 'Movie_Crew',\n",
              "       'Movie_Director'],\n",
              "      dtype='object')"
            ]
          },
          "metadata": {},
          "execution_count": 10
        }
      ]
    },
    {
      "cell_type": "markdown",
      "source": [
        "Get Feature Selection"
      ],
      "metadata": {
        "id": "qofmPYL2nVjj"
      }
    },
    {
      "cell_type": "code",
      "source": [
        "df_features = df[['Movie_Genre','Movie_Keywords','Movie_Tagline','Movie_Cast','Movie_Director']].fillna('')"
      ],
      "metadata": {
        "id": "_eZQsDFBogER"
      },
      "execution_count": null,
      "outputs": []
    },
    {
      "cell_type": "code",
      "source": [
        "df_features.shape"
      ],
      "metadata": {
        "colab": {
          "base_uri": "https://localhost:8080/"
        },
        "id": "LNc7z-Ecpy7K",
        "outputId": "fdaf3a3e-0f4f-422a-d28b-459e1f6e3765"
      },
      "execution_count": null,
      "outputs": [
        {
          "output_type": "execute_result",
          "data": {
            "text/plain": [
              "(4760, 5)"
            ]
          },
          "metadata": {},
          "execution_count": 12
        }
      ]
    },
    {
      "cell_type": "code",
      "source": [
        "df_features"
      ],
      "metadata": {
        "colab": {
          "base_uri": "https://localhost:8080/",
          "height": 909
        },
        "id": "NE1VE9n3py34",
        "outputId": "181ac9ad-71f1-4992-ef03-90cd7bf0d9fa"
      },
      "execution_count": null,
      "outputs": [
        {
          "output_type": "execute_result",
          "data": {
            "text/plain": [
              "                           Movie_Genre  \\\n",
              "0                         Crime Comedy   \n",
              "1     Adventure Action Science Fiction   \n",
              "2                     Animation Family   \n",
              "3                 Comedy Drama Romance   \n",
              "4                                Drama   \n",
              "...                                ...   \n",
              "4755                            Horror   \n",
              "4756               Comedy Family Drama   \n",
              "4757                    Thriller Drama   \n",
              "4758                            Family   \n",
              "4759                       Documentary   \n",
              "\n",
              "                                         Movie_Keywords  \\\n",
              "0             hotel new year's eve witch bet hotel room   \n",
              "1           android galaxy hermit death star lightsaber   \n",
              "2     father son relationship harbor underwater fish...   \n",
              "3     vietnam veteran hippie mentally disabled runni...   \n",
              "4     male nudity female nudity adultery midlife cri...   \n",
              "...                                                 ...   \n",
              "4755                                                      \n",
              "4756                                                      \n",
              "4757                     christian film sex trafficking   \n",
              "4758                                                      \n",
              "4759  music actors legendary perfomer classic hollyw...   \n",
              "\n",
              "                                          Movie_Tagline  \\\n",
              "0     Twelve outrageous guests. Four scandalous requ...   \n",
              "1          A long time ago in a galaxy far, far away...   \n",
              "2     There are 3.7 trillion fish in the ocean, they...   \n",
              "3     The world will never be the same, once you've ...   \n",
              "4                                          Look closer.   \n",
              "...                                                 ...   \n",
              "4755                The hot spot where Satan's waitin'.   \n",
              "4756           It’s better to stand out than to fit in.   \n",
              "4757           She never knew it could happen to her...   \n",
              "4758                                                      \n",
              "4759                                                      \n",
              "\n",
              "                                             Movie_Cast     Movie_Director  \n",
              "0     Tim Roth Antonio Banderas Jennifer Beals Madon...     Allison Anders  \n",
              "1     Mark Hamill Harrison Ford Carrie Fisher Peter ...       George Lucas  \n",
              "2     Albert Brooks Ellen DeGeneres Alexander Gould ...     Andrew Stanton  \n",
              "3     Tom Hanks Robin Wright Gary Sinise Mykelti Wil...    Robert Zemeckis  \n",
              "4     Kevin Spacey Annette Bening Thora Birch Wes Be...         Sam Mendes  \n",
              "...                                                 ...                ...  \n",
              "4755  Lisa Hart Carroll Michael Des Barres Paul Drak...         Pece Dingo  \n",
              "4756  Roni Akurati Brighton Sharbino Jason Lee Anjul...       Frank Lotito  \n",
              "4757  Nicole Smolen Kim Baldwin Ariana Stephens Brys...       Jaco Booyens  \n",
              "4758                                                                        \n",
              "4759                                    Tony Oppedisano  Simon Napier-Bell  \n",
              "\n",
              "[4760 rows x 5 columns]"
            ],
            "text/html": [
              "\n",
              "  <div id=\"df-5524959d-105e-4a07-88dd-23adb797b80a\" class=\"colab-df-container\">\n",
              "    <div>\n",
              "<style scoped>\n",
              "    .dataframe tbody tr th:only-of-type {\n",
              "        vertical-align: middle;\n",
              "    }\n",
              "\n",
              "    .dataframe tbody tr th {\n",
              "        vertical-align: top;\n",
              "    }\n",
              "\n",
              "    .dataframe thead th {\n",
              "        text-align: right;\n",
              "    }\n",
              "</style>\n",
              "<table border=\"1\" class=\"dataframe\">\n",
              "  <thead>\n",
              "    <tr style=\"text-align: right;\">\n",
              "      <th></th>\n",
              "      <th>Movie_Genre</th>\n",
              "      <th>Movie_Keywords</th>\n",
              "      <th>Movie_Tagline</th>\n",
              "      <th>Movie_Cast</th>\n",
              "      <th>Movie_Director</th>\n",
              "    </tr>\n",
              "  </thead>\n",
              "  <tbody>\n",
              "    <tr>\n",
              "      <th>0</th>\n",
              "      <td>Crime Comedy</td>\n",
              "      <td>hotel new year's eve witch bet hotel room</td>\n",
              "      <td>Twelve outrageous guests. Four scandalous requ...</td>\n",
              "      <td>Tim Roth Antonio Banderas Jennifer Beals Madon...</td>\n",
              "      <td>Allison Anders</td>\n",
              "    </tr>\n",
              "    <tr>\n",
              "      <th>1</th>\n",
              "      <td>Adventure Action Science Fiction</td>\n",
              "      <td>android galaxy hermit death star lightsaber</td>\n",
              "      <td>A long time ago in a galaxy far, far away...</td>\n",
              "      <td>Mark Hamill Harrison Ford Carrie Fisher Peter ...</td>\n",
              "      <td>George Lucas</td>\n",
              "    </tr>\n",
              "    <tr>\n",
              "      <th>2</th>\n",
              "      <td>Animation Family</td>\n",
              "      <td>father son relationship harbor underwater fish...</td>\n",
              "      <td>There are 3.7 trillion fish in the ocean, they...</td>\n",
              "      <td>Albert Brooks Ellen DeGeneres Alexander Gould ...</td>\n",
              "      <td>Andrew Stanton</td>\n",
              "    </tr>\n",
              "    <tr>\n",
              "      <th>3</th>\n",
              "      <td>Comedy Drama Romance</td>\n",
              "      <td>vietnam veteran hippie mentally disabled runni...</td>\n",
              "      <td>The world will never be the same, once you've ...</td>\n",
              "      <td>Tom Hanks Robin Wright Gary Sinise Mykelti Wil...</td>\n",
              "      <td>Robert Zemeckis</td>\n",
              "    </tr>\n",
              "    <tr>\n",
              "      <th>4</th>\n",
              "      <td>Drama</td>\n",
              "      <td>male nudity female nudity adultery midlife cri...</td>\n",
              "      <td>Look closer.</td>\n",
              "      <td>Kevin Spacey Annette Bening Thora Birch Wes Be...</td>\n",
              "      <td>Sam Mendes</td>\n",
              "    </tr>\n",
              "    <tr>\n",
              "      <th>...</th>\n",
              "      <td>...</td>\n",
              "      <td>...</td>\n",
              "      <td>...</td>\n",
              "      <td>...</td>\n",
              "      <td>...</td>\n",
              "    </tr>\n",
              "    <tr>\n",
              "      <th>4755</th>\n",
              "      <td>Horror</td>\n",
              "      <td></td>\n",
              "      <td>The hot spot where Satan's waitin'.</td>\n",
              "      <td>Lisa Hart Carroll Michael Des Barres Paul Drak...</td>\n",
              "      <td>Pece Dingo</td>\n",
              "    </tr>\n",
              "    <tr>\n",
              "      <th>4756</th>\n",
              "      <td>Comedy Family Drama</td>\n",
              "      <td></td>\n",
              "      <td>It’s better to stand out than to fit in.</td>\n",
              "      <td>Roni Akurati Brighton Sharbino Jason Lee Anjul...</td>\n",
              "      <td>Frank Lotito</td>\n",
              "    </tr>\n",
              "    <tr>\n",
              "      <th>4757</th>\n",
              "      <td>Thriller Drama</td>\n",
              "      <td>christian film sex trafficking</td>\n",
              "      <td>She never knew it could happen to her...</td>\n",
              "      <td>Nicole Smolen Kim Baldwin Ariana Stephens Brys...</td>\n",
              "      <td>Jaco Booyens</td>\n",
              "    </tr>\n",
              "    <tr>\n",
              "      <th>4758</th>\n",
              "      <td>Family</td>\n",
              "      <td></td>\n",
              "      <td></td>\n",
              "      <td></td>\n",
              "      <td></td>\n",
              "    </tr>\n",
              "    <tr>\n",
              "      <th>4759</th>\n",
              "      <td>Documentary</td>\n",
              "      <td>music actors legendary perfomer classic hollyw...</td>\n",
              "      <td></td>\n",
              "      <td>Tony Oppedisano</td>\n",
              "      <td>Simon Napier-Bell</td>\n",
              "    </tr>\n",
              "  </tbody>\n",
              "</table>\n",
              "<p>4760 rows × 5 columns</p>\n",
              "</div>\n",
              "    <div class=\"colab-df-buttons\">\n",
              "\n",
              "  <div class=\"colab-df-container\">\n",
              "    <button class=\"colab-df-convert\" onclick=\"convertToInteractive('df-5524959d-105e-4a07-88dd-23adb797b80a')\"\n",
              "            title=\"Convert this dataframe to an interactive table.\"\n",
              "            style=\"display:none;\">\n",
              "\n",
              "  <svg xmlns=\"http://www.w3.org/2000/svg\" height=\"24px\" viewBox=\"0 -960 960 960\">\n",
              "    <path d=\"M120-120v-720h720v720H120Zm60-500h600v-160H180v160Zm220 220h160v-160H400v160Zm0 220h160v-160H400v160ZM180-400h160v-160H180v160Zm440 0h160v-160H620v160ZM180-180h160v-160H180v160Zm440 0h160v-160H620v160Z\"/>\n",
              "  </svg>\n",
              "    </button>\n",
              "\n",
              "  <style>\n",
              "    .colab-df-container {\n",
              "      display:flex;\n",
              "      gap: 12px;\n",
              "    }\n",
              "\n",
              "    .colab-df-convert {\n",
              "      background-color: #E8F0FE;\n",
              "      border: none;\n",
              "      border-radius: 50%;\n",
              "      cursor: pointer;\n",
              "      display: none;\n",
              "      fill: #1967D2;\n",
              "      height: 32px;\n",
              "      padding: 0 0 0 0;\n",
              "      width: 32px;\n",
              "    }\n",
              "\n",
              "    .colab-df-convert:hover {\n",
              "      background-color: #E2EBFA;\n",
              "      box-shadow: 0px 1px 2px rgba(60, 64, 67, 0.3), 0px 1px 3px 1px rgba(60, 64, 67, 0.15);\n",
              "      fill: #174EA6;\n",
              "    }\n",
              "\n",
              "    .colab-df-buttons div {\n",
              "      margin-bottom: 4px;\n",
              "    }\n",
              "\n",
              "    [theme=dark] .colab-df-convert {\n",
              "      background-color: #3B4455;\n",
              "      fill: #D2E3FC;\n",
              "    }\n",
              "\n",
              "    [theme=dark] .colab-df-convert:hover {\n",
              "      background-color: #434B5C;\n",
              "      box-shadow: 0px 1px 3px 1px rgba(0, 0, 0, 0.15);\n",
              "      filter: drop-shadow(0px 1px 2px rgba(0, 0, 0, 0.3));\n",
              "      fill: #FFFFFF;\n",
              "    }\n",
              "  </style>\n",
              "\n",
              "    <script>\n",
              "      const buttonEl =\n",
              "        document.querySelector('#df-5524959d-105e-4a07-88dd-23adb797b80a button.colab-df-convert');\n",
              "      buttonEl.style.display =\n",
              "        google.colab.kernel.accessAllowed ? 'block' : 'none';\n",
              "\n",
              "      async function convertToInteractive(key) {\n",
              "        const element = document.querySelector('#df-5524959d-105e-4a07-88dd-23adb797b80a');\n",
              "        const dataTable =\n",
              "          await google.colab.kernel.invokeFunction('convertToInteractive',\n",
              "                                                    [key], {});\n",
              "        if (!dataTable) return;\n",
              "\n",
              "        const docLinkHtml = 'Like what you see? Visit the ' +\n",
              "          '<a target=\"_blank\" href=https://colab.research.google.com/notebooks/data_table.ipynb>data table notebook</a>'\n",
              "          + ' to learn more about interactive tables.';\n",
              "        element.innerHTML = '';\n",
              "        dataTable['output_type'] = 'display_data';\n",
              "        await google.colab.output.renderOutput(dataTable, element);\n",
              "        const docLink = document.createElement('div');\n",
              "        docLink.innerHTML = docLinkHtml;\n",
              "        element.appendChild(docLink);\n",
              "      }\n",
              "    </script>\n",
              "  </div>\n",
              "\n",
              "\n",
              "<div id=\"df-5d75cb0f-b053-41e7-b8db-579eb3c02fc1\">\n",
              "  <button class=\"colab-df-quickchart\" onclick=\"quickchart('df-5d75cb0f-b053-41e7-b8db-579eb3c02fc1')\"\n",
              "            title=\"Suggest charts\"\n",
              "            style=\"display:none;\">\n",
              "\n",
              "<svg xmlns=\"http://www.w3.org/2000/svg\" height=\"24px\"viewBox=\"0 0 24 24\"\n",
              "     width=\"24px\">\n",
              "    <g>\n",
              "        <path d=\"M19 3H5c-1.1 0-2 .9-2 2v14c0 1.1.9 2 2 2h14c1.1 0 2-.9 2-2V5c0-1.1-.9-2-2-2zM9 17H7v-7h2v7zm4 0h-2V7h2v10zm4 0h-2v-4h2v4z\"/>\n",
              "    </g>\n",
              "</svg>\n",
              "  </button>\n",
              "\n",
              "<style>\n",
              "  .colab-df-quickchart {\n",
              "      --bg-color: #E8F0FE;\n",
              "      --fill-color: #1967D2;\n",
              "      --hover-bg-color: #E2EBFA;\n",
              "      --hover-fill-color: #174EA6;\n",
              "      --disabled-fill-color: #AAA;\n",
              "      --disabled-bg-color: #DDD;\n",
              "  }\n",
              "\n",
              "  [theme=dark] .colab-df-quickchart {\n",
              "      --bg-color: #3B4455;\n",
              "      --fill-color: #D2E3FC;\n",
              "      --hover-bg-color: #434B5C;\n",
              "      --hover-fill-color: #FFFFFF;\n",
              "      --disabled-bg-color: #3B4455;\n",
              "      --disabled-fill-color: #666;\n",
              "  }\n",
              "\n",
              "  .colab-df-quickchart {\n",
              "    background-color: var(--bg-color);\n",
              "    border: none;\n",
              "    border-radius: 50%;\n",
              "    cursor: pointer;\n",
              "    display: none;\n",
              "    fill: var(--fill-color);\n",
              "    height: 32px;\n",
              "    padding: 0;\n",
              "    width: 32px;\n",
              "  }\n",
              "\n",
              "  .colab-df-quickchart:hover {\n",
              "    background-color: var(--hover-bg-color);\n",
              "    box-shadow: 0 1px 2px rgba(60, 64, 67, 0.3), 0 1px 3px 1px rgba(60, 64, 67, 0.15);\n",
              "    fill: var(--button-hover-fill-color);\n",
              "  }\n",
              "\n",
              "  .colab-df-quickchart-complete:disabled,\n",
              "  .colab-df-quickchart-complete:disabled:hover {\n",
              "    background-color: var(--disabled-bg-color);\n",
              "    fill: var(--disabled-fill-color);\n",
              "    box-shadow: none;\n",
              "  }\n",
              "\n",
              "  .colab-df-spinner {\n",
              "    border: 2px solid var(--fill-color);\n",
              "    border-color: transparent;\n",
              "    border-bottom-color: var(--fill-color);\n",
              "    animation:\n",
              "      spin 1s steps(1) infinite;\n",
              "  }\n",
              "\n",
              "  @keyframes spin {\n",
              "    0% {\n",
              "      border-color: transparent;\n",
              "      border-bottom-color: var(--fill-color);\n",
              "      border-left-color: var(--fill-color);\n",
              "    }\n",
              "    20% {\n",
              "      border-color: transparent;\n",
              "      border-left-color: var(--fill-color);\n",
              "      border-top-color: var(--fill-color);\n",
              "    }\n",
              "    30% {\n",
              "      border-color: transparent;\n",
              "      border-left-color: var(--fill-color);\n",
              "      border-top-color: var(--fill-color);\n",
              "      border-right-color: var(--fill-color);\n",
              "    }\n",
              "    40% {\n",
              "      border-color: transparent;\n",
              "      border-right-color: var(--fill-color);\n",
              "      border-top-color: var(--fill-color);\n",
              "    }\n",
              "    60% {\n",
              "      border-color: transparent;\n",
              "      border-right-color: var(--fill-color);\n",
              "    }\n",
              "    80% {\n",
              "      border-color: transparent;\n",
              "      border-right-color: var(--fill-color);\n",
              "      border-bottom-color: var(--fill-color);\n",
              "    }\n",
              "    90% {\n",
              "      border-color: transparent;\n",
              "      border-bottom-color: var(--fill-color);\n",
              "    }\n",
              "  }\n",
              "</style>\n",
              "\n",
              "  <script>\n",
              "    async function quickchart(key) {\n",
              "      const quickchartButtonEl =\n",
              "        document.querySelector('#' + key + ' button');\n",
              "      quickchartButtonEl.disabled = true;  // To prevent multiple clicks.\n",
              "      quickchartButtonEl.classList.add('colab-df-spinner');\n",
              "      try {\n",
              "        const charts = await google.colab.kernel.invokeFunction(\n",
              "            'suggestCharts', [key], {});\n",
              "      } catch (error) {\n",
              "        console.error('Error during call to suggestCharts:', error);\n",
              "      }\n",
              "      quickchartButtonEl.classList.remove('colab-df-spinner');\n",
              "      quickchartButtonEl.classList.add('colab-df-quickchart-complete');\n",
              "    }\n",
              "    (() => {\n",
              "      let quickchartButtonEl =\n",
              "        document.querySelector('#df-5d75cb0f-b053-41e7-b8db-579eb3c02fc1 button');\n",
              "      quickchartButtonEl.style.display =\n",
              "        google.colab.kernel.accessAllowed ? 'block' : 'none';\n",
              "    })();\n",
              "  </script>\n",
              "</div>\n",
              "\n",
              "  <div id=\"id_27351397-9ed4-444b-8e12-00759b707080\">\n",
              "    <style>\n",
              "      .colab-df-generate {\n",
              "        background-color: #E8F0FE;\n",
              "        border: none;\n",
              "        border-radius: 50%;\n",
              "        cursor: pointer;\n",
              "        display: none;\n",
              "        fill: #1967D2;\n",
              "        height: 32px;\n",
              "        padding: 0 0 0 0;\n",
              "        width: 32px;\n",
              "      }\n",
              "\n",
              "      .colab-df-generate:hover {\n",
              "        background-color: #E2EBFA;\n",
              "        box-shadow: 0px 1px 2px rgba(60, 64, 67, 0.3), 0px 1px 3px 1px rgba(60, 64, 67, 0.15);\n",
              "        fill: #174EA6;\n",
              "      }\n",
              "\n",
              "      [theme=dark] .colab-df-generate {\n",
              "        background-color: #3B4455;\n",
              "        fill: #D2E3FC;\n",
              "      }\n",
              "\n",
              "      [theme=dark] .colab-df-generate:hover {\n",
              "        background-color: #434B5C;\n",
              "        box-shadow: 0px 1px 3px 1px rgba(0, 0, 0, 0.15);\n",
              "        filter: drop-shadow(0px 1px 2px rgba(0, 0, 0, 0.3));\n",
              "        fill: #FFFFFF;\n",
              "      }\n",
              "    </style>\n",
              "    <button class=\"colab-df-generate\" onclick=\"generateWithVariable('df_features')\"\n",
              "            title=\"Generate code using this dataframe.\"\n",
              "            style=\"display:none;\">\n",
              "\n",
              "  <svg xmlns=\"http://www.w3.org/2000/svg\" height=\"24px\"viewBox=\"0 0 24 24\"\n",
              "       width=\"24px\">\n",
              "    <path d=\"M7,19H8.4L18.45,9,17,7.55,7,17.6ZM5,21V16.75L18.45,3.32a2,2,0,0,1,2.83,0l1.4,1.43a1.91,1.91,0,0,1,.58,1.4,1.91,1.91,0,0,1-.58,1.4L9.25,21ZM18.45,9,17,7.55Zm-12,3A5.31,5.31,0,0,0,4.9,8.1,5.31,5.31,0,0,0,1,6.5,5.31,5.31,0,0,0,4.9,4.9,5.31,5.31,0,0,0,6.5,1,5.31,5.31,0,0,0,8.1,4.9,5.31,5.31,0,0,0,12,6.5,5.46,5.46,0,0,0,6.5,12Z\"/>\n",
              "  </svg>\n",
              "    </button>\n",
              "    <script>\n",
              "      (() => {\n",
              "      const buttonEl =\n",
              "        document.querySelector('#id_27351397-9ed4-444b-8e12-00759b707080 button.colab-df-generate');\n",
              "      buttonEl.style.display =\n",
              "        google.colab.kernel.accessAllowed ? 'block' : 'none';\n",
              "\n",
              "      buttonEl.onclick = () => {\n",
              "        google.colab.notebook.generateWithVariable('df_features');\n",
              "      }\n",
              "      })();\n",
              "    </script>\n",
              "  </div>\n",
              "\n",
              "    </div>\n",
              "  </div>\n"
            ],
            "application/vnd.google.colaboratory.intrinsic+json": {
              "type": "dataframe",
              "variable_name": "df_features",
              "summary": "{\n  \"name\": \"df_features\",\n  \"rows\": 4760,\n  \"fields\": [\n    {\n      \"column\": \"Movie_Genre\",\n      \"properties\": {\n        \"dtype\": \"category\",\n        \"num_unique_values\": 1164,\n        \"samples\": [\n          \"Family Animation Adventure\",\n          \"Adventure Science Fiction Action\",\n          \"Action Crime Drama Romance Thriller\"\n        ],\n        \"semantic_type\": \"\",\n        \"description\": \"\"\n      }\n    },\n    {\n      \"column\": \"Movie_Keywords\",\n      \"properties\": {\n        \"dtype\": \"string\",\n        \"num_unique_values\": 4203,\n        \"samples\": [\n          \"canada nazis sequel spin off ancient evil\",\n          \"sex professor wedding woman director columbia university\",\n          \"prophecy sea beach gold small town\"\n        ],\n        \"semantic_type\": \"\",\n        \"description\": \"\"\n      }\n    },\n    {\n      \"column\": \"Movie_Tagline\",\n      \"properties\": {\n        \"dtype\": \"string\",\n        \"num_unique_values\": 3928,\n        \"samples\": [\n          \"The messenger must be silenced.\",\n          \"It's not the house that's haunted.\",\n          \"The final hunt begins.\"\n        ],\n        \"semantic_type\": \"\",\n        \"description\": \"\"\n      }\n    },\n    {\n      \"column\": \"Movie_Cast\",\n      \"properties\": {\n        \"dtype\": \"string\",\n        \"num_unique_values\": 4715,\n        \"samples\": [\n          \"Robin Tunney Fairuza Balk Neve Campbell Rachel True Skeet Ulrich\",\n          \"Peter Sellers Christopher Plummer Herbert Lom Catherine Schell Peter Arne\",\n          \"John Wayne Laraine Day Cedric Hardwicke Judith Anderson Anthony Quinn\"\n        ],\n        \"semantic_type\": \"\",\n        \"description\": \"\"\n      }\n    },\n    {\n      \"column\": \"Movie_Director\",\n      \"properties\": {\n        \"dtype\": \"category\",\n        \"num_unique_values\": 2332,\n        \"samples\": [\n          \"Rob McKittrick\",\n          \"Terron R. Parsons\",\n          \"Cyrus Nowrasteh\"\n        ],\n        \"semantic_type\": \"\",\n        \"description\": \"\"\n      }\n    }\n  ]\n}"
            }
          },
          "metadata": {},
          "execution_count": 13
        }
      ]
    },
    {
      "cell_type": "code",
      "source": [
        "x = df_features['Movie_Genre']+' '+df_features['Movie_Keywords']+' '+df_features['Movie_Tagline']+' '+df_features['Movie_Cast']+' '+df_features['Movie_Director']"
      ],
      "metadata": {
        "id": "YAU3eDG_py1f"
      },
      "execution_count": null,
      "outputs": []
    },
    {
      "cell_type": "code",
      "source": [
        "x"
      ],
      "metadata": {
        "colab": {
          "base_uri": "https://localhost:8080/",
          "height": 458
        },
        "id": "tZJabTG7pyzE",
        "outputId": "2784b64b-f7ed-4aaa-d6fc-39b695b93946"
      },
      "execution_count": null,
      "outputs": [
        {
          "output_type": "execute_result",
          "data": {
            "text/plain": [
              "0       Crime Comedy hotel new year's eve witch bet ho...\n",
              "1       Adventure Action Science Fiction android galax...\n",
              "2       Animation Family father son relationship harbo...\n",
              "3       Comedy Drama Romance vietnam veteran hippie me...\n",
              "4       Drama male nudity female nudity adultery midli...\n",
              "                              ...                        \n",
              "4755    Horror  The hot spot where Satan's waitin'. Li...\n",
              "4756    Comedy Family Drama  It’s better to stand out ...\n",
              "4757    Thriller Drama christian film sex trafficking ...\n",
              "4758                                           Family    \n",
              "4759    Documentary music actors legendary perfomer cl...\n",
              "Length: 4760, dtype: object"
            ],
            "text/html": [
              "<div>\n",
              "<style scoped>\n",
              "    .dataframe tbody tr th:only-of-type {\n",
              "        vertical-align: middle;\n",
              "    }\n",
              "\n",
              "    .dataframe tbody tr th {\n",
              "        vertical-align: top;\n",
              "    }\n",
              "\n",
              "    .dataframe thead th {\n",
              "        text-align: right;\n",
              "    }\n",
              "</style>\n",
              "<table border=\"1\" class=\"dataframe\">\n",
              "  <thead>\n",
              "    <tr style=\"text-align: right;\">\n",
              "      <th></th>\n",
              "      <th>0</th>\n",
              "    </tr>\n",
              "  </thead>\n",
              "  <tbody>\n",
              "    <tr>\n",
              "      <th>0</th>\n",
              "      <td>Crime Comedy hotel new year's eve witch bet ho...</td>\n",
              "    </tr>\n",
              "    <tr>\n",
              "      <th>1</th>\n",
              "      <td>Adventure Action Science Fiction android galax...</td>\n",
              "    </tr>\n",
              "    <tr>\n",
              "      <th>2</th>\n",
              "      <td>Animation Family father son relationship harbo...</td>\n",
              "    </tr>\n",
              "    <tr>\n",
              "      <th>3</th>\n",
              "      <td>Comedy Drama Romance vietnam veteran hippie me...</td>\n",
              "    </tr>\n",
              "    <tr>\n",
              "      <th>4</th>\n",
              "      <td>Drama male nudity female nudity adultery midli...</td>\n",
              "    </tr>\n",
              "    <tr>\n",
              "      <th>...</th>\n",
              "      <td>...</td>\n",
              "    </tr>\n",
              "    <tr>\n",
              "      <th>4755</th>\n",
              "      <td>Horror  The hot spot where Satan's waitin'. Li...</td>\n",
              "    </tr>\n",
              "    <tr>\n",
              "      <th>4756</th>\n",
              "      <td>Comedy Family Drama  It’s better to stand out ...</td>\n",
              "    </tr>\n",
              "    <tr>\n",
              "      <th>4757</th>\n",
              "      <td>Thriller Drama christian film sex trafficking ...</td>\n",
              "    </tr>\n",
              "    <tr>\n",
              "      <th>4758</th>\n",
              "      <td>Family</td>\n",
              "    </tr>\n",
              "    <tr>\n",
              "      <th>4759</th>\n",
              "      <td>Documentary music actors legendary perfomer cl...</td>\n",
              "    </tr>\n",
              "  </tbody>\n",
              "</table>\n",
              "<p>4760 rows × 1 columns</p>\n",
              "</div><br><label><b>dtype:</b> object</label>"
            ]
          },
          "metadata": {},
          "execution_count": 15
        }
      ]
    },
    {
      "cell_type": "code",
      "source": [
        "x.shape"
      ],
      "metadata": {
        "colab": {
          "base_uri": "https://localhost:8080/"
        },
        "id": "U-trRrKJpyw3",
        "outputId": "5bfcb89d-1870-49be-cb2d-52e3f6a695dc"
      },
      "execution_count": null,
      "outputs": [
        {
          "output_type": "execute_result",
          "data": {
            "text/plain": [
              "(4760,)"
            ]
          },
          "metadata": {},
          "execution_count": 16
        }
      ]
    },
    {
      "cell_type": "markdown",
      "source": [
        "Get Features Text Conversion to Tokens"
      ],
      "metadata": {
        "id": "0ypgDdIkniWK"
      }
    },
    {
      "cell_type": "code",
      "source": [
        "from sklearn.feature_extraction.text import TfidfVectorizer"
      ],
      "metadata": {
        "id": "jAuT5PaYrBOz"
      },
      "execution_count": null,
      "outputs": []
    },
    {
      "cell_type": "code",
      "source": [
        "tfidf = TfidfVectorizer()"
      ],
      "metadata": {
        "id": "BDlgBNzgrJbp"
      },
      "execution_count": null,
      "outputs": []
    },
    {
      "cell_type": "code",
      "source": [
        "x = tfidf.fit_transform(x)"
      ],
      "metadata": {
        "id": "5-V86lWRrnh7"
      },
      "execution_count": null,
      "outputs": []
    },
    {
      "cell_type": "code",
      "source": [
        "x.shape"
      ],
      "metadata": {
        "colab": {
          "base_uri": "https://localhost:8080/"
        },
        "id": "Yzr6M2H4rQqk",
        "outputId": "476def84-7d3e-4324-c1d8-cb896517d85c"
      },
      "execution_count": null,
      "outputs": [
        {
          "output_type": "execute_result",
          "data": {
            "text/plain": [
              "(4760, 17258)"
            ]
          },
          "metadata": {},
          "execution_count": 22
        }
      ]
    },
    {
      "cell_type": "code",
      "source": [
        "print(x)"
      ],
      "metadata": {
        "colab": {
          "base_uri": "https://localhost:8080/"
        },
        "id": "llylGrQSrXhI",
        "outputId": "8888285a-cd5a-4fa7-c504-74c5d7670cfc"
      },
      "execution_count": null,
      "outputs": [
        {
          "output_type": "stream",
          "name": "stdout",
          "text": [
            "  (0, 3583)\t0.06486754376295062\n",
            "  (0, 3240)\t0.04527089872278055\n",
            "  (0, 7213)\t0.25146675849405775\n",
            "  (0, 10898)\t0.17625708810661284\n",
            "  (0, 17052)\t0.26079573581490934\n",
            "  (0, 5059)\t0.29553419178998613\n",
            "  (0, 16862)\t0.12768803549311025\n",
            "  (0, 1595)\t0.15687561633854538\n",
            "  (0, 13052)\t0.1465525095337543\n",
            "  (0, 15708)\t0.17654247479915475\n",
            "  (0, 11362)\t0.18801785343006192\n",
            "  (0, 6463)\t0.18801785343006192\n",
            "  (0, 5662)\t0.1465525095337543\n",
            "  (0, 13467)\t0.19712637387361423\n",
            "  (0, 12731)\t0.19712637387361423\n",
            "  (0, 614)\t0.07642616241686973\n",
            "  (0, 11244)\t0.08262965296941757\n",
            "  (0, 9206)\t0.15186283580984414\n",
            "  (0, 1495)\t0.19712637387361423\n",
            "  (0, 7454)\t0.14745635785412262\n",
            "  (0, 7071)\t0.19822417598406614\n",
            "  (0, 5499)\t0.11454057510303811\n",
            "  (0, 3878)\t0.11998399582562203\n",
            "  (0, 11242)\t0.07277788238484746\n",
            "  (0, 15219)\t0.09800472886453934\n",
            "  :\t:\n",
            "  (4757, 3485)\t0.199161573117024\n",
            "  (4757, 1184)\t0.18890726729447022\n",
            "  (4757, 14568)\t0.24255077606762876\n",
            "  (4757, 15508)\t0.24255077606762876\n",
            "  (4757, 5802)\t0.24255077606762876\n",
            "  (4757, 819)\t0.27474840155297187\n",
            "  (4757, 14195)\t0.28805858134028367\n",
            "  (4757, 2227)\t0.28805858134028367\n",
            "  (4757, 7691)\t0.28805858134028367\n",
            "  (4757, 1932)\t0.28805858134028367\n",
            "  (4758, 5238)\t1.0\n",
            "  (4759, 10666)\t0.15888268987343043\n",
            "  (4759, 1490)\t0.21197258705292082\n",
            "  (4759, 15431)\t0.19628653185946862\n",
            "  (4759, 5690)\t0.19534291014627303\n",
            "  (4759, 14051)\t0.20084315377640435\n",
            "  (4759, 4358)\t0.18306542312175342\n",
            "  (4759, 10761)\t0.3126617295732147\n",
            "  (4759, 7130)\t0.26419662449963793\n",
            "  (4759, 3058)\t0.2812896191863103\n",
            "  (4759, 14062)\t0.3237911628497312\n",
            "  (4759, 8902)\t0.3040290704566037\n",
            "  (4759, 205)\t0.3237911628497312\n",
            "  (4759, 11708)\t0.33947721804318337\n",
            "  (4759, 11264)\t0.33947721804318337\n"
          ]
        }
      ]
    },
    {
      "cell_type": "code",
      "source": [
        "x"
      ],
      "metadata": {
        "colab": {
          "base_uri": "https://localhost:8080/"
        },
        "id": "r-YV_BVhrbPS",
        "outputId": "99a66008-b8ed-4e68-c1c8-3c8e4cb8829d"
      },
      "execution_count": null,
      "outputs": [
        {
          "output_type": "execute_result",
          "data": {
            "text/plain": [
              "<4760x17258 sparse matrix of type '<class 'numpy.float64'>'\n",
              "\twith 123666 stored elements in Compressed Sparse Row format>"
            ]
          },
          "metadata": {},
          "execution_count": 24
        }
      ]
    },
    {
      "cell_type": "markdown",
      "source": [
        "Get Similarity Score using Cosine Similarity"
      ],
      "metadata": {
        "id": "RB5-fezin4Vu"
      }
    },
    {
      "cell_type": "code",
      "source": [
        "from sklearn.metrics.pairwise import cosine_similarity"
      ],
      "metadata": {
        "id": "HO9d5SNvrhTD"
      },
      "execution_count": null,
      "outputs": []
    },
    {
      "cell_type": "code",
      "source": [
        "Similarity_Score = cosine_similarity(x)"
      ],
      "metadata": {
        "id": "XXKX-5yTspNm"
      },
      "execution_count": null,
      "outputs": []
    },
    {
      "cell_type": "code",
      "source": [
        "Similarity_Score"
      ],
      "metadata": {
        "colab": {
          "base_uri": "https://localhost:8080/"
        },
        "id": "Nr3cTTxRs4iF",
        "outputId": "4c797c59-c219-4ba5-bb6b-9f75ae8cb51f"
      },
      "execution_count": null,
      "outputs": [
        {
          "output_type": "execute_result",
          "data": {
            "text/plain": [
              "array([[1.        , 0.01351235, 0.03570468, ..., 0.        , 0.        ,\n",
              "        0.        ],\n",
              "       [0.01351235, 1.        , 0.00806674, ..., 0.        , 0.        ,\n",
              "        0.        ],\n",
              "       [0.03570468, 0.00806674, 1.        , ..., 0.        , 0.08014876,\n",
              "        0.        ],\n",
              "       ...,\n",
              "       [0.        , 0.        , 0.        , ..., 1.        , 0.        ,\n",
              "        0.        ],\n",
              "       [0.        , 0.        , 0.08014876, ..., 0.        , 1.        ,\n",
              "        0.        ],\n",
              "       [0.        , 0.        , 0.        , ..., 0.        , 0.        ,\n",
              "        1.        ]])"
            ]
          },
          "metadata": {},
          "execution_count": 27
        }
      ]
    },
    {
      "cell_type": "code",
      "source": [
        "Similarity_Score.shape"
      ],
      "metadata": {
        "colab": {
          "base_uri": "https://localhost:8080/"
        },
        "id": "MY4xNr7ds4ew",
        "outputId": "c4f83ade-696e-4e02-87be-e3f6b0096638"
      },
      "execution_count": null,
      "outputs": [
        {
          "output_type": "execute_result",
          "data": {
            "text/plain": [
              "(4760, 4760)"
            ]
          },
          "metadata": {},
          "execution_count": 28
        }
      ]
    },
    {
      "cell_type": "markdown",
      "source": [
        "Get Movie Name as Input from user and Validation for Closest spelling"
      ],
      "metadata": {
        "id": "B4vLJU4noEL9"
      }
    },
    {
      "cell_type": "code",
      "source": [
        "Favourite_Movie_Name = input(' Enter your favourite movie name : ')"
      ],
      "metadata": {
        "colab": {
          "base_uri": "https://localhost:8080/"
        },
        "id": "Yb9cVxR6tGV4",
        "outputId": "877a094d-b9fc-4c31-db49-8ef13268d13b"
      },
      "execution_count": null,
      "outputs": [
        {
          "name": "stdout",
          "output_type": "stream",
          "text": [
            " Enter your favourite movie name : Terminator\n"
          ]
        }
      ]
    },
    {
      "cell_type": "code",
      "source": [
        "All_Movies_Title_List = df['Movie_Title'].tolist()"
      ],
      "metadata": {
        "id": "9gnut3vGtJCB"
      },
      "execution_count": null,
      "outputs": []
    },
    {
      "cell_type": "code",
      "source": [
        "import difflib"
      ],
      "metadata": {
        "id": "LplujYbytI-w"
      },
      "execution_count": null,
      "outputs": []
    },
    {
      "cell_type": "code",
      "source": [
        "Movie_REcommendation = difflib.get_close_matches(Favourite_Movie_Name, All_Movies_Title_List)\n",
        "print(Movie_REcommendation)"
      ],
      "metadata": {
        "colab": {
          "base_uri": "https://localhost:8080/"
        },
        "id": "vyuwCLZZtI6A",
        "outputId": "a08a338b-d8a2-43a6-8608-3573e81fc5df"
      },
      "execution_count": null,
      "outputs": [
        {
          "output_type": "stream",
          "name": "stdout",
          "text": [
            "['The Terminator', 'Terminator Genisys', 'The Aviator']\n"
          ]
        }
      ]
    },
    {
      "cell_type": "code",
      "source": [
        "Close_Match = Movie_REcommendation[0]\n",
        "print(Close_Match)"
      ],
      "metadata": {
        "colab": {
          "base_uri": "https://localhost:8080/"
        },
        "id": "ZUXHan1ptI2M",
        "outputId": "518dc460-8093-4e03-f160-5493d2c625f4"
      },
      "execution_count": null,
      "outputs": [
        {
          "output_type": "stream",
          "name": "stdout",
          "text": [
            "The Terminator\n"
          ]
        }
      ]
    },
    {
      "cell_type": "code",
      "source": [
        "Index_of_Close_Match_Movie = df[df.Movie_Title == Close_Match]['Movie_ID'].values[0]\n",
        "print(Index_of_Close_Match_Movie)"
      ],
      "metadata": {
        "colab": {
          "base_uri": "https://localhost:8080/"
        },
        "id": "YYSYNNFftsqw",
        "outputId": "66b7b0c5-4acd-4f3d-ce0c-246356bd79b1"
      },
      "execution_count": null,
      "outputs": [
        {
          "output_type": "stream",
          "name": "stdout",
          "text": [
            "103\n"
          ]
        }
      ]
    },
    {
      "cell_type": "code",
      "source": [
        "# getting a list of similar mvies\n",
        "Recomendation_Score = list(enumerate(Similarity_Score[Index_of_Close_Match_Movie]))\n",
        "print(Recomendation_Score)"
      ],
      "metadata": {
        "colab": {
          "base_uri": "https://localhost:8080/"
        },
        "id": "sEYfqQtVt49b",
        "outputId": "1df12edc-4d6b-4266-b0fe-a5914288b261"
      },
      "execution_count": null,
      "outputs": [
        {
          "output_type": "stream",
          "name": "stdout",
          "text": [
            "[(0, 0.0024700993014189596), (1, 0.0), (2, 0.0), (3, 0.01053748093904321), (4, 0.0026691202920347316), (5, 0.0025372194206669495), (6, 0.0), (7, 0.0018172356722010556), (8, 0.00928477130212514), (9, 0.0), (10, 0.0), (11, 0.0026195977365517553), (12, 0.0027014112278552385), (13, 0.0), (14, 0.0031452041585231186), (15, 0.007885665724120522), (16, 0.002108467310267122), (17, 0.0), (18, 0.00242569167957278), (19, 0.002440710395067888), (20, 0.0026459701727945756), (21, 0.031946557373461804), (22, 0.003412833388715119), (23, 0.008909190384815802), (24, 0.001652210339653426), (25, 0.004935780988960233), (26, 0.00247517112842256), (27, 0.0), (28, 0.003489784977313554), (29, 0.013873944812995203), (30, 0.0), (31, 0.002379102824868177), (32, 0.002218388886485308), (33, 0.007555477577271014), (34, 0.002632319611532711), (35, 0.0), (36, 0.0), (37, 0.0), (38, 0.003928021118760087), (39, 0.0), (40, 0.003855652005921834), (41, 0.002814841176137885), (42, 0.0035157571788139892), (43, 0.0023219432553611883), (44, 0.0021057874209870348), (45, 0.0032621234625436223), (46, 0.0), (47, 0.0), (48, 0.0027873423201870513), (49, 0.009166438782414913), (50, 0.0033943847941745957), (51, 0.008994958669901226), (52, 0.0024187522948410007), (53, 0.0032570266505480756), (54, 0.0), (55, 0.0), (56, 0.0), (57, 0.0), (58, 0.0), (59, 0.003541287646878591), (60, 0.010253625061429295), (61, 0.0024975191846433016), (62, 0.009438994456185776), (63, 0.0068041721504767455), (64, 0.0), (65, 0.0), (66, 0.0025247581248960755), (67, 0.0), (68, 0.0026828689027968184), (69, 0.0), (70, 0.0), (71, 0.008758561401386228), (72, 0.0), (73, 0.0029757398460354954), (74, 0.002690420287184148), (75, 0.0), (76, 0.0), (77, 0.0), (78, 0.0), (79, 0.0025218046253251227), (80, 0.0), (81, 0.0), (82, 0.0045279719978779534), (83, 0.0), (84, 0.0), (85, 0.008224611331126317), (86, 0.008132974824320885), (87, 0.0024420326579265806), (88, 0.0), (89, 0.0), (90, 0.0), (91, 0.00304291334545446), (92, 0.0022262279216783013), (93, 0.0), (94, 0.0), (95, 0.0), (96, 0.0023412929757918996), (97, 0.0022199777906136793), (98, 0.002477055727121909), (99, 0.0), (100, 0.0), (101, 0.0), (102, 0.0), (103, 1.0), (104, 0.0025456627397832166), (105, 0.029627764752210677), (106, 0.001947319229890852), (107, 0.002869086005106105), (108, 0.0017998015594830373), (109, 0.002522028139738478), (110, 0.009665134085478611), (111, 0.0023499441380063907), (112, 0.002435421752497243), (113, 0.012683369933959243), (114, 0.011997955147802884), (115, 0.006101243871265977), (116, 0.008068945053614572), (117, 0.0), (118, 0.0), (119, 0.0024818577639235213), (120, 0.1112064610558031), (121, 0.007857608538630502), (122, 0.0), (123, 0.002767677965529528), (124, 0.002309894961267029), (125, 0.0), (126, 0.0023867823247354235), (127, 0.0024631407761164254), (128, 0.0), (129, 0.008370207402768653), (130, 0.053726137060367114), (131, 0.0), (132, 0.007579634513267774), (133, 0.0), (134, 0.003511209422386772), (135, 0.0), (136, 0.002336061659069811), (137, 0.0), (138, 0.0), (139, 0.0038564242256374334), (140, 0.16340616585108578), (141, 0.003775332983842521), (142, 0.02471631640559447), (143, 0.0), (144, 0.011441212440401308), (145, 0.04882135243356754), (146, 0.010200828142750067), (147, 0.17087177690169425), (148, 0.0), (149, 0.0020889853633853325), (150, 0.0), (151, 0.0), (152, 0.0), (153, 0.004039760606390176), (154, 0.002374519356170396), (155, 0.0), (156, 0.00973736111274951), (157, 0.034724897813836204), (158, 0.029622286515573873), (159, 0.001979864257116862), (160, 0.0), (161, 0.010774148373804457), (162, 0.0), (163, 0.018717254052902567), (164, 0.0024071042897143937), (165, 0.0021868216397839322), (166, 0.0022341109317142427), (167, 0.002443831806889064), (168, 0.0), (169, 0.01177672221645727), (170, 0.0), (171, 0.0), (172, 0.002537713918848786), (173, 0.0026512483314557115), (174, 0.011839715403336372), (175, 0.0050384430831731065), (176, 0.002599363950845433), (177, 0.0), (178, 0.008993625827707186), (179, 0.0), (180, 0.0), (181, 0.0), (182, 0.006014440284435327), (183, 0.0023200194731344084), (184, 0.0022276057571468514), (185, 0.025049715789947642), (186, 0.0), (187, 0.0), (188, 0.003414730505686304), (189, 0.0), (190, 0.002158742222633969), (191, 0.0), (192, 0.009246754900399223), (193, 0.009039187708454863), (194, 0.006859380445758647), (195, 0.010075086442705536), (196, 0.0021247916921823505), (197, 0.011317826671633863), (198, 0.008674365701561083), (199, 0.002306612488365075), (200, 0.0022352521688932866), (201, 0.0), (202, 0.06182857663131341), (203, 0.0023935836613411554), (204, 0.0380914692183774), (205, 0.003639592914863016), (206, 0.002683454434131011), (207, 0.0), (208, 0.03440921875713974), (209, 0.12063083909359619), (210, 0.06650786814858253), (211, 0.016121646976269142), (212, 0.011217573435650118), (213, 0.0023544409818185424), (214, 0.003099412359631701), (215, 0.005861999045464903), (216, 0.0639769822337693), (217, 0.003350157024740785), (218, 0.007805195018175745), (219, 0.003497164525446349), (220, 0.0), (221, 0.008128623342776989), (222, 0.0022265350120863063), (223, 0.0), (224, 0.032509766729192674), (225, 0.014829051921484915), (226, 0.0025293458157435917), (227, 0.009136855195781043), (228, 0.0467362885060228), (229, 0.0023584155521710563), (230, 0.0), (231, 0.0), (232, 0.0), (233, 0.0), (234, 0.0), (235, 0.0028552799646688366), (236, 0.028060880768610304), (237, 0.0), (238, 0.006085776304395232), (239, 0.0), (240, 0.0), (241, 0.0), (242, 0.002190217588350819), (243, 0.0017809807293018242), (244, 0.0), (245, 0.0035256391738869557), (246, 0.03908064173529169), (247, 0.0025012336442107254), (248, 0.0), (249, 0.0022185276277559437), (250, 0.0), (251, 0.0021682043994811825), (252, 0.0022407607849186714), (253, 0.006523697759291248), (254, 0.0027882401281492503), (255, 0.008952626538945966), (256, 0.0018898981858567233), (257, 0.0), (258, 0.0), (259, 0.0), (260, 0.0), (261, 0.0), (262, 0.03404840988290511), (263, 0.0032526805233291166), (264, 0.0034418986106781206), (265, 0.0), (266, 0.001946427219174838), (267, 0.002143768827461003), (268, 0.002256237210616486), (269, 0.0021706473376536424), (270, 0.125027823697663), (271, 0.0065520740048047345), (272, 0.00601789479212572), (273, 0.0), (274, 0.0029045976301168832), (275, 0.006365785726674669), (276, 0.0023852188001230266), (277, 0.0), (278, 0.010323581622656704), (279, 0.011221318115506407), (280, 0.0025230784404841385), (281, 0.0028557655660758114), (282, 0.002492143225151305), (283, 0.0018512347237812788), (284, 0.0), (285, 0.0022910846909380135), (286, 0.0021707771115168292), (287, 0.002373657517697362), (288, 0.050348982789183185), (289, 0.0), (290, 0.0), (291, 0.0), (292, 0.0024543468513904313), (293, 0.0017986796140153452), (294, 0.0), (295, 0.0), (296, 0.0018959506142847023), (297, 0.0), (298, 0.024087915338023683), (299, 0.023055533112304995), (300, 0.0), (301, 0.0), (302, 0.005471225434906162), (303, 0.0), (304, 0.0), (305, 0.0), (306, 0.0), (307, 0.0023728386403008344), (308, 0.03340578503366619), (309, 0.046468188451272006), (310, 0.0), (311, 0.0032261604361194015), (312, 0.0095222974272048), (313, 0.0), (314, 0.0), (315, 0.0), (316, 0.0), (317, 0.0261581457618182), (318, 0.019677814694321383), (319, 0.0028163054782278534), (320, 0.0), (321, 0.0), (322, 0.0), (323, 0.0), (324, 0.0023315759527746437), (325, 0.01132689644880992), (326, 0.010470021407850447), (327, 0.0), (328, 0.0058464128108064), (329, 0.10460201590709638), (330, 0.001747915223414415), (331, 0.006827547484994355), (332, 0.0), (333, 0.0), (334, 0.027439079289304186), (335, 0.0), (336, 0.0024650924639218912), (337, 0.0), (338, 0.003135899959731005), (339, 0.0033261901867401556), (340, 0.0), (341, 0.0), (342, 0.0027557470628848026), (343, 0.03791368829431873), (344, 0.007230051257385708), (345, 0.0033312687792994688), (346, 0.005929060733984761), (347, 0.006040077249816029), (348, 0.0025041816981554005), (349, 0.0024534819139677296), (350, 0.006495884777049862), (351, 0.004552346338322312), (352, 0.0), (353, 0.002569222092931457), (354, 0.0), (355, 0.007883348214500195), (356, 0.03724162731398669), (357, 0.00514902807384926), (358, 0.03797229952749115), (359, 0.0023215134384033387), (360, 0.0), (361, 0.0036486102887595623), (362, 0.003794926759630425), (363, 0.00375587698937938), (364, 0.002176307728797872), (365, 0.0038169388802511257), (366, 0.0028030308594902313), (367, 0.0032927271528354527), (368, 0.004125768027339), (369, 0.0026305499803095313), (370, 0.1741608169772672), (371, 0.002783647903613981), (372, 0.00235702683732151), (373, 0.008102438642721841), (374, 0.0024958611474151624), (375, 0.0), (376, 0.0), (377, 0.0061479073030932686), (378, 0.002540526784850494), (379, 0.0), (380, 0.0), (381, 0.0), (382, 0.0), (383, 0.0030633297609926444), (384, 0.0), (385, 0.010468808355047068), (386, 0.0), (387, 0.0023857983012374484), (388, 0.00807078744276941), (389, 0.0), (390, 0.0), (391, 0.004402114892160429), (392, 0.0036510921606809545), (393, 0.0030438310736358967), (394, 0.0), (395, 0.0027141035295779933), (396, 0.0024309485704691104), (397, 0.0), (398, 0.009522623064144906), (399, 0.02768115525754334), (400, 0.002506466371582458), (401, 0.003483619497699432), (402, 0.00308384813820996), (403, 0.007246380033493633), (404, 0.003335601789802542), (405, 0.010138204594742128), (406, 0.008722651429979897), (407, 0.006859741790489392), (408, 0.008083047158230185), (409, 0.0031644705311521452), (410, 0.007953849385287284), (411, 0.0), (412, 0.002066693089737895), (413, 0.00734059212257011), (414, 0.002581133286738649), (415, 0.0036304487682169173), (416, 0.008617598714628652), (417, 0.0031926835529915813), (418, 0.0352423913875339), (419, 0.0028490997246824546), (420, 0.0), (421, 0.002658264525789971), (422, 0.003247560634166667), (423, 0.0), (424, 0.0), (425, 0.0), (426, 0.0), (427, 0.00329687164816545), (428, 0.002283893939785169), (429, 0.03130849198164161), (430, 0.0027227776558281236), (431, 0.014136038560687014), (432, 0.0021520533235573486), (433, 0.0020692731577184173), (434, 0.002393216635131474), (435, 0.0), (436, 0.0028302918797286783), (437, 0.0024003307441325373), (438, 0.0), (439, 0.0), (440, 0.0), (441, 0.0020904487918672354), (442, 0.0020975526989677686), (443, 0.0029259308527034506), (444, 0.0028186289837154226), (445, 0.0021655929019926174), (446, 0.0024677345135078565), (447, 0.002626758833951766), (448, 0.009868102447531849), (449, 0.0022878827227928687), (450, 0.0027758022595396063), (451, 0.0), (452, 0.0019052846582148458), (453, 0.0019343730611660983), (454, 0.0031900058258890283), (455, 0.006066662129723587), (456, 0.016341220997092933), (457, 0.002321777447471844), (458, 0.002822645576152266), (459, 0.0033673532826748133), (460, 0.0), (461, 0.004070347822655385), (462, 0.0), (463, 0.00234444586257841), (464, 0.008450650390647315), (465, 0.04990923087622122), (466, 0.002500969996191255), (467, 0.0), (468, 0.0), (469, 0.0), (470, 0.0026680264105837103), (471, 0.011193711735614125), (472, 0.008801619401155238), (473, 0.005398267347272858), (474, 0.00993679407261051), (475, 0.0029887770620256595), (476, 0.0027768603011317644), (477, 0.0), (478, 0.037374208758655804), (479, 0.0059598148159411505), (480, 0.0022197999928091033), (481, 0.0027510596502456322), (482, 0.002640419299023524), (483, 0.002670935090883812), (484, 0.0), (485, 0.0027109468481221442), (486, 0.0), (487, 0.028597493901434713), (488, 0.008269406700510615), (489, 0.01022720676336266), (490, 0.008465865510399765), (491, 0.0), (492, 0.0), (493, 0.009077233782019408), (494, 0.0034529459288612802), (495, 0.0022374173588012277), (496, 0.002159724414568232), (497, 0.003058699103731645), (498, 0.003276811323007077), (499, 0.002752981585768915), (500, 0.0), (501, 0.0), (502, 0.002648306619716615), (503, 0.0033435582448414513), (504, 0.012058994217963918), (505, 0.005668402147308985), (506, 0.002785409273674887), (507, 0.005602715045725197), (508, 0.006860870635248163), (509, 0.002594249803765843), (510, 0.009581315306499614), (511, 0.0), (512, 0.0), (513, 0.0), (514, 0.0), (515, 0.005378452693783498), (516, 0.0), (517, 0.0), (518, 0.0029656333852847933), (519, 0.002233584653510752), (520, 0.008262930657122212), (521, 0.0033093071438425503), (522, 0.002455572650845945), (523, 0.0), (524, 0.007842991092646221), (525, 0.0034187657441071082), (526, 0.0031810465681751912), (527, 0.0020026687225768803), (528, 0.00349980314055228), (529, 0.009515312267492646), (530, 0.10787168451693152), (531, 0.01548109329307425), (532, 0.0031916951889058762), (533, 0.0028452682520183196), (534, 0.002498484607473773), (535, 0.0033914699079923027), (536, 0.054624821211246156), (537, 0.0), (538, 0.00780091012579007), (539, 0.0), (540, 0.0), (541, 0.002446850078118922), (542, 0.0017739373256392705), (543, 0.031113905877083983), (544, 0.002567109163261959), (545, 0.003019428565908003), (546, 0.003316324599345329), (547, 0.007208068114609299), (548, 0.0), (549, 0.0), (550, 0.0), (551, 0.0026271954226966833), (552, 0.0), (553, 0.0), (554, 0.0), (555, 0.0), (556, 0.0), (557, 0.0), (558, 0.029886469447253906), (559, 0.0), (560, 0.0), (561, 0.0), (562, 0.0019191512298156919), (563, 0.002281077004455678), (564, 0.11998914511524753), (565, 0.0), (566, 0.0021223133704055333), (567, 0.0), (568, 0.0), (569, 0.0), (570, 0.0), (571, 0.0019504323502183543), (572, 0.0), (573, 0.0), (574, 0.0), (575, 0.0), (576, 0.009637595633903191), (577, 0.0030783925755305417), (578, 0.002387511472688312), (579, 0.012150772791119258), (580, 0.08858043705441607), (581, 0.0022796581062798334), (582, 0.011140952743534781), (583, 0.011689145106444235), (584, 0.0026175286859956353), (585, 0.003306515803281132), (586, 0.0035804072129365636), (587, 0.009402460811069165), (588, 0.008883896694820748), (589, 0.011108793011394868), (590, 0.0023315256609804168), (591, 0.0), (592, 0.10764303969993293), (593, 0.002580205946603897), (594, 0.005333282018353573), (595, 0.0), (596, 0.002834397266506685), (597, 0.0022739961186375533), (598, 0.0023569713812120405), (599, 0.0), (600, 0.0), (601, 0.0), (602, 0.0), (603, 0.0), (604, 0.0023265355403554056), (605, 0.010547185388404962), (606, 0.11826824270079217), (607, 0.006587850206176026), (608, 0.007749779355526655), (609, 0.009510550705929051), (610, 0.0), (611, 0.1337462032455896), (612, 0.009077109446344125), (613, 0.0), (614, 0.002902453122423586), (615, 0.0), (616, 0.0021081040789632305), (617, 0.0021357948919068295), (618, 0.0058767219959120565), (619, 0.0), (620, 0.0024296808780221437), (621, 0.0), (622, 0.002688013461741802), (623, 0.009080127087640442), (624, 0.002313843598571069), (625, 0.0), (626, 0.0021437999638206228), (627, 0.003425413786933311), (628, 0.0025504928739186546), (629, 0.0029680435130234038), (630, 0.0034729572767278638), (631, 0.0026010017321842394), (632, 0.09889223721950334), (633, 0.0), (634, 0.0), (635, 0.03262340008072918), (636, 0.0025547882568083867), (637, 0.0026196076510226892), (638, 0.007879640544503897), (639, 0.0), (640, 0.0), (641, 0.0018115081722913518), (642, 0.00218505694858489), (643, 0.002451339927902755), (644, 0.008121551689065067), (645, 0.02439913599388948), (646, 0.002432685260238881), (647, 0.002219554928975206), (648, 0.0032122288563492304), (649, 0.00896256069348439), (650, 0.0), (651, 0.0024422950477334168), (652, 0.002587487231249058), (653, 0.002200967738694503), (654, 0.0), (655, 0.007983659436552056), (656, 0.0), (657, 0.0022464191157896747), (658, 0.0), (659, 0.005558080338400431), (660, 0.008930518146100908), (661, 0.0), (662, 0.0033325623608145226), (663, 0.0), (664, 0.003081045520293293), (665, 0.012922812135882186), (666, 0.0), (667, 0.0036136841962696033), (668, 0.0), (669, 0.002327602003746734), (670, 0.0031175590404228203), (671, 0.00976500892447034), (672, 0.005320655771376751), (673, 0.0027605565601186654), (674, 0.0), (675, 0.002758720973896905), (676, 0.002452477974606631), (677, 0.0), (678, 0.003747089157205936), (679, 0.0039612568863951385), (680, 0.0026902848263678654), (681, 0.0), (682, 0.0), (683, 0.0028558371456130524), (684, 0.006273421604369301), (685, 0.0), (686, 0.0), (687, 0.00381341341247147), (688, 0.002802318169155291), (689, 0.002515817861976392), (690, 0.0031979630281125083), (691, 0.00482254220338843), (692, 0.0), (693, 0.008321055138334518), (694, 0.0023788524777391957), (695, 0.0), (696, 0.002546276876227602), (697, 0.012036662319593147), (698, 0.008088789525854364), (699, 0.0), (700, 0.006604459261038791), (701, 0.002823836781234797), (702, 0.00321579084139405), (703, 0.010647376477398858), (704, 0.0), (705, 0.007568777860498357), (706, 0.0020092480568380615), (707, 0.005018735533807904), (708, 0.0035462364382999006), (709, 0.007918903427622415), (710, 0.0031931362500350604), (711, 0.004037362405998234), (712, 0.005271681797968466), (713, 0.0), (714, 0.0), (715, 0.0027914952750500576), (716, 0.0026527289217772986), (717, 0.0026380470184031884), (718, 0.0), (719, 0.002032301074238323), (720, 0.003305770979762112), (721, 0.0028984907388023033), (722, 0.02299271064591185), (723, 0.0), (724, 0.0), (725, 0.0), (726, 0.007907401697509057), (727, 0.0024853748404709947), (728, 0.0027284394787231523), (729, 0.06893276561692398), (730, 0.003539157854414931), (731, 0.0024198350023190195), (732, 0.00225825624394164), (733, 0.007397161525327489), (734, 0.0023691310631363885), (735, 0.01636765991329884), (736, 0.009520271678022248), (737, 0.017396318139414918), (738, 0.0), (739, 0.0028866080978680216), (740, 0.0040028133908511536), (741, 0.015507064982311868), (742, 0.0023779048553438883), (743, 0.030698007677538112), (744, 0.0023394235374926903), (745, 0.0031779325236599423), (746, 0.0), (747, 0.0), (748, 0.0), (749, 0.0025312133198794806), (750, 0.0025771885652261604), (751, 0.004147671560972036), (752, 0.007193704304484557), (753, 0.03169729996237812), (754, 0.01013159647797914), (755, 0.0057987615249431735), (756, 0.0), (757, 0.004766239325399917), (758, 0.009530220342351205), (759, 0.005432649669336851), (760, 0.010848725250916146), (761, 0.002530068310566933), (762, 0.0), (763, 0.0), (764, 0.013801747626644578), (765, 0.0), (766, 0.002340660802318237), (767, 0.0023996757168013617), (768, 0.01315382311242373), (769, 0.0024965763688875307), (770, 0.003174697267169281), (771, 0.003703034813270464), (772, 0.0032974130597634016), (773, 0.009148361259487982), (774, 0.008858417722575788), (775, 0.0), (776, 0.006274267696831002), (777, 0.003040407883271686), (778, 0.007074524205665979), (779, 0.0), (780, 0.0032702063166408853), (781, 0.003619789426509148), (782, 0.0024274468479946), (783, 0.009006073865675016), (784, 0.009805533436442948), (785, 0.00946246594145683), (786, 0.007920631888330112), (787, 0.003649754941153098), (788, 0.013328291948668693), (789, 0.0), (790, 0.0), (791, 0.0027175784865938655), (792, 0.03447613564495343), (793, 0.0035696218067502055), (794, 0.002733834579284195), (795, 0.011177428937524839), (796, 0.007097884772170535), (797, 0.003587173836632906), (798, 0.002414087015263451), (799, 0.0024660645586639255), (800, 0.002273770395699266), (801, 0.0), (802, 0.0), (803, 0.0), (804, 0.002275261115918155), (805, 0.0023392725895692535), (806, 0.0026105823853131275), (807, 0.023766428811891428), (808, 0.002230131840323815), (809, 0.023673365947035733), (810, 0.0), (811, 0.0), (812, 0.0), (813, 0.009602177621150149), (814, 0.003530799878386379), (815, 0.002260013267384607), (816, 0.0020589435537506306), (817, 0.0024480275129920843), (818, 0.002389817035603203), (819, 0.005705586942460688), (820, 0.008353611668959121), (821, 0.0031478855039843903), (822, 0.0034517110142725784), (823, 0.0029158537326698037), (824, 0.020212836693351534), (825, 0.0), (826, 0.0026978950401126975), (827, 0.0), (828, 0.10250569778948751), (829, 0.0023238483549825988), (830, 0.008987062158407194), (831, 0.0017858554004699012), (832, 0.0025721497841999542), (833, 0.0), (834, 0.0), (835, 0.0), (836, 0.0030301256807373504), (837, 0.0026421734604608906), (838, 0.007949731238944342), (839, 0.0038833628455915126), (840, 0.0033277426214834756), (841, 0.003774122680735422), (842, 0.004202796910982288), (843, 0.0070307519372369825), (844, 0.018429977046168056), (845, 0.0026483542592685627), (846, 0.009683413508008068), (847, 0.01374537222798947), (848, 0.002551200591957071), (849, 0.0034349006768370854), (850, 0.0025753180487928418), (851, 0.005227186118926542), (852, 0.008178134973091973), (853, 0.0019559001922549047), (854, 0.002414220561101502), (855, 0.0), (856, 0.0022580429011159826), (857, 0.009440929496823519), (858, 0.0017080425887684837), (859, 0.008939203214611528), (860, 0.0029310009402469103), (861, 0.002178382032159417), (862, 0.0029943911754146822), (863, 0.0023123494348670014), (864, 0.0025561713219899823), (865, 0.008778498223402107), (866, 0.0023517098170621493), (867, 0.011813291398230197), (868, 0.002348721160722305), (869, 0.0035241091280904385), (870, 0.0024735802403590993), (871, 0.008784336084445909), (872, 0.006387867391338186), (873, 0.010126799501527211), (874, 0.00218154554575297), (875, 0.0), (876, 0.0028874253994642793), (877, 0.0), (878, 0.002389327261779128), (879, 0.012505382045146594), (880, 0.008426619646008052), (881, 0.0), (882, 0.0), (883, 0.011450165585301195), (884, 0.006207960442575112), (885, 0.010751379248794515), (886, 0.005593969032097117), (887, 0.002750619575802795), (888, 0.0028036625886296144), (889, 0.0032556314374997315), (890, 0.06451629939670335), (891, 0.0), (892, 0.002977688237796224), (893, 0.09556706008745328), (894, 0.0025059289155320214), (895, 0.002356810890877377), (896, 0.0027635044042254855), (897, 0.11540285011562476), (898, 0.0030963379479370776), (899, 0.023588271985294704), (900, 0.0023652240362495793), (901, 0.002095282674581122), (902, 0.0), (903, 0.005593144282818331), (904, 0.004046064991671707), (905, 0.003976063871805939), (906, 0.0), (907, 0.011022969512222244), (908, 0.003511376392053284), (909, 0.0), (910, 0.0023156740580487587), (911, 0.002396589389576299), (912, 0.0030224213652678598), (913, 0.0), (914, 0.0), (915, 0.0), (916, 0.00318486991481114), (917, 0.0022643090296249747), (918, 0.0), (919, 0.0), (920, 0.0031553760568715328), (921, 0.036336903585742625), (922, 0.0028381520405286985), (923, 0.005746219647734574), (924, 0.007446916152207361), (925, 0.006860889462719335), (926, 0.007375916427771134), (927, 0.0), (928, 0.0), (929, 0.006167225846139528), (930, 0.009074423400323803), (931, 0.0034347949025226375), (932, 0.0), (933, 0.006093814576677532), (934, 0.002305509270291723), (935, 0.002352933766995076), (936, 0.0022761385795570517), (937, 0.0029555048058887076), (938, 0.009479280860843289), (939, 0.0056280217741604705), (940, 0.008388869992528407), (941, 0.005588557878001509), (942, 0.0020565554013640647), (943, 0.0034454075143899613), (944, 0.00796529300354562), (945, 0.0034803460067490567), (946, 0.009410779175391695), (947, 0.003412379521714595), (948, 0.011907343123474513), (949, 0.0030089697838113264), (950, 0.007033072965652456), (951, 0.005037152056015515), (952, 0.0027345681987787905), (953, 0.0020367966400553603), (954, 0.08011764788455696), (955, 0.0040526719051862566), (956, 0.003765837888570013), (957, 0.005448451555942653), (958, 0.0031416341023404095), (959, 0.008304053267949899), (960, 0.0), (961, 0.0035562194058709404), (962, 0.0023986953795073957), (963, 0.002364645919798615), (964, 0.0028653807939086865), (965, 0.0034296515091711273), (966, 0.008072132780872626), (967, 0.002792922061815053), (968, 0.002291526316041367), (969, 0.006090270073093585), (970, 0.002904023209893861), (971, 0.009734026441749087), (972, 0.0026327466192776327), (973, 0.011809329480265092), (974, 0.0), (975, 0.008003536802550396), (976, 0.0), (977, 0.0), (978, 0.00635842433039755), (979, 0.0), (980, 0.002614502852085199), (981, 0.0022774240436038277), (982, 0.010402939181272277), (983, 0.009288110243580653), (984, 0.0056757126486294066), (985, 0.013711730401165627), (986, 0.0025277615977851906), (987, 0.002623833065936295), (988, 0.002512636080117364), (989, 0.0024881429622822617), (990, 0.0037757929334526073), (991, 0.002715439234550598), (992, 0.0), (993, 0.0025482975094122274), (994, 0.0025707783226649756), (995, 0.044814269558187694), (996, 0.004850168229897322), (997, 0.0), (998, 0.013588343739944109), (999, 0.013577222627648237), (1000, 0.002275305766969784), (1001, 0.002410991480512099), (1002, 0.01469565595270124), (1003, 0.030542715801187326), (1004, 0.0022674097954387077), (1005, 0.0019335639192526344), (1006, 0.006233845803854818), (1007, 0.11785475489365976), (1008, 0.0029452665493637327), (1009, 0.0022441567347571832), (1010, 0.0029071240750307755), (1011, 0.0), (1012, 0.0), (1013, 0.00363183005570959), (1014, 0.0), (1015, 0.0027345272675430654), (1016, 0.0), (1017, 0.0024588111514261568), (1018, 0.0), (1019, 0.004801027242015257), (1020, 0.030324980505719443), (1021, 0.005943490198383224), (1022, 0.0034214472995106864), (1023, 0.009610098047793355), (1024, 0.003579920764169034), (1025, 0.0030629690341599284), (1026, 0.008389293392479583), (1027, 0.008175200147191166), (1028, 0.0033923020511389883), (1029, 0.003252607955026525), (1030, 0.002448719643861264), (1031, 0.0), (1032, 0.0023893115590520072), (1033, 0.02452766272387539), (1034, 0.008187369404828622), (1035, 0.002457533705398496), (1036, 0.002385875537484688), (1037, 0.0020578127075744743), (1038, 0.008636929929400523), (1039, 0.0), (1040, 0.00936201391080984), (1041, 0.00237455869818536), (1042, 0.00211275860318577), (1043, 0.032645835403015654), (1044, 0.002450566937237726), (1045, 0.0), (1046, 0.0), (1047, 0.0035811335714663584), (1048, 0.0026287664526044754), (1049, 0.014213301448487696), (1050, 0.002155107877529496), (1051, 0.0), (1052, 0.007914836620229605), (1053, 0.010055740999059967), (1054, 0.0), (1055, 0.027844070198916843), (1056, 0.0), (1057, 0.0), (1058, 0.0), (1059, 0.0025040791836911424), (1060, 0.008248709352071873), (1061, 0.008513708507145064), (1062, 0.0028739622306992786), (1063, 0.0), (1064, 0.0030648086658614446), (1065, 0.007814100824283927), (1066, 0.0), (1067, 0.02199305190900945), (1068, 0.02132518937693025), (1069, 0.02579962482388385), (1070, 0.002937744110300033), (1071, 0.0026995715788405436), (1072, 0.002505542390327848), (1073, 0.008990797728329294), (1074, 0.0034477255995729555), (1075, 0.01534750271352976), (1076, 0.0), (1077, 0.008734166222849206), (1078, 0.004969098788131327), (1079, 0.0054870864591253735), (1080, 0.007696436840193516), (1081, 0.0), (1082, 0.0), (1083, 0.002632039907212235), (1084, 0.011745260971884428), (1085, 0.0035040380405188527), (1086, 0.0), (1087, 0.002571817275687461), (1088, 0.0051007091129750435), (1089, 0.0037789295879592723), (1090, 0.0), (1091, 0.0), (1092, 0.0), (1093, 0.003106601389621251), (1094, 0.00925482410094208), (1095, 0.0), (1096, 0.002461043833985493), (1097, 0.0), (1098, 0.002062815771674209), (1099, 0.0036446860686988655), (1100, 0.005868108848455794), (1101, 0.0), (1102, 0.0025106694184626158), (1103, 0.0037038254418333546), (1104, 0.0), (1105, 0.0034882036213387756), (1106, 0.006494215528311454), (1107, 0.002353645581845605), (1108, 0.0035070736675499262), (1109, 0.017102649765729252), (1110, 0.002486525611224111), (1111, 0.0), (1112, 0.005943002361341378), (1113, 0.003318111081352294), (1114, 0.0023300061263454496), (1115, 0.002761832795630477), (1116, 0.0), (1117, 0.005732093522579763), (1118, 0.0), (1119, 0.0027008679636146794), (1120, 0.0), (1121, 0.0031693077676814858), (1122, 0.008704045123633389), (1123, 0.002404195902291516), (1124, 0.006186126270951886), (1125, 0.003302940759549866), (1126, 0.009338254284983175), (1127, 0.0), (1128, 0.0), (1129, 0.0), (1130, 0.0033680562382776063), (1131, 0.0025381348941677442), (1132, 0.002404130951770589), (1133, 0.003429776672720406), (1134, 0.0), (1135, 0.0), (1136, 0.0022177430035168456), (1137, 0.0), (1138, 0.0025589608283693543), (1139, 0.003232937792586405), (1140, 0.0027086037779257936), (1141, 0.0027034119760265644), (1142, 0.0036008500005101102), (1143, 0.0), (1144, 0.002016840041457996), (1145, 0.01182216992577607), (1146, 0.0), (1147, 0.0), (1148, 0.0028561903219689357), (1149, 0.003168640336273919), (1150, 0.0), (1151, 0.0), (1152, 0.003186599992369907), (1153, 0.0024099328551897546), (1154, 0.0), (1155, 0.0035648888825254837), (1156, 0.0028216293628694792), (1157, 0.008676974865638561), (1158, 0.0), (1159, 0.005957378058405106), (1160, 0.002401096930354029), (1161, 0.0022835325786577563), (1162, 0.0), (1163, 0.0025252340281637572), (1164, 0.0), (1165, 0.003560395032924955), (1166, 0.003503668804993873), (1167, 0.0), (1168, 0.003037728381750437), (1169, 0.006983382723328761), (1170, 0.012000022232068686), (1171, 0.0), (1172, 0.0), (1173, 0.003110513200452466), (1174, 0.00258610580021685), (1175, 0.00862803978535382), (1176, 0.0025822301466394515), (1177, 0.0023829777641922933), (1178, 0.002919861086701495), (1179, 0.0025293417968759112), (1180, 0.012010181288331737), (1181, 0.055717511803205895), (1182, 0.002580972157955259), (1183, 0.002348058844684463), (1184, 0.04454168260172857), (1185, 0.0), (1186, 0.0022212238700736694), (1187, 0.014083056645133745), (1188, 0.031355542743742915), (1189, 0.0), (1190, 0.008990977898944454), (1191, 0.0025396693589781086), (1192, 0.0026504251961429336), (1193, 0.0036017130176430492), (1194, 0.003003060552349906), (1195, 0.0), (1196, 0.0034147317674686263), (1197, 0.0), (1198, 0.003402337703708407), (1199, 0.01057387828188842), (1200, 0.008595695961696164), (1201, 0.014602827007527611), (1202, 0.0021457424559486976), (1203, 0.005602378635947749), (1204, 0.006053969724639251), (1205, 0.0036572055190272185), (1206, 0.0023647923044498556), (1207, 0.0), (1208, 0.015281776976911481), (1209, 0.0021080564523257308), (1210, 0.0), (1211, 0.0032569033542000072), (1212, 0.0029652075955413034), (1213, 0.0030193404237981595), (1214, 0.0028821294190582328), (1215, 0.002165324260620534), (1216, 0.01086939644205747), (1217, 0.010406280337778386), (1218, 0.0), (1219, 0.007669691702864015), (1220, 0.00771638479350031), (1221, 0.0), (1222, 0.002881393643299764), (1223, 0.0025394770846326026), (1224, 0.0062286193706721634), (1225, 0.0026686809492357006), (1226, 0.0), (1227, 0.003433680170494227), (1228, 0.0), (1229, 0.0026409860652234036), (1230, 0.0), (1231, 0.003293673276051824), (1232, 0.0060128890237572275), (1233, 0.0), (1234, 0.006318500696315612), (1235, 0.003338179449872343), (1236, 0.005474488342147491), (1237, 0.007760779805565277), (1238, 0.003413737130389323), (1239, 0.0), (1240, 0.0), (1241, 0.002079603391938177), (1242, 0.0031443526396139564), (1243, 0.006508197400614842), (1244, 0.0035453748743412283), (1245, 0.008287224709938153), (1246, 0.0037131784932188947), (1247, 0.008257539691981324), (1248, 0.008214147638113792), (1249, 0.0029798954133480097), (1250, 0.0), (1251, 0.0052800465089047535), (1252, 0.002506326033095579), (1253, 0.0), (1254, 0.002592643134553584), (1255, 0.0024035946928107127), (1256, 0.008929016523630682), (1257, 0.0024927811696915745), (1258, 0.0), (1259, 0.0), (1260, 0.0038341358990587947), (1261, 0.011605375384166615), (1262, 0.0), (1263, 0.0), (1264, 0.0030472043924586927), (1265, 0.0), (1266, 0.0), (1267, 0.003322708569942322), (1268, 0.0027516869546188624), (1269, 0.0), (1270, 0.08220990157589048), (1271, 0.0), (1272, 0.0), (1273, 0.008136606317099367), (1274, 0.0), (1275, 0.002918893473556741), (1276, 0.0), (1277, 0.004462048458509003), (1278, 0.0025622226466566465), (1279, 0.0), (1280, 0.0), (1281, 0.0), (1282, 0.0036746048423822106), (1283, 0.0), (1284, 0.005808448736400639), (1285, 0.0), (1286, 0.011751014775637808), (1287, 0.0), (1288, 0.0031273498115262357), (1289, 0.002823877570836919), (1290, 0.0022411313352889736), (1291, 0.003183844330869695), (1292, 0.0033800206046470903), (1293, 0.0033037125421311645), (1294, 0.0025969070351335053), (1295, 0.0), (1296, 0.0), (1297, 0.006880092716148272), (1298, 0.028865306941748863), (1299, 0.003608149678920471), (1300, 0.002906378405159083), (1301, 0.0022100638083058597), (1302, 0.009591524982746921), (1303, 0.002039585363603984), (1304, 0.005968843144199706), (1305, 0.0070678788609633714), (1306, 0.0018441085379655776), (1307, 0.0), (1308, 0.005474359379195864), (1309, 0.005883415732843899), (1310, 0.023914365076394425), (1311, 0.0038560000419887107), (1312, 0.005035419817397805), (1313, 0.09285103932508379), (1314, 0.0), (1315, 0.0), (1316, 0.0), (1317, 0.00971181902815774), (1318, 0.005321489545478973), (1319, 0.0024818800650225612), (1320, 0.0026981824789497895), (1321, 0.003955818961122815), (1322, 0.0034989380378095624), (1323, 0.002953183116906558), (1324, 0.009119677073538139), (1325, 0.002741886713128654), (1326, 0.0028058730404909296), (1327, 0.003268492361412567), (1328, 0.0), (1329, 0.012724011326140157), (1330, 0.0033740993267526737), (1331, 0.0031504338299076437), (1332, 0.0), (1333, 0.003665365459938596), (1334, 0.002596865108126092), (1335, 0.002554881133381748), (1336, 0.003609023323491398), (1337, 0.0060892173212030234), (1338, 0.0024880685742635893), (1339, 0.0026888575033995844), (1340, 0.005067316693564629), (1341, 0.002821037317013629), (1342, 0.0), (1343, 0.0), (1344, 0.0027793661197185256), (1345, 0.009435898123396796), (1346, 0.006054084331296757), (1347, 0.0), (1348, 0.0029939401600046415), (1349, 0.0028503170393359535), (1350, 0.008327849049187782), (1351, 0.0018655776111597237), (1352, 0.07200620984767055), (1353, 0.003195876284652713), (1354, 0.0), (1355, 0.0025905344031436233), (1356, 0.021658181718947983), (1357, 0.0023312310704982162), (1358, 0.0), (1359, 0.010105109605157491), (1360, 0.0023023230829452945), (1361, 0.003491458554420706), (1362, 0.007027611083928984), (1363, 0.008974959721539102), (1364, 0.012446327160833957), (1365, 0.007219466417460376), (1366, 0.007711922235991505), (1367, 0.004982873500295252), (1368, 0.003316315508461328), (1369, 0.0020704782272791974), (1370, 0.0051449048022280276), (1371, 0.0038181009593743513), (1372, 0.032875100057596925), (1373, 0.0033299229529048543), (1374, 0.0), (1375, 0.0024043344085308976), (1376, 0.0032637807513121488), (1377, 0.0020406256074769094), (1378, 0.008542125926818779), (1379, 0.0029791811916388853), (1380, 0.0), (1381, 0.0), (1382, 0.012372334875667506), (1383, 0.002855589135228959), (1384, 0.0), (1385, 0.0025328741116977774), (1386, 0.0), (1387, 0.002283660889907715), (1388, 0.003452134269220138), (1389, 0.003619442546148104), (1390, 0.0036979239756155667), (1391, 0.0), (1392, 0.008361115645180545), (1393, 0.0), (1394, 0.010619830150611128), (1395, 0.0), (1396, 0.0), (1397, 0.005159930823868501), (1398, 0.009896916020680073), (1399, 0.0), (1400, 0.0026665762150302266), (1401, 0.0036294802598650284), (1402, 0.0026526626511342), (1403, 0.009209441253989464), (1404, 0.002391232964263159), (1405, 0.008313991572966898), (1406, 0.0), (1407, 0.0), (1408, 0.011674058505907957), (1409, 0.006383482454260509), (1410, 0.012114654683422463), (1411, 0.005896259808079606), (1412, 0.0), (1413, 0.002567332947094628), (1414, 0.0022567976622497408), (1415, 0.0070045845674890144), (1416, 0.028547746681683892), (1417, 0.001974665043362363), (1418, 0.0), (1419, 0.0), (1420, 0.003423176811513611), (1421, 0.008241900982166843), (1422, 0.009156270861801164), (1423, 0.007587505589336159), (1424, 0.010796669395512814), (1425, 0.003496599757444956), (1426, 0.0), (1427, 0.009825843943877978), (1428, 0.0), (1429, 0.0030411357499877524), (1430, 0.0), (1431, 0.0), (1432, 0.0035803293905349314), (1433, 0.002353475653252909), (1434, 0.0023096032287687773), (1435, 0.0), (1436, 0.0), (1437, 0.0038947778672293073), (1438, 0.008466806055268696), (1439, 0.002648688456031851), (1440, 0.0025687451931851817), (1441, 0.010194663753672535), (1442, 0.005008860243547365), (1443, 0.0), (1444, 0.0034202216613033903), (1445, 0.009880841876154475), (1446, 0.0057180353405108485), (1447, 0.0033902241261215458), (1448, 0.0023374539729801164), (1449, 0.0), (1450, 0.002179987094216828), (1451, 0.0), (1452, 0.0), (1453, 0.0076089946281063334), (1454, 0.00277853738073987), (1455, 0.0), (1456, 0.002348031457546374), (1457, 0.008806943924791269), (1458, 0.0), (1459, 0.0), (1460, 0.0), (1461, 0.06331810024752967), (1462, 0.0023202866135329657), (1463, 0.008242963978894485), (1464, 0.0020721784984064177), (1465, 0.005173147463777212), (1466, 0.0), (1467, 0.0), (1468, 0.0030466639884906433), (1469, 0.003558301785585233), (1470, 0.0), (1471, 0.0018759210386699945), (1472, 0.008648783637396788), (1473, 0.003481452605374703), (1474, 0.002821142831651305), (1475, 0.008912581503371432), (1476, 0.01214399160702203), (1477, 0.005503587887760759), (1478, 0.02450388377265155), (1479, 0.013146703166088427), (1480, 0.0), (1481, 0.0024483957239960566), (1482, 0.008266090477907082), (1483, 0.002510071474056246), (1484, 0.002675907797344463), (1485, 0.008532085841366891), (1486, 0.0037853086826710163), (1487, 0.003258831065718223), (1488, 0.009427672492461738), (1489, 0.013468865543432584), (1490, 0.0032840683282856363), (1491, 0.0037456839469061274), (1492, 0.02292975040236087), (1493, 0.0), (1494, 0.006147004890047103), (1495, 0.026956943375648277), (1496, 0.0032298835393106593), (1497, 0.002887060447699567), (1498, 0.0028123858725764782), (1499, 0.0028318022194358462), (1500, 0.0024994659349535514), (1501, 0.009444890785774469), (1502, 0.0), (1503, 0.0022935903594137872), (1504, 0.0), (1505, 0.0034471172149454343), (1506, 0.008208548953441003), (1507, 0.003936077482146546), (1508, 0.0067699300325194086), (1509, 0.0017281568359473493), (1510, 0.0025538168106756065), (1511, 0.0), (1512, 0.0), (1513, 0.006215695021527006), (1514, 0.00234114898745687), (1515, 0.0), (1516, 0.006145043311449468), (1517, 0.0034220564290838675), (1518, 0.012909536120396099), (1519, 0.002339283045424528), (1520, 0.0036897340718882897), (1521, 0.0029685642296296806), (1522, 0.02328545960164824), (1523, 0.008079250875033146), (1524, 0.00314794409834847), (1525, 0.003524131226067019), (1526, 0.0032845825710448953), (1527, 0.002475739433582195), (1528, 0.005419592522380211), (1529, 0.0), (1530, 0.004929789322595723), (1531, 0.0), (1532, 0.003262650398857414), (1533, 0.012158949785318555), (1534, 0.031097872465937162), (1535, 0.0), (1536, 0.0062597514909467295), (1537, 0.0063883052393770585), (1538, 0.0022961769431410757), (1539, 0.06652351156424986), (1540, 0.0), (1541, 0.005873799948951002), (1542, 0.0035586711786734088), (1543, 0.011043387369585551), (1544, 0.0032994872447751067), (1545, 0.003296021553096451), (1546, 0.0), (1547, 0.03479369528171889), (1548, 0.0), (1549, 0.00932841308165686), (1550, 0.002494444891468354), (1551, 0.0), (1552, 0.0032862765996027783), (1553, 0.0022326040707174068), (1554, 0.0), (1555, 0.0023549587375338043), (1556, 0.0), (1557, 0.0035318967838136074), (1558, 0.06464020159533673), (1559, 0.0), (1560, 0.0038732691414031283), (1561, 0.003303767352874732), (1562, 0.0), (1563, 0.007468488703499855), (1564, 0.0035202356168997904), (1565, 0.012453102794740172), (1566, 0.0060245277158499705), (1567, 0.0031135588970955075), (1568, 0.0), (1569, 0.008491010055968933), (1570, 0.002660407987356114), (1571, 0.004933180520704284), (1572, 0.006349004690131907), (1573, 0.0), (1574, 0.0025527955904234025), (1575, 0.0), (1576, 0.0), (1577, 0.003467173143336236), (1578, 0.003620109304286485), (1579, 0.0), (1580, 0.0027914196155158014), (1581, 0.10482356059297086), (1582, 0.005728434563325122), (1583, 0.003765654280751118), (1584, 0.0), (1585, 0.013194512958305319), (1586, 0.002746008282330317), (1587, 0.0034987431704375247), (1588, 0.0), (1589, 0.009263590302855347), (1590, 0.0), (1591, 0.0), (1592, 0.006667084377743162), (1593, 0.0030656727389004102), (1594, 0.013420428051664067), (1595, 0.002289296303547), (1596, 0.003651104459159755), (1597, 0.005747815371691766), (1598, 0.005890154949610144), (1599, 0.0034800591187828843), (1600, 0.0), (1601, 0.003050927093918734), (1602, 0.003566178216092604), (1603, 0.0), (1604, 0.029626247939341033), (1605, 0.10347098107975285), (1606, 0.005599910094893104), (1607, 0.0), (1608, 0.0022329171284854866), (1609, 0.003667898960142532), (1610, 0.008755702381676587), (1611, 0.0034735788788055775), (1612, 0.008513404421017362), (1613, 0.0035751910828673017), (1614, 0.003677017482519098), (1615, 0.004070346968321951), (1616, 0.010533672481940363), (1617, 0.002469641054208101), (1618, 0.009156959365322048), (1619, 0.00911096454017805), (1620, 0.00236540714380378), (1621, 0.0024938267845490527), (1622, 0.0), (1623, 0.0), (1624, 0.006957043207161041), (1625, 0.0022747310161707317), (1626, 0.003114428585449049), (1627, 0.002162401178380501), (1628, 0.007822647885417347), (1629, 0.008825079719879322), (1630, 0.0), (1631, 0.0), (1632, 0.0), (1633, 0.0), (1634, 0.015286774888537639), (1635, 0.0), (1636, 0.0), (1637, 0.006400420672981035), (1638, 0.0034238367955306114), (1639, 0.008005839866063399), (1640, 0.003712366493774612), (1641, 0.0023458360936394404), (1642, 0.005522412357407799), (1643, 0.002655815051732808), (1644, 0.0034332823197928213), (1645, 0.002443833196508486), (1646, 0.0027655732137936567), (1647, 0.0), (1648, 0.006384582057320965), (1649, 0.0), (1650, 0.002345736991389789), (1651, 0.0), (1652, 0.0030487791829295658), (1653, 0.0024668784038154768), (1654, 0.003280899286029345), (1655, 0.0103996388868119), (1656, 0.006840949461176329), (1657, 0.0), (1658, 0.00660611929140821), (1659, 0.0), (1660, 0.006234364051102528), (1661, 0.0), (1662, 0.0), (1663, 0.005621216910554935), (1664, 0.0), (1665, 0.0023685733418296983), (1666, 0.0084309001092275), (1667, 0.0023313834537164705), (1668, 0.0033093880483081313), (1669, 0.0), (1670, 0.002662526756855078), (1671, 0.0024491723452273926), (1672, 0.002315782407886524), (1673, 0.0031998595825892396), (1674, 0.0), (1675, 0.0023045424213955098), (1676, 0.0027444174559028175), (1677, 0.009430286309502992), (1678, 0.0025152396767291205), (1679, 0.0037241946958201998), (1680, 0.002297457855709479), (1681, 0.0), (1682, 0.008022877251242292), (1683, 0.0063850827733755834), (1684, 0.0030108066687660404), (1685, 0.009045383166728337), (1686, 0.0), (1687, 0.002682150767137904), (1688, 0.006084472143232305), (1689, 0.00360618066004685), (1690, 0.013896238624418078), (1691, 0.0021584814994497423), (1692, 0.0), (1693, 0.011254354268321009), (1694, 0.0030517339077354047), (1695, 0.0027820430310479516), (1696, 0.029301256991998547), (1697, 0.003537990033523387), (1698, 0.002968920514710659), (1699, 0.0), (1700, 0.003275729330623541), (1701, 0.0), (1702, 0.0035724558434558325), (1703, 0.0026173670879285995), (1704, 0.0), (1705, 0.0), (1706, 0.0025527324998427916), (1707, 0.009465781674296962), (1708, 0.0027170155389460477), (1709, 0.003222217397488932), (1710, 0.0023962738784838993), (1711, 0.0031722917826627153), (1712, 0.0027039857545144677), (1713, 0.0), (1714, 0.0031425224224683026), (1715, 0.006156774156392601), (1716, 0.0028370299770777412), (1717, 0.0026053044233252435), (1718, 0.009912549124531189), (1719, 0.010817803462097597), (1720, 0.0), (1721, 0.003216320925240787), (1722, 0.012104302851681167), (1723, 0.0), (1724, 0.0), (1725, 0.0), (1726, 0.0035271007941672715), (1727, 0.006203902612372454), (1728, 0.0), (1729, 0.003130561064218151), (1730, 0.0023062907623953893), (1731, 0.034861042383369456), (1732, 0.003673613769029065), (1733, 0.006542419975010026), (1734, 0.0036015099267017146), (1735, 0.0035446353450641955), (1736, 0.00264823239159912), (1737, 0.003666443825434327), (1738, 0.0032629942156107853), (1739, 0.002274571341174872), (1740, 0.0025805430885920445), (1741, 0.0034649777156188113), (1742, 0.0023919014524887107), (1743, 0.00727715020981278), (1744, 0.011434935562985582), (1745, 0.0), (1746, 0.008825963992249507), (1747, 0.024598674753635377), (1748, 0.002961749757973852), (1749, 0.0), (1750, 0.003071768724975442), (1751, 0.003477563422658055), (1752, 0.002841797040344114), (1753, 0.0), (1754, 0.002786685385120281), (1755, 0.0), (1756, 0.0), (1757, 0.0033859710478272454), (1758, 0.003974589223762196), (1759, 0.034721773319767404), (1760, 0.0023388641412819345), (1761, 0.0), (1762, 0.007626928185489551), (1763, 0.007321232350413768), (1764, 0.007410709544752184), (1765, 0.00617130693603511), (1766, 0.003792934338397809), (1767, 0.0033018267661785315), (1768, 0.008789971156324811), (1769, 0.0034733879315716303), (1770, 0.03213002217347763), (1771, 0.00921984216500503), (1772, 0.0), (1773, 0.0), (1774, 0.0019315282493088917), (1775, 0.0), (1776, 0.0022278539230581257), (1777, 0.003531191973029931), (1778, 0.008808461843633259), (1779, 0.002693276141868724), (1780, 0.0016502120696450932), (1781, 0.002924563195899449), (1782, 0.007819364820035394), (1783, 0.0032340814814631027), (1784, 0.0031211098147739826), (1785, 0.003252403376619734), (1786, 0.010400955063047891), (1787, 0.008956913488405601), (1788, 0.0032321192091641893), (1789, 0.0), (1790, 0.004097422959646038), (1791, 0.0036591926733327185), (1792, 0.007012099202106643), (1793, 0.002370993331460796), (1794, 0.003145117811455092), (1795, 0.0), (1796, 0.002308109627460251), (1797, 0.008290786953259044), (1798, 0.009178075385336815), (1799, 0.0), (1800, 0.0), (1801, 0.00212446298287034), (1802, 0.005127173781054835), (1803, 0.014081472091353409), (1804, 0.00948556539153157), (1805, 0.0027561466585737143), (1806, 0.010324351809192169), (1807, 0.0024813190806077614), (1808, 0.0022687090341450234), (1809, 0.0), (1810, 0.0), (1811, 0.002509349480302168), (1812, 0.0), (1813, 0.0024559439758987545), (1814, 0.0023292212547402352), (1815, 0.0), (1816, 0.011623070628545026), (1817, 0.0), (1818, 0.0032571428726476184), (1819, 0.00796494701499406), (1820, 0.0), (1821, 0.012578299030496964), (1822, 0.006298744805099548), (1823, 0.0), (1824, 0.003230881481908924), (1825, 0.0), (1826, 0.044069581734188235), (1827, 0.010839223153867681), (1828, 0.0021827765692842313), (1829, 0.0), (1830, 0.005287018668746259), (1831, 0.002501233845772871), (1832, 0.0), (1833, 0.010263941701342906), (1834, 0.0034074970582753084), (1835, 0.0), (1836, 0.0038163135002381794), (1837, 0.0034034324319037507), (1838, 0.0), (1839, 0.003282391812134938), (1840, 0.0), (1841, 0.0), (1842, 0.0033630058377083255), (1843, 0.0028692045206899575), (1844, 0.0037736268280151976), (1845, 0.03301675854762615), (1846, 0.0), (1847, 0.003548761512492514), (1848, 0.006423268835135292), (1849, 0.0033837274230706983), (1850, 0.0029646549446690337), (1851, 0.0124790180063788), (1852, 0.0), (1853, 0.002677645461647674), (1854, 0.0024152655660091803), (1855, 0.0032149243815264737), (1856, 0.0036553208574237168), (1857, 0.0), (1858, 0.009566354023628796), (1859, 0.0), (1860, 0.008792313526937965), (1861, 0.007128169292251062), (1862, 0.0028331524887183846), (1863, 0.019914958572382138), (1864, 0.002433106913029232), (1865, 0.0022949189068748863), (1866, 0.00933527198716679), (1867, 0.00933952248157155), (1868, 0.006438119268870738), (1869, 0.0077406135752716735), (1870, 0.0030720694989002585), (1871, 0.009540287425721258), (1872, 0.0025585827197352083), (1873, 0.0), (1874, 0.0027338690101606426), (1875, 0.007850891501257347), (1876, 0.002544224896982685), (1877, 0.005693828434373292), (1878, 0.011381129604617353), (1879, 0.0034773101956040685), (1880, 0.00922024140213156), (1881, 0.00989129695440009), (1882, 0.0024785584383978485), (1883, 0.007796656962700651), (1884, 0.0023644247975805354), (1885, 0.01001730965178181), (1886, 0.002010654471251279), (1887, 0.002866742902959814), (1888, 0.012666206843274023), (1889, 0.0034895725179462616), (1890, 0.002806973229207098), (1891, 0.002507743269516643), (1892, 0.044253979157069155), (1893, 0.01626782534954259), (1894, 0.0), (1895, 0.0032378773515812026), (1896, 0.0026836371551861044), (1897, 0.009269621292758446), (1898, 0.02477567362140152), (1899, 0.0032042829702907012), (1900, 0.0033091853693729455), (1901, 0.0), (1902, 0.006271789379059747), (1903, 0.008846418558841909), (1904, 0.0), (1905, 0.01306811022669656), (1906, 0.0034488283780931307), (1907, 0.006422728317184382), (1908, 0.0), (1909, 0.00970386393580043), (1910, 0.0), (1911, 0.0035693990315663077), (1912, 0.003290779774230355), (1913, 0.0033919462829322556), (1914, 0.0032303304763150386), (1915, 0.0032687794237789367), (1916, 0.0026657774359346176), (1917, 0.0035282658220717926), (1918, 0.0026720623301646506), (1919, 0.02328231521615571), (1920, 0.0023389878086387387), (1921, 0.0022607878501680763), (1922, 0.0025536616702963115), (1923, 0.0066267621829524765), (1924, 0.0028900283661474416), (1925, 0.0), (1926, 0.003652317763221622), (1927, 0.0), (1928, 0.0038858491852439684), (1929, 0.0056883424786590385), (1930, 0.0), (1931, 0.002584630702812096), (1932, 0.0), (1933, 0.0), (1934, 0.0022587625835831676), (1935, 0.011703945969275917), (1936, 0.002585454449761876), (1937, 0.0), (1938, 0.0028657389095192985), (1939, 0.004561515032215432), (1940, 0.0), (1941, 0.004113874105381856), (1942, 0.00869810049163896), (1943, 0.00519358762785955), (1944, 0.0028547396784703574), (1945, 0.0), (1946, 0.008785265034345329), (1947, 0.006926729528696339), (1948, 0.0), (1949, 0.0035633823737395314), (1950, 0.0069832806710372055), (1951, 0.01636420529173789), (1952, 0.0), (1953, 0.0), (1954, 0.0052856056650280574), (1955, 0.009933489210432281), (1956, 0.009565479100934998), (1957, 0.00288761495978382), (1958, 0.0), (1959, 0.0027364170965731033), (1960, 0.0028008540538498037), (1961, 0.003540912929701182), (1962, 0.0), (1963, 0.007651316879276577), (1964, 0.0022867333239685625), (1965, 0.003590186837241077), (1966, 0.0), (1967, 0.002457523560977819), (1968, 0.03806205708855666), (1969, 0.00244128257849237), (1970, 0.0), (1971, 0.002144162777555974), (1972, 0.0), (1973, 0.0032333944078456237), (1974, 0.008642423480319327), (1975, 0.0), (1976, 0.0), (1977, 0.007611960907087424), (1978, 0.03024210480541648), (1979, 0.0), (1980, 0.00535185046549026), (1981, 0.0028704153557667146), (1982, 0.0031482614449784255), (1983, 0.0026346311712237384), (1984, 0.008691885417856995), (1985, 0.0025561820431492834), (1986, 0.0033992700427211173), (1987, 0.003155085374559607), (1988, 0.0), (1989, 0.002031815692095398), (1990, 0.0), (1991, 0.0), (1992, 0.003211119319446677), (1993, 0.028529646955376194), (1994, 0.003058251152578712), (1995, 0.0027201334998947784), (1996, 0.0), (1997, 0.0027484244012409907), (1998, 0.0), (1999, 0.0560766219599289), (2000, 0.006812906366701253), (2001, 0.008143255936293631), (2002, 0.003597463381351876), (2003, 0.009136235921757281), (2004, 0.008035325154781583), (2005, 0.003090662524548685), (2006, 0.008064994659586957), (2007, 0.008631939603002708), (2008, 0.0024601117663545923), (2009, 0.011200587534073353), (2010, 0.001997734811883006), (2011, 0.00777397579488566), (2012, 0.003952817187572887), (2013, 0.0), (2014, 0.0034185967086060617), (2015, 0.0), (2016, 0.0026261384717014002), (2017, 0.0), (2018, 0.002803554553995064), (2019, 0.003413592568543339), (2020, 0.0), (2021, 0.0037205106918157165), (2022, 0.0), (2023, 0.0023821987186190448), (2024, 0.0024224215600133305), (2025, 0.00283536858451504), (2026, 0.009449344566160084), (2027, 0.002440162719255531), (2028, 0.0), (2029, 0.0024697250774168155), (2030, 0.0), (2031, 0.0022827483440652093), (2032, 0.015109666315939206), (2033, 0.0031264795787420002), (2034, 0.002084145657577709), (2035, 0.007242647967713403), (2036, 0.008608651722647145), (2037, 0.002756850430758174), (2038, 0.0), (2039, 0.002127893316124789), (2040, 0.002794713980923974), (2041, 0.0034858346297661725), (2042, 0.003586652260334444), (2043, 0.003112534249728579), (2044, 0.006394151875867109), (2045, 0.002570873416644649), (2046, 0.0034328831151155498), (2047, 0.002235400318459204), (2048, 0.00879950022365528), (2049, 0.01321451897744079), (2050, 0.00327742963996832), (2051, 0.009713478802575583), (2052, 0.003205493691346292), (2053, 0.0026117051824053245), (2054, 0.0), (2055, 0.002292726223684618), (2056, 0.003312185957705063), (2057, 0.0), (2058, 0.0031017610204088285), (2059, 0.002997677680342578), (2060, 0.005906271798730158), (2061, 0.0025621994683228096), (2062, 0.0), (2063, 0.003116106127365873), (2064, 0.0025316829308650915), (2065, 0.002272727732421901), (2066, 0.0), (2067, 0.0025449018342675947), (2068, 0.01711014953790061), (2069, 0.0024854655292431554), (2070, 0.002163762709439175), (2071, 0.0031976238767248938), (2072, 0.0026212919076364495), (2073, 0.002578177907302163), (2074, 0.0), (2075, 0.011202261727473413), (2076, 0.005032445004678547), (2077, 0.004191832027283773), (2078, 0.0), (2079, 0.03803467588569528), (2080, 0.002444137613912592), (2081, 0.0034408036327046683), (2082, 0.00372883086003065), (2083, 0.002647360864315776), (2084, 0.0), (2085, 0.0), (2086, 0.010072085128550219), (2087, 0.005836009525639516), (2088, 0.002650375562341604), (2089, 0.05924640867074956), (2090, 0.0035872693341633525), (2091, 0.002564902301823725), (2092, 0.0035308957609821953), (2093, 0.003178877609811959), (2094, 0.0), (2095, 0.0), (2096, 0.002696323739575444), (2097, 0.0027528089941879523), (2098, 0.0029401079168270327), (2099, 0.005577097971215909), (2100, 0.0), (2101, 0.010348777432845279), (2102, 0.008357966894476723), (2103, 0.002463229736254852), (2104, 0.002701632247657439), (2105, 0.009103833480331808), (2106, 0.013329390473775456), (2107, 0.00900795270587976), (2108, 0.013304163372957116), (2109, 0.0025500004114068606), (2110, 0.0), (2111, 0.015108172710366023), (2112, 0.0027920746387776504), (2113, 0.0026896995166153393), (2114, 0.0), (2115, 0.0), (2116, 0.012936881438705913), (2117, 0.0024265149090082904), (2118, 0.018965154512712287), (2119, 0.0), (2120, 0.0), (2121, 0.0024083064046286824), (2122, 0.018177762242625056), (2123, 0.0026183940428651936), (2124, 0.0036835793454079325), (2125, 0.024233278321644777), (2126, 0.002608839463577308), (2127, 0.0021236613817138695), (2128, 0.003379971367474407), (2129, 0.0023440289269394837), (2130, 0.0), (2131, 0.011514761472949463), (2132, 0.0071424324808810336), (2133, 0.002392722125143111), (2134, 0.0028295650409679075), (2135, 0.0), (2136, 0.0), (2137, 0.008456979193410158), (2138, 0.0038956585068816475), (2139, 0.0), (2140, 0.003268220247683249), (2141, 0.0024179195983681837), (2142, 0.002950344176129719), (2143, 0.005704877406240139), (2144, 0.008623685327680274), (2145, 0.006105250902004654), (2146, 0.005099244288887722), (2147, 0.0036483265312994596), (2148, 0.009747219120497301), (2149, 0.007988093824015753), (2150, 0.003328493264048012), (2151, 0.01002645583271767), (2152, 0.0), (2153, 0.0034559548019431185), (2154, 0.003240272207903886), (2155, 0.008698837233385971), (2156, 0.008420853170701573), (2157, 0.0050173061724617125), (2158, 0.004007575166323145), (2159, 0.009427393511173568), (2160, 0.008898789404779877), (2161, 0.008420561583727199), (2162, 0.002716582672219677), (2163, 0.026655897651457764), (2164, 0.0038472047054398657), (2165, 0.0), (2166, 0.005619485785420992), (2167, 0.009087343856975202), (2168, 0.00809250659127421), (2169, 0.008604650572499132), (2170, 0.008843755859245924), (2171, 0.0), (2172, 0.0), (2173, 0.002491023247525083), (2174, 0.002507471123523224), (2175, 0.0), (2176, 0.002792575688253039), (2177, 0.0), (2178, 0.0), (2179, 0.0032289489687570886), (2180, 0.0), (2181, 0.0), (2182, 0.0), (2183, 0.003187343348338226), (2184, 0.0), (2185, 0.0030791913903363633), (2186, 0.010719086407160336), (2187, 0.013756855452948673), (2188, 0.00308728565323478), (2189, 0.0035510190082566817), (2190, 0.0027267734047660627), (2191, 0.0022686835014422463), (2192, 0.006008950730652731), (2193, 0.012095592198552801), (2194, 0.0035648615700459565), (2195, 0.008526844342201795), (2196, 0.002675141063115819), (2197, 0.0), (2198, 0.0), (2199, 0.0077671774823358875), (2200, 0.0035124358469340216), (2201, 0.01115044628955087), (2202, 0.0064761982433132765), (2203, 0.0031451506241641516), (2204, 0.0029137092212132695), (2205, 0.0), (2206, 0.0), (2207, 0.003146759614384779), (2208, 0.0036429799376403115), (2209, 0.006642866734894172), (2210, 0.0025720114900126974), (2211, 0.010043708050926543), (2212, 0.008530853145777504), (2213, 0.026640249353091127), (2214, 0.002750477544649895), (2215, 0.048178038651172934), (2216, 0.0024792345703718954), (2217, 0.003598298430997288), (2218, 0.0038212023760442215), (2219, 0.002536608892497845), (2220, 0.0), (2221, 0.0021030335049245646), (2222, 0.0035502705629107388), (2223, 0.006784366540471655), (2224, 0.00240044394508321), (2225, 0.0031482074573659278), (2226, 0.002473593806780709), (2227, 0.002856109514168165), (2228, 0.0044485898955006035), (2229, 0.0027645309235474255), (2230, 0.008780094905100675), (2231, 0.0), (2232, 0.0), (2233, 0.0), (2234, 0.0132430030613323), (2235, 0.0), (2236, 0.0054145048883458375), (2237, 0.0075019517655263695), (2238, 0.0), (2239, 0.0), (2240, 0.010518800031978644), (2241, 0.0035742198673698634), (2242, 0.11212916554447586), (2243, 0.0), (2244, 0.0), (2245, 0.0), (2246, 0.0), (2247, 0.0), (2248, 0.002274247392385088), (2249, 0.009889807278668283), (2250, 0.0025242321020264827), (2251, 0.0035197373890000034), (2252, 0.029461714710982717), (2253, 0.0071737580776078565), (2254, 0.03477976136821439), (2255, 0.0032637287352775966), (2256, 0.0), (2257, 0.003256934894948873), (2258, 0.010254684463715072), (2259, 0.0), (2260, 0.006383007240287938), (2261, 0.003984122251320352), (2262, 0.003096578503286455), (2263, 0.0), (2264, 0.005301021330711237), (2265, 0.005416837507938579), (2266, 0.010527026076171946), (2267, 0.0), (2268, 0.0024431249024400863), (2269, 0.00992253922956418), (2270, 0.005155474029465281), (2271, 0.02507557020181187), (2272, 0.0031926115093719953), (2273, 0.0), (2274, 0.0031626084644124385), (2275, 0.0), (2276, 0.0), (2277, 0.002564317911911667), (2278, 0.0), (2279, 0.0024647970131901897), (2280, 0.0034048599417715246), (2281, 0.004560050691184153), (2282, 0.004416094665052699), (2283, 0.0), (2284, 0.005999054501400286), (2285, 0.0022762710106359984), (2286, 0.003232842183819787), (2287, 0.08925273915834066), (2288, 0.0026757535426221255), (2289, 0.0025121750356507312), (2290, 0.0035074955748866875), (2291, 0.0), (2292, 0.00607720475709159), (2293, 0.0027574183740473024), (2294, 0.0), (2295, 0.0025699121064652673), (2296, 0.0028873335903636917), (2297, 0.0033690844018391306), (2298, 0.04514180747515883), (2299, 0.004045251673729686), (2300, 0.0), (2301, 0.007820517820109278), (2302, 0.013614619053644226), (2303, 0.005627550876584562), (2304, 0.0076807765696399865), (2305, 0.0039311423846719986), (2306, 0.0032005502360299798), (2307, 0.0035256113347069064), (2308, 0.011834967036939674), (2309, 0.005699870234611172), (2310, 0.0033822652225718964), (2311, 0.0032332860237420597), (2312, 0.00494849238378659), (2313, 0.008679945101719204), (2314, 0.0), (2315, 0.0421649143700425), (2316, 0.0), (2317, 0.0023406468681342126), (2318, 0.0), (2319, 0.008881477061774931), (2320, 0.013934642067166698), (2321, 0.002599019771862619), (2322, 0.0033481479906177472), (2323, 0.0022828545055755085), (2324, 0.006527777892333031), (2325, 0.0035682209683189515), (2326, 0.0), (2327, 0.0032046240536875185), (2328, 0.007388375457724727), (2329, 0.0033713653987599694), (2330, 0.0), (2331, 0.007759224694421885), (2332, 0.0), (2333, 0.011257608234507414), (2334, 0.002603742940376371), (2335, 0.013007957549416983), (2336, 0.003417875511235658), (2337, 0.0), (2338, 0.007724218818664164), (2339, 0.0039038457965317928), (2340, 0.005981642074904163), (2341, 0.0), (2342, 0.0), (2343, 0.0), (2344, 0.008567157473712748), (2345, 0.0), (2346, 0.002876237655716946), (2347, 0.0023254674748135642), (2348, 0.005620294714697293), (2349, 0.011837390568271168), (2350, 0.0032506425638307054), (2351, 0.004102668768251056), (2352, 0.0), (2353, 0.009736634541428285), (2354, 0.002532214692926629), (2355, 0.0021089933194138226), (2356, 0.0028279143016366956), (2357, 0.0039020601202186204), (2358, 0.0), (2359, 0.07695841089649846), (2360, 0.0030376837297064066), (2361, 0.0026832457062591648), (2362, 0.00783692646310328), (2363, 0.004247630376786076), (2364, 0.0027635505633892346), (2365, 0.0), (2366, 0.0030481946250896156), (2367, 0.011473856424755298), (2368, 0.011271351944596785), (2369, 0.0), (2370, 0.03376636740260258), (2371, 0.0037233741847036935), (2372, 0.0), (2373, 0.0028664757058013087), (2374, 0.002563749524366648), (2375, 0.01316840010801585), (2376, 0.0), (2377, 0.0027284860924785517), (2378, 0.0029770662836410395), (2379, 0.008611301932291057), (2380, 0.0035952452089567646), (2381, 0.003832211036497585), (2382, 0.0021669919520076976), (2383, 0.0), (2384, 0.003828101413650159), (2385, 0.01262485429172952), (2386, 0.00874074400621656), (2387, 0.00595388493994666), (2388, 0.013601902941752418), (2389, 0.003065947135950535), (2390, 0.009372280076037734), (2391, 0.12599719607026214), (2392, 0.0033029700885525365), (2393, 0.002699629255833699), (2394, 0.006287299914696386), (2395, 0.0047544986590366215), (2396, 0.006021091165180851), (2397, 0.012190696547577408), (2398, 0.0), (2399, 0.01106452592896175), (2400, 0.002861216473631901), (2401, 0.0024585232175665084), (2402, 0.010855290194147126), (2403, 0.00687713986412008), (2404, 0.008115773696975043), (2405, 0.008891893210727135), (2406, 0.0029714315562167325), (2407, 0.011817893503655353), (2408, 0.0), (2409, 0.009006925466129011), (2410, 0.013149609792334468), (2411, 0.006756499125820405), (2412, 0.007423466150674128), (2413, 0.0), (2414, 0.023244057563863486), (2415, 0.01037408174851912), (2416, 0.002493203793855142), (2417, 0.0029618948720932796), (2418, 0.00268145744896284), (2419, 0.0026577007157482704), (2420, 0.010592861642953092), (2421, 0.0), (2422, 0.01163537013439914), (2423, 0.007519721055506979), (2424, 0.0031154585183909064), (2425, 0.003278573540239152), (2426, 0.003098058871716643), (2427, 0.0029384147248558237), (2428, 0.002791732380182026), (2429, 0.0), (2430, 0.00867401444286613), (2431, 0.009733020667318843), (2432, 0.0), (2433, 0.0030099576587782045), (2434, 0.014329704858626245), (2435, 0.003394104263475065), (2436, 0.0066689616333739585), (2437, 0.002871323852637429), (2438, 0.003133397775730918), (2439, 0.00282196186499198), (2440, 0.008628812542013689), (2441, 0.009706414511724385), (2442, 0.0), (2443, 0.0016613596229988307), (2444, 0.003506039751480185), (2445, 0.003163552413924328), (2446, 0.005541993555319778), (2447, 0.0021696516717542445), (2448, 0.003303706612048673), (2449, 0.003459427901455103), (2450, 0.003195240645090268), (2451, 0.0), (2452, 0.0037708199546505933), (2453, 0.007857636349059673), (2454, 0.00305467782180614), (2455, 0.004362670622709736), (2456, 0.0035475523062433595), (2457, 0.007690527665004759), (2458, 0.0037457276907178465), (2459, 0.003079049037086385), (2460, 0.002995446198922135), (2461, 0.011621983824129241), (2462, 0.0), (2463, 0.002486580515682241), (2464, 0.006544053353650789), (2465, 0.003312682604467279), (2466, 0.002597957227386097), (2467, 0.011564648557555426), (2468, 0.004016011624286239), (2469, 0.0019805952209761366), (2470, 0.0), (2471, 0.0), (2472, 0.009486870605061969), (2473, 0.0024092000847678132), (2474, 0.0019408231439909905), (2475, 0.009194109534594349), (2476, 0.0), (2477, 0.0027331391664833604), (2478, 0.006849779543465221), (2479, 0.003838188767817671), (2480, 0.0), (2481, 0.00210664170632858), (2482, 0.002331749714983534), (2483, 0.004532918317969824), (2484, 0.0033823718987418022), (2485, 0.0), (2486, 0.003924336373191983), (2487, 0.0034834109298098256), (2488, 0.01464888816475459), (2489, 0.008712661393884416), (2490, 0.0086001201541841), (2491, 0.003169015117651784), (2492, 0.012061574872361286), (2493, 0.0037934613993485175), (2494, 0.012923181867087088), (2495, 0.005966333004038487), (2496, 0.00236570509580093), (2497, 0.0031744747220994744), (2498, 0.0), (2499, 0.007308992290713991), (2500, 0.013194384198348029), (2501, 0.0), (2502, 0.007543044148708737), (2503, 0.0), (2504, 0.00335589248998815), (2505, 0.0028093983354481496), (2506, 0.0), (2507, 0.006481793798508129), (2508, 0.0028450593672772165), (2509, 0.009850272385121268), (2510, 0.003940090800584614), (2511, 0.009802300427306334), (2512, 0.005924044271157879), (2513, 0.0), (2514, 0.0030880143243965904), (2515, 0.004267296282410315), (2516, 0.0036418946109269728), (2517, 0.0), (2518, 0.0038802283744009914), (2519, 0.009754709807948785), (2520, 0.0021929447615535677), (2521, 0.0), (2522, 0.002696076876817924), (2523, 0.0059407278814803555), (2524, 0.0), (2525, 0.0023820692269609033), (2526, 0.0020697742241442894), (2527, 0.007353124316138111), (2528, 0.00793941575795764), (2529, 0.017399806400314112), (2530, 0.003215218639908858), (2531, 0.012492145214682894), (2532, 0.0), (2533, 0.0025442983800210927), (2534, 0.0011284703750298756), (2535, 0.01328527331749189), (2536, 0.06704981110376722), (2537, 0.008185368207344373), (2538, 0.0015135926605722824), (2539, 0.002983786248527273), (2540, 0.0024109926936626814), (2541, 0.0), (2542, 0.0031110420211893975), (2543, 0.011866160325488366), (2544, 0.0), (2545, 0.002635547574310996), (2546, 0.006211597303147347), (2547, 0.0), (2548, 0.024482838219248505), (2549, 0.0), (2550, 0.006393056886715755), (2551, 0.0034923988385603746), (2552, 0.002365101848631292), (2553, 0.011685797414746034), (2554, 0.0060194155892379485), (2555, 0.005753346720247248), (2556, 0.002345680825919294), (2557, 0.0031373956781864257), (2558, 0.029877681685333907), (2559, 0.01123874671232947), (2560, 0.009812263834164529), (2561, 0.006225089142337693), (2562, 0.0), (2563, 0.00209217450682533), (2564, 0.004270110267986426), (2565, 0.0026835157657964944), (2566, 0.013631754052235288), (2567, 0.0), (2568, 0.0030938987372173443), (2569, 0.00589597117823474), (2570, 0.014107802363387396), (2571, 0.0024440522981302687), (2572, 0.002396308658363299), (2573, 0.0), (2574, 0.0), (2575, 0.0037567700734429128), (2576, 0.0), (2577, 0.0), (2578, 0.0), (2579, 0.0028355309895072077), (2580, 0.0022591024050474537), (2581, 0.00429515485219703), (2582, 0.009647690395924492), (2583, 0.0), (2584, 0.006338548813676529), (2585, 0.0028160956221118315), (2586, 0.0034825389700894327), (2587, 0.00834539557670373), (2588, 0.010129446710483058), (2589, 0.005950512287232635), (2590, 0.003199664137775998), (2591, 0.00535319122795643), (2592, 0.006605698688853015), (2593, 0.0023339442229383302), (2594, 0.008857787360267018), (2595, 0.0027437796286719344), (2596, 0.0), (2597, 0.005675820220988485), (2598, 0.00239336532381915), (2599, 0.0), (2600, 0.004336434566975535), (2601, 0.006222824806158152), (2602, 0.0020990112501618843), (2603, 0.010067248569483423), (2604, 0.0037405657516934787), (2605, 0.003588033627278838), (2606, 0.0025471635800144742), (2607, 0.007663203498952816), (2608, 0.0060209824746635865), (2609, 0.009118961695091419), (2610, 0.016300088494772588), (2611, 0.0021702491862463664), (2612, 0.002443147822952285), (2613, 0.002980189421825674), (2614, 0.012029856501491631), (2615, 0.003192892496011494), (2616, 0.003360700071252906), (2617, 0.026338391388973), (2618, 0.0), (2619, 0.011324796452119082), (2620, 0.0032798468054001254), (2621, 0.002200871170053016), (2622, 0.0), (2623, 0.0028637995689020667), (2624, 0.002768030267664526), (2625, 0.002906386215207985), (2626, 0.0037723035038019575), (2627, 0.0), (2628, 0.003311580810168137), (2629, 0.009704959955588295), (2630, 0.03614984864250707), (2631, 0.0032641102520130204), (2632, 0.002470230839586042), (2633, 0.012583924696858657), (2634, 0.002363702200962286), (2635, 0.00402741358824494), (2636, 0.0018992004676268036), (2637, 0.0036902969356671744), (2638, 0.0028742444344527504), (2639, 0.003372358804616482), (2640, 0.0026468442944355035), (2641, 0.0), (2642, 0.011548529172215605), (2643, 0.01105695464579003), (2644, 0.003270529228226883), (2645, 0.0032555940866447466), (2646, 0.0027617722415288863), (2647, 0.002562144439029774), (2648, 0.0035442121454830576), (2649, 0.003573291807490028), (2650, 0.00888257900874654), (2651, 0.0023933880441488037), (2652, 0.00864312828048046), (2653, 0.005757940104991753), (2654, 0.0), (2655, 0.0033524085787883214), (2656, 0.004339747451442372), (2657, 0.005034735362159985), (2658, 0.0), (2659, 0.0049510529605952805), (2660, 0.0), (2661, 0.05828602473352555), (2662, 0.014211176393402917), (2663, 0.012605742094029695), (2664, 0.009114515136288111), (2665, 0.0028302286009366517), (2666, 0.0031596873840881853), (2667, 0.004683625761298287), (2668, 0.0026028662640662026), (2669, 0.00508311382053707), (2670, 0.0), (2671, 0.00694590427931133), (2672, 0.1226419194131683), (2673, 0.003365179072951748), (2674, 0.0023286456561700227), (2675, 0.0036031588565053887), (2676, 0.003941362381195121), (2677, 0.0092140452024412), (2678, 0.01952139987997034), (2679, 0.0023937669435055773), (2680, 0.0), (2681, 0.009091795080275487), (2682, 0.0), (2683, 0.0), (2684, 0.004977590790790148), (2685, 0.0034882600904700954), (2686, 0.0), (2687, 0.0117928750793832), (2688, 0.0029488521120449385), (2689, 0.0), (2690, 0.032220726916463154), (2691, 0.0), (2692, 0.002196696924815654), (2693, 0.06635085222820455), (2694, 0.0033696906826049017), (2695, 0.0025328131843713316), (2696, 0.013933903105316801), (2697, 0.0020709571597863044), (2698, 0.002464688032367592), (2699, 0.0088226444179974), (2700, 0.0), (2701, 0.015305477957588456), (2702, 0.013699781567971999), (2703, 0.005320811353412581), (2704, 0.0), (2705, 0.009257110732562513), (2706, 0.005672674849582561), (2707, 0.002968994004223209), (2708, 0.0), (2709, 0.003438662485296664), (2710, 0.0), (2711, 0.0), (2712, 0.00637529169665174), (2713, 0.0), (2714, 0.0026772638663642555), (2715, 0.004524919771988961), (2716, 0.0024366513282451856), (2717, 0.0), (2718, 0.0), (2719, 0.0), (2720, 0.00699330011465977), (2721, 0.0051846931324191076), (2722, 0.00837645064345793), (2723, 0.129652127746413), (2724, 0.0022478788420948995), (2725, 0.0027054196464144967), (2726, 0.03858567007466647), (2727, 0.0041341127893476295), (2728, 0.005431196665684866), (2729, 0.007333952723673955), (2730, 0.011619346871520074), (2731, 0.008009370776320666), (2732, 0.019289263366378172), (2733, 0.0), (2734, 0.0027318742158757674), (2735, 0.002335663352607181), (2736, 0.0), (2737, 0.01581166252745824), (2738, 0.007041524030082299), (2739, 0.002776114560346703), (2740, 0.00962605802983408), (2741, 0.005372493557332651), (2742, 0.0), (2743, 0.0021688652331864726), (2744, 0.012422787046924753), (2745, 0.11560390857358172), (2746, 0.01218754149802578), (2747, 0.013364512396017266), (2748, 0.013034372942673275), (2749, 0.0), (2750, 0.0), (2751, 0.0), (2752, 0.0024195272973423308), (2753, 0.0022285645951995487), (2754, 0.003603525578517608), (2755, 0.012674734344961781), (2756, 0.0041377585734163995), (2757, 0.003871883564562653), (2758, 0.005067603598176332), (2759, 0.0), (2760, 0.0019416402620958024), (2761, 0.007357097626064181), (2762, 0.0), (2763, 0.0033567343341135004), (2764, 0.0170771333918378), (2765, 0.002404573333623846), (2766, 0.006783758843335274), (2767, 0.0019735969172759117), (2768, 0.0035959376400707724), (2769, 0.01414806312565186), (2770, 0.00284231254042306), (2771, 0.002146518501870459), (2772, 0.0029966122990257925), (2773, 0.0), (2774, 0.002746573545862248), (2775, 0.011606320220826718), (2776, 0.01661170484609028), (2777, 0.002340709081570976), (2778, 0.0030588397511466625), (2779, 0.008161385944030503), (2780, 0.0), (2781, 0.004142240784715432), (2782, 0.006642096736894043), (2783, 0.002545810084515113), (2784, 0.0025856360919560947), (2785, 0.0), (2786, 0.006389840673261565), (2787, 0.0032683443796668716), (2788, 0.0), (2789, 0.0), (2790, 0.0), (2791, 0.0), (2792, 0.002680072782835144), (2793, 0.0), (2794, 0.009790449629295043), (2795, 0.003194672513825227), (2796, 0.0068285130612688125), (2797, 0.014671413023195832), (2798, 0.008681637620973418), (2799, 0.029655930502284985), (2800, 0.002390006544856776), (2801, 0.0), (2802, 0.008359785454952764), (2803, 0.00230212428046312), (2804, 0.00343821915255475), (2805, 0.00826960166627738), (2806, 0.006666676848324699), (2807, 0.009277521764160909), (2808, 0.002451225408027744), (2809, 0.011661665789861336), (2810, 0.0038521828588981497), (2811, 0.0037640177198467), (2812, 0.005623295170018357), (2813, 0.0034444979829228208), (2814, 0.002459035217681968), (2815, 0.0), (2816, 0.009785006222449176), (2817, 0.010083917202978378), (2818, 0.004813276319669773), (2819, 0.0), (2820, 0.02317553229763689), (2821, 0.06456741320039171), (2822, 0.0029663653465178217), (2823, 0.0065084861027902546), (2824, 0.0), (2825, 0.003395510164582815), (2826, 0.0025432004001161874), (2827, 0.0), (2828, 0.0), (2829, 0.0032930813288279616), (2830, 0.009514945654774407), (2831, 0.002532598999769225), (2832, 0.01573055927089125), (2833, 0.003063755656727718), (2834, 0.01487088838239803), (2835, 0.0), (2836, 0.009383344269438956), (2837, 0.0), (2838, 0.015318543620059306), (2839, 0.0), (2840, 0.0028214089694914343), (2841, 0.0014129769490345437), (2842, 0.0), (2843, 0.0038168551322002838), (2844, 0.0070610232505126935), (2845, 0.09987581960369861), (2846, 0.006981844459442905), (2847, 0.0), (2848, 0.010435611503337744), (2849, 0.0026743694745954318), (2850, 0.0), (2851, 0.0), (2852, 0.007676790290139496), (2853, 0.002517018125620186), (2854, 0.0028094670900879067), (2855, 0.00801962975838555), (2856, 0.003530408198577226), (2857, 0.014796048155968727), (2858, 0.008457451305695064), (2859, 0.00810542955817966), (2860, 0.0), (2861, 0.003353053992732149), (2862, 0.0023575401292583644), (2863, 0.008815074836401789), (2864, 0.0), (2865, 0.0), (2866, 0.008799971737683173), (2867, 0.0), (2868, 0.002340434053817629), (2869, 0.0), (2870, 0.011589730689412634), (2871, 0.0731246770954683), (2872, 0.013797661323307196), (2873, 0.003903858537371174), (2874, 0.003190074157838394), (2875, 0.004368551560037928), (2876, 0.010010980773897029), (2877, 0.007939447995656185), (2878, 0.009012190493350888), (2879, 0.0030807726897299713), (2880, 0.01019243652996685), (2881, 0.002865040579660034), (2882, 0.006483960979375104), (2883, 0.01156937571870796), (2884, 0.0068880407611388045), (2885, 0.0), (2886, 0.03424434868674664), (2887, 0.0025632392320372524), (2888, 0.002740251915672018), (2889, 0.0034823832214419767), (2890, 0.009433859494251465), (2891, 0.013395524639313485), (2892, 0.008115437942389744), (2893, 0.08460252281730053), (2894, 0.008773375537913125), (2895, 0.003027967652476296), (2896, 0.0034904264218723383), (2897, 0.009032900858373837), (2898, 0.0), (2899, 0.002378013295623042), (2900, 0.0025216482005008104), (2901, 0.0032478966495461713), (2902, 0.001860520455399169), (2903, 0.002836878258371764), (2904, 0.008892294953403568), (2905, 0.0), (2906, 0.0), (2907, 0.00792901047141904), (2908, 0.002032873930800636), (2909, 0.0024671656142110678), (2910, 0.0024750968898067226), (2911, 0.008897759526010237), (2912, 0.005777666052758923), (2913, 0.0028192482269405513), (2914, 0.006748122365294961), (2915, 0.009297214400234547), (2916, 0.0028335368036703), (2917, 0.001992530919495275), (2918, 0.0), (2919, 0.0026133051963358623), (2920, 0.002314573766710394), (2921, 0.0), (2922, 0.004676780552355598), (2923, 0.0034084243295973956), (2924, 0.01390130145634525), (2925, 0.00479076880519105), (2926, 0.006240231606385864), (2927, 0.0), (2928, 0.01221163432739449), (2929, 0.0), (2930, 0.0037790961702345344), (2931, 0.04953045565462458), (2932, 0.003344660780419381), (2933, 0.010179385539950977), (2934, 0.0025481232620752307), (2935, 0.0), (2936, 0.033817319570065625), (2937, 0.0036325338535628956), (2938, 0.0), (2939, 0.0042809027605768555), (2940, 0.03831561845962035), (2941, 0.004417132286547916), (2942, 0.0021889994052428814), (2943, 0.008518660226343937), (2944, 0.0), (2945, 0.011733315250020545), (2946, 0.002489542923335245), (2947, 0.0), (2948, 0.004476075170177549), (2949, 0.002702919205694515), (2950, 0.0), (2951, 0.007573330467630311), (2952, 0.0), (2953, 0.002677622779839447), (2954, 0.03329172244271181), (2955, 0.0), (2956, 0.0), (2957, 0.003094819468469202), (2958, 0.0), (2959, 0.0), (2960, 0.0), (2961, 0.002490023915951351), (2962, 0.03170567331992583), (2963, 0.0), (2964, 0.002703222189810061), (2965, 0.00240302344886415), (2966, 0.010393067027187907), (2967, 0.006790255522342508), (2968, 0.0037517437947353336), (2969, 0.002098098169208198), (2970, 0.006360027947845579), (2971, 0.0029907131033511535), (2972, 0.005624350544451961), (2973, 0.012646433062665732), (2974, 0.009598659965884923), (2975, 0.007510968543251105), (2976, 0.005345144859555885), (2977, 0.0025901674563675115), (2978, 0.01028289193811929), (2979, 0.003734276401009471), (2980, 0.002480984042386124), (2981, 0.0021609781721667384), (2982, 0.010762256919557896), (2983, 0.011935275356775514), (2984, 0.07550354950405223), (2985, 0.0021100459896557164), (2986, 0.01417822811176284), (2987, 0.002920431571047822), (2988, 0.002609088352005412), (2989, 0.0035249068064593294), (2990, 0.004627029478135776), (2991, 0.0), (2992, 0.008817650789093353), (2993, 0.0030512099332258655), (2994, 0.003459451668262548), (2995, 0.008102685394843519), (2996, 0.0027839155261650665), (2997, 0.0023910271155404782), (2998, 0.003797727888628037), (2999, 0.011918585467410722), (3000, 0.0025900724579623413), (3001, 0.0), (3002, 0.0), (3003, 0.006628421117207505), (3004, 0.010530222936862173), (3005, 0.0), (3006, 0.0), (3007, 0.0027024958662877864), (3008, 0.0), (3009, 0.013241962531406172), (3010, 0.002439383064073534), (3011, 0.0), (3012, 0.0028361674308006644), (3013, 0.009644396410078006), (3014, 0.008070860121310214), (3015, 0.010833715450355419), (3016, 0.009654098557101134), (3017, 0.011235891784758374), (3018, 0.0035895262476388565), (3019, 0.002944879062264514), (3020, 0.007243710134218515), (3021, 0.0), (3022, 0.0), (3023, 0.0), (3024, 0.0020926388529678547), (3025, 0.0), (3026, 0.006592404745821612), (3027, 0.002276368860528604), (3028, 0.002444561974667953), (3029, 0.0), (3030, 0.011581847474382661), (3031, 0.03649237201641763), (3032, 0.03343844920854687), (3033, 0.0034352199711149963), (3034, 0.00951839917165809), (3035, 0.00240824745917024), (3036, 0.0024050852343767653), (3037, 0.0062983544344317535), (3038, 0.0035955323992263033), (3039, 0.01070132058352726), (3040, 0.00833283082019939), (3041, 0.0036280321498356263), (3042, 0.008084720620584117), (3043, 0.0028637153294319385), (3044, 0.006504146531260855), (3045, 0.0), (3046, 0.00248111486420965), (3047, 0.0), (3048, 0.0), (3049, 0.0), (3050, 0.010981933765476232), (3051, 0.0036084459846503995), (3052, 0.003455297096834037), (3053, 0.0), (3054, 0.004130089669666052), (3055, 0.0034422672689168824), (3056, 0.03234438465092619), (3057, 0.002373111078577613), (3058, 0.0), (3059, 0.0), (3060, 0.003493860600636032), (3061, 0.009887533843245644), (3062, 0.006615226428230899), (3063, 0.0030396107245705207), (3064, 0.0027526095269541314), (3065, 0.002148708399843437), (3066, 0.0033581735184592286), (3067, 0.008445867345466278), (3068, 0.0), (3069, 0.0024703715178995963), (3070, 0.02366861805930958), (3071, 0.011227256917598374), (3072, 0.009936673459275368), (3073, 0.0033912275066769414), (3074, 0.007320691932626245), (3075, 0.008303204522335015), (3076, 0.0033106615442181136), (3077, 0.012176661975704883), (3078, 0.012152081537511166), (3079, 0.0), (3080, 0.0038311764067641566), (3081, 0.002977102819563913), (3082, 0.0030570293498231984), (3083, 0.00879110344869211), (3084, 0.006328514047157556), (3085, 0.0), (3086, 0.0027327440204903573), (3087, 0.004336346293094473), (3088, 0.005111140688587254), (3089, 0.004176133282134675), (3090, 0.003379949978303731), (3091, 0.002117389192620117), (3092, 0.0), (3093, 0.002489572121006538), (3094, 0.010003487271103392), (3095, 0.0027158692400299682), (3096, 0.002198985804091469), (3097, 0.006579514071841907), (3098, 0.011713499562973361), (3099, 0.0), (3100, 0.0), (3101, 0.0027948065662463744), (3102, 0.0035031251196582566), (3103, 0.012720249939604784), (3104, 0.0034291181927140232), (3105, 0.0), (3106, 0.003426283957121305), (3107, 0.0), (3108, 0.005355393260226282), (3109, 0.010071748454961482), (3110, 0.0), (3111, 0.007651861664087695), (3112, 0.002720205898753075), (3113, 0.006085891428426032), (3114, 0.0), (3115, 0.00535081819955243), (3116, 0.00939474794144366), (3117, 0.0), (3118, 0.0), (3119, 0.0034680663411098545), (3120, 0.002342051277750528), (3121, 0.0), (3122, 0.0024132502816103444), (3123, 0.003085603925227105), (3124, 0.0), (3125, 0.0025421877642965557), (3126, 0.0), (3127, 0.003329387492355658), (3128, 0.003188828597536785), (3129, 0.0), (3130, 0.0), (3131, 0.0), (3132, 0.0), (3133, 0.0), (3134, 0.0), (3135, 0.0), (3136, 0.0), (3137, 0.016663206869149294), (3138, 0.0), (3139, 0.008447950967101828), (3140, 0.010759372966705861), (3141, 0.0033114762434694883), (3142, 0.004752208765103701), (3143, 0.0), (3144, 0.0), (3145, 0.0), (3146, 0.006674226624615659), (3147, 0.014358663628387147), (3148, 0.009679743451751347), (3149, 0.003315374589391014), (3150, 0.006242946699248085), (3151, 0.024375286297492138), (3152, 0.001974047076533924), (3153, 0.0026049221036250196), (3154, 0.003096203932868062), (3155, 0.006007677484842031), (3156, 0.0), (3157, 0.0028156820484341), (3158, 0.0), (3159, 0.0031308746990998146), (3160, 0.0), (3161, 0.011877059454936622), (3162, 0.003584137610498055), (3163, 0.0), (3164, 0.002910733199735762), (3165, 0.009819624883953723), (3166, 0.016626771982769656), (3167, 0.0022654725870060763), (3168, 0.010648743241009994), (3169, 0.0035236485128344744), (3170, 0.008133369582632511), (3171, 0.08063609931804645), (3172, 0.004002247387797757), (3173, 0.0024912784008553498), (3174, 0.002522939002880152), (3175, 0.010133679114885573), (3176, 0.0), (3177, 0.008983345581970073), (3178, 0.018951382495281943), (3179, 0.0), (3180, 0.0066971404213755316), (3181, 0.0037454724437344425), (3182, 0.01571184301232715), (3183, 0.013125841670380368), (3184, 0.00918264594856448), (3185, 0.0), (3186, 0.0028683293261919152), (3187, 0.00627910137771572), (3188, 0.009446083559270402), (3189, 0.00993570194011037), (3190, 0.003982849544379726), (3191, 0.0), (3192, 0.007594294834892192), (3193, 0.0), (3194, 0.011313752406735452), (3195, 0.0024894578089021584), (3196, 0.0028366733980384716), (3197, 0.003123716792401503), (3198, 0.012382580248714907), (3199, 0.0019589758490565694), (3200, 0.007264143032909431), (3201, 0.0), (3202, 0.0065449627733957395), (3203, 0.0041395067177967485), (3204, 0.0046011055420075294), (3205, 0.004477688313925206), (3206, 0.00306067071646397), (3207, 0.003777161119287486), (3208, 0.0), (3209, 0.003515265789548557), (3210, 0.0025516725708520055), (3211, 0.002190256275632198), (3212, 0.0028493967810297137), (3213, 0.0), (3214, 0.0114434517177639), (3215, 0.0), (3216, 0.00251735314500908), (3217, 0.012186619865211433), (3218, 0.012778888258266192), (3219, 0.003305924542879875), (3220, 0.011714881145554513), (3221, 0.00384432930055073), (3222, 0.0), (3223, 0.0), (3224, 0.006212237461420089), (3225, 0.0025922961147157825), (3226, 0.004653274673887902), (3227, 0.0025506564959479907), (3228, 0.0030699682686670888), (3229, 0.00982163907166906), (3230, 0.0029205008116942994), (3231, 0.0030779533950845424), (3232, 0.0030051830151445855), (3233, 0.002602444541032309), (3234, 0.006522113036920981), (3235, 0.00911396961337092), (3236, 0.0036556851909478006), (3237, 0.008444294505108373), (3238, 0.005134977025383181), (3239, 0.011856299978410588), (3240, 0.004889083018004661), (3241, 0.008919220646230911), (3242, 0.002655911603490454), (3243, 0.002369299435852419), (3244, 0.0031486382019645792), (3245, 0.003472806964256178), (3246, 0.011491080499172699), (3247, 0.0), (3248, 0.0095347679586046), (3249, 0.007462827852690662), (3250, 0.003223621120346016), (3251, 0.0), (3252, 0.027006370140624077), (3253, 0.003908683768335674), (3254, 0.006990360751207722), (3255, 0.0), (3256, 0.004006704047234299), (3257, 0.014443202689804181), (3258, 0.01303410077533148), (3259, 0.003624899859349728), (3260, 0.005854296717529956), (3261, 0.0), (3262, 0.0032549755728545305), (3263, 0.0), (3264, 0.0026711161331661776), (3265, 0.007084309168624112), (3266, 0.004754718233388287), (3267, 0.005414177830704652), (3268, 0.008159815786209623), (3269, 0.0027363943089702973), (3270, 0.003414818681561203), (3271, 0.016665318490194043), (3272, 0.0), (3273, 0.009518041399603739), (3274, 0.009632796006691143), (3275, 0.0029566968200989865), (3276, 0.012905642366793927), (3277, 0.0036191556868798423), (3278, 0.02326761977162005), (3279, 0.0), (3280, 0.0), (3281, 0.0), (3282, 0.02335150853648752), (3283, 0.006077688906493272), (3284, 0.0023168590799928753), (3285, 0.0019017591594326986), (3286, 0.003337077147347835), (3287, 0.003553297234950634), (3288, 0.009252833805823773), (3289, 0.03673783425582698), (3290, 0.006140540474070922), (3291, 0.011488896192721077), (3292, 0.0033023066786558694), (3293, 0.002394342285020336), (3294, 0.0), (3295, 0.008606090937311016), (3296, 0.009723789980510857), (3297, 0.009992463176562098), (3298, 0.008258498838463897), (3299, 0.0025137065237264954), (3300, 0.008034263095715562), (3301, 0.00198096083122616), (3302, 0.010416639375550124), (3303, 0.01219797088504198), (3304, 0.010853671328389679), (3305, 0.0), (3306, 0.002319175410551557), (3307, 0.0029384882195134573), (3308, 0.014190694041807523), (3309, 0.006564321536796471), (3310, 0.0035856941490534414), (3311, 0.0053975230644164925), (3312, 0.0), (3313, 0.0020653037456277966), (3314, 0.0090672638101925), (3315, 0.011450538962867168), (3316, 0.0019459166377639018), (3317, 0.0020719541512373737), (3318, 0.007705277011235162), (3319, 0.006427335611621333), (3320, 0.0032282583141999494), (3321, 0.003180256317579561), (3322, 0.00325574618902348), (3323, 0.02000193551676406), (3324, 0.004039469414930837), (3325, 0.004519684037732203), (3326, 0.009054933109215547), (3327, 0.0076685036136429924), (3328, 0.0016627320829968797), (3329, 0.005454940252393643), (3330, 0.002521077588534501), (3331, 0.00210872827379843), (3332, 0.0034783285944204275), (3333, 0.0), (3334, 0.02876974570405965), (3335, 0.008638102597254213), (3336, 0.0022769219955713783), (3337, 0.00688483393794368), (3338, 0.0), (3339, 0.0), (3340, 0.0), (3341, 0.03250144106800087), (3342, 0.002349029587845247), (3343, 0.0034336913363156307), (3344, 0.0021483730688119543), (3345, 0.0), (3346, 0.002522967971802016), (3347, 0.002123206130958281), (3348, 0.005774486261617103), (3349, 0.006190504391665761), (3350, 0.0033909268931146264), (3351, 0.006227504989850757), (3352, 0.014832326257329885), (3353, 0.002629956926049033), (3354, 0.0031849148724811083), (3355, 0.00291032721258425), (3356, 0.0), (3357, 0.007416866246306594), (3358, 0.0030711426473847034), (3359, 0.009949521792944633), (3360, 0.0022470577570822166), (3361, 0.0), (3362, 0.002003148528746939), (3363, 0.010662448207202292), (3364, 0.013837400343270988), (3365, 0.001783948743282339), (3366, 0.0033195522940883057), (3367, 0.0), (3368, 0.0), (3369, 0.027555618732947575), (3370, 0.02899750797802535), (3371, 0.010475881075613442), (3372, 0.0026567762022028725), (3373, 0.006715825728166685), (3374, 0.0025105207955220714), (3375, 0.009167698760420936), (3376, 0.0021601753007134523), (3377, 0.0), (3378, 0.003586666302432242), (3379, 0.002480131697992089), (3380, 0.0075892678352068085), (3381, 0.0024994861691114392), (3382, 0.006226208663381815), (3383, 0.0038919420629745845), (3384, 0.0), (3385, 0.0), (3386, 0.006045887050131607), (3387, 0.0), (3388, 0.012629155621162399), (3389, 0.00548776813637931), (3390, 0.002410262142660192), (3391, 0.0123500185274531), (3392, 0.0016808547455100875), (3393, 0.005131823437555765), (3394, 0.0), (3395, 0.0031575372482516547), (3396, 0.0029178698526223317), (3397, 0.003084650563967747), (3398, 0.0), (3399, 0.002363400204922111), (3400, 0.009248328261021961), (3401, 0.0), (3402, 0.005814581325810065), (3403, 0.007490221700740318), (3404, 0.0), (3405, 0.0), (3406, 0.009022633007337001), (3407, 0.008026123160162543), (3408, 0.013861545575538998), (3409, 0.025487118381073686), (3410, 0.004801582957369538), (3411, 0.0030155977086423233), (3412, 0.002467171769903999), (3413, 0.014397285381084108), (3414, 0.0028317223977220676), (3415, 0.0035972290707199503), (3416, 0.0), (3417, 0.009416155180538507), (3418, 0.008534279026458137), (3419, 0.0029193456080845695), (3420, 0.0), (3421, 0.00829270317928436), (3422, 0.0036254348438581403), (3423, 0.0028945358079773944), (3424, 0.010361177724773293), (3425, 0.009906130448367256), (3426, 0.0), (3427, 0.0), (3428, 0.0035510246344542798), (3429, 0.0), (3430, 0.00496662441077615), (3431, 0.002031418108495666), (3432, 0.0), (3433, 0.002381940203304849), (3434, 0.009095407329537938), (3435, 0.00250510508572718), (3436, 0.0025459571444154516), (3437, 0.002648255040276042), (3438, 0.0), (3439, 0.004458173435392244), (3440, 0.0), (3441, 0.00250891521804049), (3442, 0.0036458687308483814), (3443, 0.003390233360010743), (3444, 0.007577571564120545), (3445, 0.002590729694857507), (3446, 0.0), (3447, 0.015071436442292818), (3448, 0.0), (3449, 0.012952618508533274), (3450, 0.002937980044793362), (3451, 0.0), (3452, 0.002358886709293566), (3453, 0.0), (3454, 0.0), (3455, 0.0023227511354310115), (3456, 0.0), (3457, 0.0), (3458, 0.001733104701344613), (3459, 0.0), (3460, 0.002326184329370575), (3461, 0.0036637967811979514), (3462, 0.0034798473675811694), (3463, 0.0), (3464, 0.0036427893129414115), (3465, 0.0), (3466, 0.0), (3467, 0.0), (3468, 0.0), (3469, 0.0), (3470, 0.0), (3471, 0.0020113679461427657), (3472, 0.0), (3473, 0.0), (3474, 0.0022986489720178784), (3475, 0.005587212879691817), (3476, 0.0), (3477, 0.011885826375299446), (3478, 0.002529698506728561), (3479, 0.016007746835339898), (3480, 0.0), (3481, 0.00289277085652615), (3482, 0.0), (3483, 0.0026784074687897443), (3484, 0.0), (3485, 0.003054315209303851), (3486, 0.0), (3487, 0.0024322162046591196), (3488, 0.0), (3489, 0.00974801841459437), (3490, 0.009081480767607324), (3491, 0.0025396238903530525), (3492, 0.014551154153259811), (3493, 0.012545823718623927), (3494, 0.003459229265446088), (3495, 0.0), (3496, 0.012866420453286079), (3497, 0.0027639551730354378), (3498, 0.08809695453241241), (3499, 0.0024851385850540686), (3500, 0.011120642206575212), (3501, 0.002571412584715801), (3502, 0.0), (3503, 0.005721631743482362), (3504, 0.0024229963213384977), (3505, 0.0), (3506, 0.009860388512602394), (3507, 0.0), (3508, 0.0033825903325963), (3509, 0.0029820886829968283), (3510, 0.00370547620652575), (3511, 0.008999398000005987), (3512, 0.009149661026765434), (3513, 0.009908201265127703), (3514, 0.006229200000493211), (3515, 0.0), (3516, 0.002751217234478687), (3517, 0.006178133178878973), (3518, 0.0034212189007186275), (3519, 0.0037841961123655557), (3520, 0.0), (3521, 0.003116461535305317), (3522, 0.023600176387384732), (3523, 0.0036263735009696312), (3524, 0.010058825051678323), (3525, 0.0), (3526, 0.012266924606547993), (3527, 0.002614925957328549), (3528, 0.0), (3529, 0.01039164913139804), (3530, 0.0), (3531, 0.009172473796684599), (3532, 0.0), (3533, 0.0), (3534, 0.004177670500622867), (3535, 0.0), (3536, 0.00262478872940963), (3537, 0.007400981131073911), (3538, 0.004757776506164336), (3539, 0.0036619004416653697), (3540, 0.002950487106590391), (3541, 0.012057450595460305), (3542, 0.0025882529475815684), (3543, 0.003195162951340443), (3544, 0.00726319814037889), (3545, 0.003411617877910248), (3546, 0.006378498090654052), (3547, 0.0), (3548, 0.0020802880796145316), (3549, 0.009780269313493562), (3550, 0.0), (3551, 0.008628753941285327), (3552, 0.01949490261391052), (3553, 0.002507156375135684), (3554, 0.03207454718043466), (3555, 0.0), (3556, 0.002261876541237283), (3557, 0.002480683747582657), (3558, 0.007892905338441733), (3559, 0.0028809714807186285), (3560, 0.009606027632407855), (3561, 0.0034292563189424557), (3562, 0.003310737072329285), (3563, 0.005438253121317466), (3564, 0.0025395072329633017), (3565, 0.009306907474031074), (3566, 0.0), (3567, 0.0), (3568, 0.0), (3569, 0.0021688928143283265), (3570, 0.003415663303351291), (3571, 0.013130875350161126), (3572, 0.0038054209051533996), (3573, 0.0), (3574, 0.0026398314286010457), (3575, 0.00968367562410192), (3576, 0.0), (3577, 0.014813398401202247), (3578, 0.0), (3579, 0.010231481021072152), (3580, 0.0033675377926252036), (3581, 0.003778444889221484), (3582, 0.003311195585857926), (3583, 0.0), (3584, 0.010156317179127204), (3585, 0.006700082346490819), (3586, 0.0), (3587, 0.002849623207397922), (3588, 0.0), (3589, 0.008720764532101306), (3590, 0.0026871658337895535), (3591, 0.0035873346996820425), (3592, 0.011757575367806444), (3593, 0.0028238980481699724), (3594, 0.0059959126774227), (3595, 0.0032885696197729893), (3596, 0.0025035548509177896), (3597, 0.0), (3598, 0.008371443275714928), (3599, 0.012515438901426198), (3600, 0.0), (3601, 0.012783469683999411), (3602, 0.0), (3603, 0.009637346891269438), (3604, 0.0), (3605, 0.0), (3606, 0.006083823698369193), (3607, 0.0), (3608, 0.0016477143584646109), (3609, 0.0), (3610, 0.004059556251811687), (3611, 0.0028742987353877927), (3612, 0.0025306598580779557), (3613, 0.0031202081006325906), (3614, 0.007738382676798711), (3615, 0.031097941103093194), (3616, 0.0074200307444990616), (3617, 0.0), (3618, 0.0026814408206670038), (3619, 0.0), (3620, 0.05459930903749892), (3621, 0.0070212532357989636), (3622, 0.006443498023212617), (3623, 0.002609591003610836), (3624, 0.002506251355187635), (3625, 0.0), (3626, 0.009196177228908435), (3627, 0.0023406095952060255), (3628, 0.0037586603222847276), (3629, 0.0021725345163962407), (3630, 0.005933250036366562), (3631, 0.0), (3632, 0.0035132611068702277), (3633, 0.003078349789226799), (3634, 0.0021388419010215645), (3635, 0.0034201650419279526), (3636, 0.002606951292167527), (3637, 0.0022122616205587664), (3638, 0.003153952355848524), (3639, 0.002895158257764106), (3640, 0.002821193229772537), (3641, 0.005762668777004531), (3642, 0.0027431721150161267), (3643, 0.0025699068625412206), (3644, 0.00929135610786101), (3645, 0.0019067394229296962), (3646, 0.011334074387050825), (3647, 0.08761772681673727), (3648, 0.009784826476282933), (3649, 0.0038992785279467245), (3650, 0.0034827499781688257), (3651, 0.002893867893673668), (3652, 0.0037978782224895426), (3653, 0.030452295949332187), (3654, 0.008991375915364185), (3655, 0.007440300559217341), (3656, 0.0023313549437158788), (3657, 0.0021347696602467573), (3658, 0.0028882772816500803), (3659, 0.0), (3660, 0.002439470448099121), (3661, 0.002885103191772646), (3662, 0.003435446868350455), (3663, 0.0), (3664, 0.0), (3665, 0.005952660561744988), (3666, 0.002626611085624147), (3667, 0.008470413710478394), (3668, 0.002141184664531424), (3669, 0.007245208114885865), (3670, 0.030129141885895223), (3671, 0.004278504916409902), (3672, 0.0035946388525148164), (3673, 0.005942695037091994), (3674, 0.002901401814510072), (3675, 0.0030155026738424525), (3676, 0.003473442673888436), (3677, 0.0027767989256902415), (3678, 0.01640839121298674), (3679, 0.0), (3680, 0.0028605882244995677), (3681, 0.010498197148166917), (3682, 0.0), (3683, 0.0035183479291074236), (3684, 0.0029829770278306466), (3685, 0.00337199451407877), (3686, 0.011242463555616563), (3687, 0.0031596116340737606), (3688, 0.003808534984691521), (3689, 0.0026165792689042447), (3690, 0.0), (3691, 0.03142343130545372), (3692, 0.002723734491410176), (3693, 0.0), (3694, 0.002737708989751928), (3695, 0.0), (3696, 0.0024395766114229784), (3697, 0.0), (3698, 0.0), (3699, 0.002583816547581521), (3700, 0.0), (3701, 0.0025934059781655416), (3702, 0.0), (3703, 0.0), (3704, 0.0027337203758139544), (3705, 0.02932790401705115), (3706, 0.0024688008430573827), (3707, 0.0025746522127877065), (3708, 0.0), (3709, 0.0), (3710, 0.0), (3711, 0.0), (3712, 0.0032558463190877343), (3713, 0.0), (3714, 0.002765037768335727), (3715, 0.004435272816182211), (3716, 0.008499538619816557), (3717, 0.0), (3718, 0.0), (3719, 0.002469121688202708), (3720, 0.0), (3721, 0.007985631894158938), (3722, 0.0035339765063198965), (3723, 0.0), (3724, 0.0), (3725, 0.0023554416934593106), (3726, 0.0), (3727, 0.0025081675974304206), (3728, 0.006380589424079066), (3729, 0.0029316881443943632), (3730, 0.0037573640697932805), (3731, 0.0), (3732, 0.0032022752376037393), (3733, 0.012230030058905085), (3734, 0.0023859404670322337), (3735, 0.003803479069496573), (3736, 0.006455793215079935), (3737, 0.002824714062347505), (3738, 0.0), (3739, 0.00603245952297805), (3740, 0.004349966338951071), (3741, 0.0), (3742, 0.0023106775620911155), (3743, 0.0), (3744, 0.0), (3745, 0.01005700281100244), (3746, 0.0), (3747, 0.006357914938048083), (3748, 0.008182278512062444), (3749, 0.002758205947692895), (3750, 0.0), (3751, 0.0020792160712823893), (3752, 0.0), (3753, 0.008711834979346581), (3754, 0.006919833728975165), (3755, 0.005273473799500038), (3756, 0.0020692397443722796), (3757, 0.0027288126540484766), (3758, 0.011310546505837578), (3759, 0.003935224968345478), (3760, 0.0), (3761, 0.006731720457847717), (3762, 0.003295664187443284), (3763, 0.007032115344683395), (3764, 0.006792833741615806), (3765, 0.005796108942585618), (3766, 0.0030167382713543298), (3767, 0.011010876256184046), (3768, 0.0), (3769, 0.0), (3770, 0.002645345725338726), (3771, 0.00273997323531544), (3772, 0.006790268906384005), (3773, 0.0), (3774, 0.0), (3775, 0.0), (3776, 0.0), (3777, 0.002672790148832517), (3778, 0.002627642359636747), (3779, 0.003054688331325127), (3780, 0.0027010109125986514), (3781, 0.0027104497149133566), (3782, 0.0), (3783, 0.0), (3784, 0.002407846131367039), (3785, 0.0), (3786, 0.0), (3787, 0.0), (3788, 0.0), (3789, 0.004059243854570464), (3790, 0.0035724879893803785), (3791, 0.003921994190849367), (3792, 0.012189736385213746), (3793, 0.0), (3794, 0.0), (3795, 0.007647666014639123), (3796, 0.004753862200191841), (3797, 0.0027993453059002534), (3798, 0.006244062169105867), (3799, 0.05017626521446791), (3800, 0.012476661617539072), (3801, 0.00226642887362666), (3802, 0.0), (3803, 0.003007271927613044), (3804, 0.009536932290349432), (3805, 0.0034271717902314373), (3806, 0.0), (3807, 0.0025164287800603018), (3808, 0.010499919440285405), (3809, 0.008759439062219338), (3810, 0.0), (3811, 0.005625036761356293), (3812, 0.003498429366076101), (3813, 0.002760155619670881), (3814, 0.0), (3815, 0.0), (3816, 0.0), (3817, 0.0), (3818, 0.0034086263657608766), (3819, 0.002388506321620155), (3820, 0.003885792073315864), (3821, 0.0021215140113568787), (3822, 0.0066997347159695395), (3823, 0.0), (3824, 0.03238511384160115), (3825, 0.0), (3826, 0.00821916519969806), (3827, 0.002480304571253963), (3828, 0.0031992977654973693), (3829, 0.00794716435158446), (3830, 0.0), (3831, 0.0546912778580287), (3832, 0.011480351695082543), (3833, 0.0), (3834, 0.006440851489082499), (3835, 0.005149052701908637), (3836, 0.003352164636837833), (3837, 0.00377287903136312), (3838, 0.0), (3839, 0.011056016152082434), (3840, 0.02363874963596924), (3841, 0.0022685880528342125), (3842, 0.00312844360947541), (3843, 0.0), (3844, 0.0043071820498279), (3845, 0.01250256080800312), (3846, 0.0), (3847, 0.0), (3848, 0.00320939355511189), (3849, 0.0), (3850, 0.0), (3851, 0.13217140239375028), (3852, 0.0), (3853, 0.049987771154605426), (3854, 0.002339326792077103), (3855, 0.005062955681420582), (3856, 0.008184344246455104), (3857, 0.0028097175247455875), (3858, 0.0039414918202503296), (3859, 0.014638641726019724), (3860, 0.0), (3861, 0.003043526516244829), (3862, 0.0026419989758851934), (3863, 0.03277299997474922), (3864, 0.0032436278448888774), (3865, 0.0030653009077021487), (3866, 0.01381680362023104), (3867, 0.009712143901742963), (3868, 0.011469098071721869), (3869, 0.0), (3870, 0.003593357298900636), (3871, 0.0), (3872, 0.0), (3873, 0.002704955290764782), (3874, 0.0030934017424047422), (3875, 0.009742728035337003), (3876, 0.0023220921172926344), (3877, 0.0028165419538603255), (3878, 0.003324796853476462), (3879, 0.009168427793805802), (3880, 0.002207009779373039), (3881, 0.0), (3882, 0.012615351119486086), (3883, 0.0028835561157223213), (3884, 0.0029432516566373244), (3885, 0.003126800360973075), (3886, 0.003300948366462489), (3887, 0.0), (3888, 0.005903900466057119), (3889, 0.012999607798589826), (3890, 0.014921826900045), (3891, 0.0), (3892, 0.007756709598034739), (3893, 0.009235896586650904), (3894, 0.054120994021006646), (3895, 0.007484073760638662), (3896, 0.003314346327766321), (3897, 0.0), (3898, 0.00811306298349921), (3899, 0.01682746487686014), (3900, 0.0024325317665966507), (3901, 0.0030508103540010994), (3902, 0.0026320811590995834), (3903, 0.002897553985757416), (3904, 0.009144471035354096), (3905, 0.0036357727802809672), (3906, 0.002488903616026192), (3907, 0.0), (3908, 0.0), (3909, 0.024720969988441616), (3910, 0.002220908131507946), (3911, 0.003022771096417117), (3912, 0.003511566902460635), (3913, 0.007892785597051677), (3914, 0.006017420017328812), (3915, 0.009286094319381533), (3916, 0.0029288114055791292), (3917, 0.0024334372392706438), (3918, 0.0), (3919, 0.012530283048935782), (3920, 0.046443695169211166), (3921, 0.0039606559734949335), (3922, 0.007365933042619149), (3923, 0.003158215622131993), (3924, 0.002780788616525733), (3925, 0.012725534696430934), (3926, 0.003442690919281172), (3927, 0.0021055865192180657), (3928, 0.0021130854797658267), (3929, 0.0), (3930, 0.003558427294777643), (3931, 0.004020802009491478), (3932, 0.010218581235086333), (3933, 0.008429543013900866), (3934, 0.007299938506644154), (3935, 0.002980863731264668), (3936, 0.011963400639898836), (3937, 0.0), (3938, 0.0), (3939, 0.0033692604306326274), (3940, 0.0), (3941, 0.005591567755898682), (3942, 0.0), (3943, 0.003694548961675329), (3944, 0.0), (3945, 0.007366206166546698), (3946, 0.0), (3947, 0.0), (3948, 0.0), (3949, 0.004724818455974388), (3950, 0.01433317805339046), (3951, 0.0029517146588421434), (3952, 0.01374599220032239), (3953, 0.002301663518638566), (3954, 0.008068736440117966), (3955, 0.0), (3956, 0.0022547093172337975), (3957, 0.0020850962216134718), (3958, 0.0), (3959, 0.0026200942031337766), (3960, 0.0028678853692121237), (3961, 0.0027921600259856742), (3962, 0.006701394930032037), (3963, 0.0), (3964, 0.010561730980264816), (3965, 0.0032826415587631458), (3966, 0.0), (3967, 0.010395768442164565), (3968, 0.0), (3969, 0.007221730302583989), (3970, 0.0), (3971, 0.0027718791354861), (3972, 0.0), (3973, 0.010012417714799876), (3974, 0.002276871804458208), (3975, 0.0), (3976, 0.0), (3977, 0.0), (3978, 0.0024128733851606883), (3979, 0.0), (3980, 0.004829164457639412), (3981, 0.0), (3982, 0.0), (3983, 0.0018951601204311632), (3984, 0.006275187026784976), (3985, 0.0), (3986, 0.0022761115505538524), (3987, 0.0026943010031283457), (3988, 0.0043263750128289405), (3989, 0.0), (3990, 0.0034917042036425455), (3991, 0.0), (3992, 0.006744802449478518), (3993, 0.0), (3994, 0.0), (3995, 0.0), (3996, 0.004098198956350958), (3997, 0.0), (3998, 0.003311387506597989), (3999, 0.010526993839989889), (4000, 0.10763262525992559), (4001, 0.030833041572960972), (4002, 0.00293782824515235), (4003, 0.0037968465579885633), (4004, 0.00256545607239892), (4005, 0.0027030533510816307), (4006, 0.0), (4007, 0.004887379643937102), (4008, 0.003567130535430965), (4009, 0.0), (4010, 0.003966009642408786), (4011, 0.008029170004777632), (4012, 0.012169219323827855), (4013, 0.002754157005087791), (4014, 0.0025595419623030487), (4015, 0.021108422750949315), (4016, 0.002522727956319888), (4017, 0.0034328247178861547), (4018, 0.010989895778060834), (4019, 0.0032793030663928876), (4020, 0.0024817432973113884), (4021, 0.0), (4022, 0.005705845194223231), (4023, 0.00704654203663117), (4024, 0.0027318107211486563), (4025, 0.012435392613747048), (4026, 0.007573923316371775), (4027, 0.009985914604693832), (4028, 0.0), (4029, 0.003368400046087657), (4030, 0.0029609150955611885), (4031, 0.004017991991792738), (4032, 0.0029517947133635056), (4033, 0.002668750642664152), (4034, 0.0), (4035, 0.002990719784285036), (4036, 0.005830159842066432), (4037, 0.0032560942403593853), (4038, 0.002704454108278116), (4039, 0.0), (4040, 0.0044352888038388695), (4041, 0.0), (4042, 0.0027940015093681084), (4043, 0.0), (4044, 0.0), (4045, 0.0), (4046, 0.0027732270521431883), (4047, 0.0), (4048, 0.0027693517931076154), (4049, 0.006055718689521116), (4050, 0.006649717140256248), (4051, 0.013372781733869792), (4052, 0.006306256762925929), (4053, 0.002295424428667), (4054, 0.006326962124335244), (4055, 0.0), (4056, 0.00850318929609055), (4057, 0.0), (4058, 0.00427527512525139), (4059, 0.0023656840550446453), (4060, 0.008493965281347366), (4061, 0.010329681103918506), (4062, 0.0030639803736681767), (4063, 0.0), (4064, 0.010490863753567593), (4065, 0.0), (4066, 0.005240044407652277), (4067, 0.0), (4068, 0.0025699830006876336), (4069, 0.00244341206302283), (4070, 0.0), (4071, 0.003252166985372636), (4072, 0.0), (4073, 0.009217362465511728), (4074, 0.002276545718577188), (4075, 0.0029517395298273076), (4076, 0.03219103210824108), (4077, 0.03292469184810144), (4078, 0.0), (4079, 0.008862670318433435), (4080, 0.007665618461854389), (4081, 0.002543693976991008), (4082, 0.012077509640679098), (4083, 0.002641028486042881), (4084, 0.012160204824956593), (4085, 0.0024076970031280823), (4086, 0.003719395243156859), (4087, 0.002749961234288569), (4088, 0.0), (4089, 0.002633972642513449), (4090, 0.0), (4091, 0.0), (4092, 0.002862755901347924), (4093, 0.003515962339607706), (4094, 0.007367242144523977), (4095, 0.002146841680733752), (4096, 0.0), (4097, 0.003764054033280045), (4098, 0.0025930471875366), (4099, 0.003436260034213301), (4100, 0.0), (4101, 0.0093312162175622), (4102, 0.007576092270992431), (4103, 0.0), (4104, 0.01062474803119775), (4105, 0.0038581448470839815), (4106, 0.0), (4107, 0.003123636297944361), (4108, 0.0038460365650214014), (4109, 0.003110043143194671), (4110, 0.026519791246781898), (4111, 0.006387639405810526), (4112, 0.0033549978224041168), (4113, 0.00662744493512817), (4114, 0.0), (4115, 0.004637759553159234), (4116, 0.002757939620916297), (4117, 0.01368291117479567), (4118, 0.003706563028660982), (4119, 0.0), (4120, 0.0), (4121, 0.003909322483220002), (4122, 0.0), (4123, 0.002671029438179998), (4124, 0.0023936521087194436), (4125, 0.003569918512621359), (4126, 0.002943654407745197), (4127, 0.004172170554827492), (4128, 0.0), (4129, 0.0024485651233636736), (4130, 0.0027649380644062136), (4131, 0.0036782078331857315), (4132, 0.006422657143640329), (4133, 0.0027583484598504124), (4134, 0.0), (4135, 0.006051494257214886), (4136, 0.008906185196544425), (4137, 0.002552912386397333), (4138, 0.00947638428495753), (4139, 0.00825576687995524), (4140, 0.006519491778425975), (4141, 0.007622691083466648), (4142, 0.0032342211879606954), (4143, 0.002273922593111266), (4144, 0.005061464635902608), (4145, 0.010042749075027838), (4146, 0.0), (4147, 0.0072654260544959565), (4148, 0.0), (4149, 0.006949945373062249), (4150, 0.0), (4151, 0.004346359251337937), (4152, 0.0024135316568591352), (4153, 0.0), (4154, 0.002285862774262408), (4155, 0.002416723684478768), (4156, 0.010507151201065063), (4157, 0.0), (4158, 0.0), (4159, 0.0), (4160, 0.0028362630685283643), (4161, 0.09119494240567683), (4162, 0.0), (4163, 0.002932882855074457), (4164, 0.0), (4165, 0.0), (4166, 0.01220892621681751), (4167, 0.0), (4168, 0.0), (4169, 0.002694662919049681), (4170, 0.0), (4171, 0.001787834337608626), (4172, 0.0033442944456020716), (4173, 0.003677503707260435), (4174, 0.005492011648936307), (4175, 0.00910351215866708), (4176, 0.0023260863567901163), (4177, 0.0), (4178, 0.0026562268483639293), (4179, 0.0), (4180, 0.0036322435747883587), (4181, 0.0), (4182, 0.004526957478443239), (4183, 0.008292077158781696), (4184, 0.003451194110750091), (4185, 0.0), (4186, 0.003146366800867664), (4187, 0.0028703473620738753), (4188, 0.0), (4189, 0.002587592740562747), (4190, 0.004099310624906198), (4191, 0.0031134202985134986), (4192, 0.011607276458345816), (4193, 0.0), (4194, 0.0), (4195, 0.0034350792019475387), (4196, 0.0), (4197, 0.012219631769619071), (4198, 0.012487092312953961), (4199, 0.00426403749183776), (4200, 0.004933334179039591), (4201, 0.0), (4202, 0.0035372327044604335), (4203, 0.006916464153386223), (4204, 0.004090983288046619), (4205, 0.002259521308548268), (4206, 0.005667828265319003), (4207, 0.0037302400906249465), (4208, 0.0), (4209, 0.0030998369683668376), (4210, 0.003486336963285823), (4211, 0.0), (4212, 0.0), (4213, 0.005673836999957367), (4214, 0.0034815559558353305), (4215, 0.0), (4216, 0.0), (4217, 0.0066395892030881995), (4218, 0.0033621039282598023), (4219, 0.0), (4220, 0.0694977127323792), (4221, 0.003382197053404464), (4222, 0.016075688930091075), (4223, 0.014495558935501418), (4224, 0.0), (4225, 0.002655491824138296), (4226, 0.0037576468235552226), (4227, 0.0), (4228, 0.002499200507091352), (4229, 0.005819361963388467), (4230, 0.003241311649968858), (4231, 0.002698506916217193), (4232, 0.02870935770013787), (4233, 0.007281005768469417), (4234, 0.0033530667850641435), (4235, 0.0), (4236, 0.0), (4237, 0.003060039349664283), (4238, 0.0), (4239, 0.004748649873236433), (4240, 0.0), (4241, 0.0), (4242, 0.0031427048224212635), (4243, 0.009732807376398884), (4244, 0.002898065761745493), (4245, 0.0027179301750689805), (4246, 0.005649604458614684), (4247, 0.002223406613724501), (4248, 0.0), (4249, 0.00261011507912458), (4250, 0.0), (4251, 0.0), (4252, 0.009098753480431303), (4253, 0.0), (4254, 0.005602603548746988), (4255, 0.002564405291199237), (4256, 0.003647479359131619), (4257, 0.005620953395697752), (4258, 0.003745036051980182), (4259, 0.03224131761113767), (4260, 0.0036328800584308815), (4261, 0.0), (4262, 0.002626311146404146), (4263, 0.0132021072166927), (4264, 0.0), (4265, 0.0), (4266, 0.0025526349284305055), (4267, 0.0029047712920242876), (4268, 0.002519475906250848), (4269, 0.002713434730108828), (4270, 0.0), (4271, 0.0), (4272, 0.00326080023736125), (4273, 0.002588670797646246), (4274, 0.0), (4275, 0.0), (4276, 0.0), (4277, 0.0023170852875108693), (4278, 0.0), (4279, 0.0), (4280, 0.002998029396502924), (4281, 0.0), (4282, 0.0023286016292145603), (4283, 0.0025786271996704733), (4284, 0.002482099322124657), (4285, 0.0040335834450157745), (4286, 0.0026745707072893493), (4287, 0.012383605443015899), (4288, 0.005147395159646119), (4289, 0.0), (4290, 0.0), (4291, 0.0034323493559481814), (4292, 0.0), (4293, 0.0066582884974843454), (4294, 0.0), (4295, 0.020558369703058715), (4296, 0.002203469911735907), (4297, 0.003149727315116341), (4298, 0.003103463274121691), (4299, 0.0024695142693503887), (4300, 0.003464034691472979), (4301, 0.001876833936742206), (4302, 0.0), (4303, 0.0033005942221929823), (4304, 0.005355305243421151), (4305, 0.0031931020398416683), (4306, 0.010569791961950405), (4307, 0.0), (4308, 0.006543507936214399), (4309, 0.008344454988587501), (4310, 0.0), (4311, 0.009738428777056331), (4312, 0.0), (4313, 0.0), (4314, 0.003314245356586413), (4315, 0.010070845549875675), (4316, 0.0), (4317, 0.003897602319179146), (4318, 0.0026730963259033436), (4319, 0.009720113672356269), (4320, 0.008527675090975627), (4321, 0.011411725901055055), (4322, 0.03287096950143691), (4323, 0.0036204412102712052), (4324, 0.003810383271317532), (4325, 0.00318808891609642), (4326, 0.0023192757359187834), (4327, 0.009216261589959104), (4328, 0.0), (4329, 0.0035292428457505114), (4330, 0.002531103344222528), (4331, 0.0), (4332, 0.0037289953093081955), (4333, 0.016393844997738383), (4334, 0.0026145705747948485), (4335, 0.003915037003128032), (4336, 0.0024434654789534673), (4337, 0.0), (4338, 0.0), (4339, 0.0), (4340, 0.0026163474479668943), (4341, 0.00407722173444764), (4342, 0.0), (4343, 0.002237554725177101), (4344, 0.002162419180742903), (4345, 0.002399525823689206), (4346, 0.003987683596383109), (4347, 0.007356208128989371), (4348, 0.002326362911512484), (4349, 0.0024874756444769525), (4350, 0.007705932775157683), (4351, 0.010141509307323826), (4352, 0.0), (4353, 0.0029849327366468148), (4354, 0.0026463282739927637), (4355, 0.0026949749050904897), (4356, 0.0055492329564167855), (4357, 0.012777188562230172), (4358, 0.003032547355635701), (4359, 0.0023095337453320954), (4360, 0.0), (4361, 0.0026318826954401346), (4362, 0.0024769586675354666), (4363, 0.0026494845637373807), (4364, 0.0), (4365, 0.0), (4366, 0.03804172494735697), (4367, 0.025676726342011902), (4368, 0.002847041417383337), (4369, 0.009835890681726401), (4370, 0.003670931081184838), (4371, 0.03112624998426852), (4372, 0.0), (4373, 0.0), (4374, 0.0024012817325078572), (4375, 0.0), (4376, 0.0), (4377, 0.0), (4378, 0.0), (4379, 0.0026210022004943658), (4380, 0.0), (4381, 0.008288296448352377), (4382, 0.005769743643975473), (4383, 0.0), (4384, 0.0), (4385, 0.0), (4386, 0.002181750685055319), (4387, 0.002466638063959253), (4388, 0.0035346510092284147), (4389, 0.0), (4390, 0.0), (4391, 0.002556501953970482), (4392, 0.0), (4393, 0.0), (4394, 0.005920992275090468), (4395, 0.005804827339851517), (4396, 0.0028302400090291827), (4397, 0.0028153628378420744), (4398, 0.0633234749500987), (4399, 0.002390741978631845), (4400, 0.0032247893863224008), (4401, 0.0028263465385021153), (4402, 0.02366130188542305), (4403, 0.003224286808906282), (4404, 0.003511626973158679), (4405, 0.0), (4406, 0.0), (4407, 0.003308902848790865), (4408, 0.011354102766007595), (4409, 0.002514727774412627), (4410, 0.0), (4411, 0.00732427371903693), (4412, 0.002963323629800651), (4413, 0.0037268836861778527), (4414, 0.0), (4415, 0.0), (4416, 0.0029776957799723994), (4417, 0.0), (4418, 0.019134411548916368), (4419, 0.0026372075448435218), (4420, 0.006291766445408112), (4421, 0.0035879991374445554), (4422, 0.012386875969615737), (4423, 0.0032803153619917545), (4424, 0.0), (4425, 0.0), (4426, 0.0029657360130328505), (4427, 0.002526853389671727), (4428, 0.002402073910631615), (4429, 0.002196428704552087), (4430, 0.0026485680607575657), (4431, 0.0027053532777664745), (4432, 0.0022141724129176982), (4433, 0.0035860332212647246), (4434, 0.003292617111823177), (4435, 0.002541760986042248), (4436, 0.0), (4437, 0.014690133245489274), (4438, 0.005771203553319055), (4439, 0.0), (4440, 0.004395657610121204), (4441, 0.0), (4442, 0.011626465846295297), (4443, 0.003098929298043022), (4444, 0.0033137580952799736), (4445, 0.001899064495038101), (4446, 0.006545549772907401), (4447, 0.0031183708392760563), (4448, 0.006231403993103549), (4449, 0.0), (4450, 0.0), (4451, 0.004055382625728533), (4452, 0.003887705157795351), (4453, 0.0038377365898906), (4454, 0.003965399167085054), (4455, 0.0), (4456, 0.02374741651266104), (4457, 0.0034244987305216525), (4458, 0.010196471416749401), (4459, 0.0), (4460, 0.010719628207100217), (4461, 0.0024353053859708694), (4462, 0.0), (4463, 0.010497045711923381), (4464, 0.0), (4465, 0.0028992170453143616), (4466, 0.0), (4467, 0.0), (4468, 0.0), (4469, 0.003160688537224101), (4470, 0.0026080866785507485), (4471, 0.0026825706815648354), (4472, 0.0024453332367657386), (4473, 0.005196745854189333), (4474, 0.0026635626319819793), (4475, 0.0022748223054526524), (4476, 0.0021646624584352463), (4477, 0.0029554044010671257), (4478, 0.0), (4479, 0.00787409805424377), (4480, 0.0048395592107282615), (4481, 0.0), (4482, 0.0), (4483, 0.011281117570465241), (4484, 0.007955514225249063), (4485, 0.0), (4486, 0.0035626771609555464), (4487, 0.00249228223189733), (4488, 0.0), (4489, 0.006328412835545879), (4490, 0.0030000225442799455), (4491, 0.0), (4492, 0.0036923117799680725), (4493, 0.0), (4494, 0.0028578137044446366), (4495, 0.00270958385592863), (4496, 0.003934199978801902), (4497, 0.002648467793455054), (4498, 0.01056696758704078), (4499, 0.0), (4500, 0.0), (4501, 0.002555775908814838), (4502, 0.0023104392001527642), (4503, 0.002551268277496618), (4504, 0.04327572753120433), (4505, 0.0026776724745232443), (4506, 0.0041036626722432005), (4507, 0.00685360872110426), (4508, 0.0), (4509, 0.0), (4510, 0.0), (4511, 0.0025160604804555296), (4512, 0.0), (4513, 0.0), (4514, 0.011438738424648424), (4515, 0.0), (4516, 0.0029007986904314945), (4517, 0.002544994288704995), (4518, 0.0), (4519, 0.0027575094241743692), (4520, 0.0025042329976150547), (4521, 0.003157525807841303), (4522, 0.006502534721448353), (4523, 0.028577452099345226), (4524, 0.0), (4525, 0.0), (4526, 0.0), (4527, 0.0), (4528, 0.03519802253760358), (4529, 0.00339180107331009), (4530, 0.0058355481031705445), (4531, 0.0028034972210172334), (4532, 0.0), (4533, 0.0025890018477432095), (4534, 0.0), (4535, 0.0028314084526802185), (4536, 0.008168024092755058), (4537, 0.0044741981926190106), (4538, 0.0), (4539, 0.0), (4540, 0.0027181535149567748), (4541, 0.0), (4542, 0.0329409334952941), (4543, 0.0), (4544, 0.0031557492367416395), (4545, 0.002737522637235149), (4546, 0.0032698909736610035), (4547, 0.0), (4548, 0.0), (4549, 0.0), (4550, 0.002452384477276443), (4551, 0.02831911211475486), (4552, 0.0035627253914241367), (4553, 0.0), (4554, 0.003007042710629713), (4555, 0.01806547661616862), (4556, 0.010755316758291703), (4557, 0.0036459969281342364), (4558, 0.0030116167337305064), (4559, 0.0), (4560, 0.0036552890560083095), (4561, 0.0), (4562, 0.004269961668376932), (4563, 0.002594016337087492), (4564, 0.0033095148922532977), (4565, 0.0), (4566, 0.009012468062692033), (4567, 0.002417729367455154), (4568, 0.0), (4569, 0.02164618205220481), (4570, 0.004108761909580552), (4571, 0.009481477542764107), (4572, 0.0031046741049449524), (4573, 0.002452324522902329), (4574, 0.002708595957438222), (4575, 0.009045844475524811), (4576, 0.0024570420086880364), (4577, 0.0031559384911646992), (4578, 0.0), (4579, 0.0027266927628181964), (4580, 0.010552895278755468), (4581, 0.0), (4582, 0.0), (4583, 0.0), (4584, 0.0029740218527537477), (4585, 0.0), (4586, 0.0), (4587, 0.0), (4588, 0.0), (4589, 0.0029609003380475177), (4590, 0.0022651937287036586), (4591, 0.0023527514636893497), (4592, 0.0034265242695162234), (4593, 0.002812938808363533), (4594, 0.01007004391209686), (4595, 0.0), (4596, 0.003029421044831828), (4597, 0.0), (4598, 0.001984617735615875), (4599, 0.014790371641920791), (4600, 0.003145493112032459), (4601, 0.0027688611673269406), (4602, 0.002775486491939031), (4603, 0.005565883537106129), (4604, 0.002543356741548488), (4605, 0.009496508409762522), (4606, 0.003202584416609551), (4607, 0.0036733975084087636), (4608, 0.002244860044874231), (4609, 0.0034607955333053656), (4610, 0.005007791741062243), (4611, 0.0033718649451228155), (4612, 0.003149228363037242), (4613, 0.0), (4614, 0.002416306114510169), (4615, 0.0), (4616, 0.0023368151225390084), (4617, 0.0034598240476999284), (4618, 0.0), (4619, 0.0027910973355544737), (4620, 0.0023113433542536746), (4621, 0.0), (4622, 0.003648492002298785), (4623, 0.0), (4624, 0.08889033056898547), (4625, 0.008876941290245662), (4626, 0.0020452356921911666), (4627, 0.0051199555506527775), (4628, 0.013308635539284557), (4629, 0.0026389517091922362), (4630, 0.0), (4631, 0.004173960893494934), (4632, 0.010079246948163), (4633, 0.007012374348475967), (4634, 0.023877312811560858), (4635, 0.0), (4636, 0.005031848978937486), (4637, 0.003001734134993119), (4638, 0.002307589471377318), (4639, 0.055396003507725264), (4640, 0.0025343710044715578), (4641, 0.002471205609099144), (4642, 0.0), (4643, 0.0026021219623175262), (4644, 0.0), (4645, 0.0), (4646, 0.0), (4647, 0.003108093917576603), (4648, 0.0035547046120061603), (4649, 0.0023231695286373955), (4650, 0.006876438299113377), (4651, 0.0), (4652, 0.009161958589403829), (4653, 0.0), (4654, 0.0), (4655, 0.003638170720491889), (4656, 0.0), (4657, 0.009194887380949507), (4658, 0.002432002081664194), (4659, 0.0), (4660, 0.003119419282375335), (4661, 0.002242357179577416), (4662, 0.0), (4663, 0.0), (4664, 0.0), (4665, 0.0), (4666, 0.0), (4667, 0.10232560119378292), (4668, 0.002492596643170678), (4669, 0.0027551739781140993), (4670, 0.0024231995614705827), (4671, 0.0), (4672, 0.06082536506943746), (4673, 0.0024501254840407086), (4674, 0.0020317703953958077), (4675, 0.0034242450068506115), (4676, 0.0), (4677, 0.0025568379880713706), (4678, 0.03054026087870636), (4679, 0.0022240007373422813), (4680, 0.0027047335256836793), (4681, 0.0), (4682, 0.0), (4683, 0.0), (4684, 0.0), (4685, 0.002483592802624328), (4686, 0.002545115112512806), (4687, 0.0024735259464396964), (4688, 0.009390058062543782), (4689, 0.0), (4690, 0.003223382823416695), (4691, 0.0), (4692, 0.003157744914439162), (4693, 0.002457271418796849), (4694, 0.002972315653811776), (4695, 0.0), (4696, 0.003314105055251051), (4697, 0.0), (4698, 0.0), (4699, 0.0028542066380834643), (4700, 0.004653992975552125), (4701, 0.003014977472502754), (4702, 0.009602948418058657), (4703, 0.0), (4704, 0.0034558702010455498), (4705, 0.003616804629232176), (4706, 0.0066291198447434975), (4707, 0.0), (4708, 0.0), (4709, 0.0), (4710, 0.003197590472274254), (4711, 0.004056729309862699), (4712, 0.007701616741684772), (4713, 0.009896895672617648), (4714, 0.0), (4715, 0.002536218870724148), (4716, 0.0), (4717, 0.007045569223370598), (4718, 0.009588412075263243), (4719, 0.023215297247762494), (4720, 0.0041718396030577), (4721, 0.0042778781946285665), (4722, 0.0027424545925906936), (4723, 0.003092972671367049), (4724, 0.0031183676221731215), (4725, 0.004195864094918624), (4726, 0.0), (4727, 0.0), (4728, 0.0), (4729, 0.0024299035198311774), (4730, 0.0), (4731, 0.0028641451351367224), (4732, 0.0027591528798195414), (4733, 0.0021107435918156), (4734, 0.0064483358092572735), (4735, 0.0029934655750344604), (4736, 0.0), (4737, 0.0038972557029495762), (4738, 0.009452570495751949), (4739, 0.0051585725399144015), (4740, 0.0), (4741, 0.006859602470546856), (4742, 0.0), (4743, 0.002468271979781377), (4744, 0.004837060678283484), (4745, 0.0), (4746, 0.0038984945932391177), (4747, 0.0), (4748, 0.0021908838782923544), (4749, 0.0033949376126541394), (4750, 0.0), (4751, 0.0), (4752, 0.0018120357919080286), (4753, 0.0028845499100802877), (4754, 0.0), (4755, 0.0), (4756, 0.006193377398350976), (4757, 0.0026565470111013178), (4758, 0.0), (4759, 0.0)]\n"
          ]
        }
      ]
    },
    {
      "cell_type": "code",
      "source": [
        "len (Recomendation_Score)"
      ],
      "metadata": {
        "colab": {
          "base_uri": "https://localhost:8080/"
        },
        "id": "shA0adkYuK_9",
        "outputId": "af83009a-4b30-44a2-a3b9-16ff609cd852"
      },
      "execution_count": null,
      "outputs": [
        {
          "output_type": "execute_result",
          "data": {
            "text/plain": [
              "4760"
            ]
          },
          "metadata": {},
          "execution_count": 37
        }
      ]
    },
    {
      "cell_type": "markdown",
      "source": [
        "Get All Movies Sort Based on Recommendation Score wrt Favourite Movie"
      ],
      "metadata": {
        "id": "aGMJhm9Loh-H"
      }
    },
    {
      "cell_type": "code",
      "source": [
        " # sorting the movies based on their similarity score\n",
        "Sorted_Similar_Movies = sorted(Recomendation_Score, key = lambda x:x[1], reverse = True)\n",
        "print(Sorted_Similar_Movies)"
      ],
      "metadata": {
        "colab": {
          "base_uri": "https://localhost:8080/"
        },
        "id": "pBVzVmrkuMcv",
        "outputId": "7c730339-3797-4c15-d0bd-d2c688a16bda"
      },
      "execution_count": null,
      "outputs": [
        {
          "output_type": "stream",
          "name": "stdout",
          "text": [
            "[(103, 1.0), (370, 0.1741608169772672), (147, 0.17087177690169425), (140, 0.16340616585108578), (611, 0.1337462032455896), (3851, 0.13217140239375028), (2723, 0.129652127746413), (2391, 0.12599719607026214), (270, 0.125027823697663), (2672, 0.1226419194131683), (209, 0.12063083909359619), (564, 0.11998914511524753), (606, 0.11826824270079217), (1007, 0.11785475489365976), (2745, 0.11560390857358172), (897, 0.11540285011562476), (2242, 0.11212916554447586), (120, 0.1112064610558031), (530, 0.10787168451693152), (592, 0.10764303969993293), (4000, 0.10763262525992559), (1581, 0.10482356059297086), (329, 0.10460201590709638), (1605, 0.10347098107975285), (828, 0.10250569778948751), (4667, 0.10232560119378292), (2845, 0.09987581960369861), (632, 0.09889223721950334), (893, 0.09556706008745328), (1313, 0.09285103932508379), (4161, 0.09119494240567683), (2287, 0.08925273915834066), (4624, 0.08889033056898547), (580, 0.08858043705441607), (3498, 0.08809695453241241), (3647, 0.08761772681673727), (2893, 0.08460252281730053), (1270, 0.08220990157589048), (3171, 0.08063609931804645), (954, 0.08011764788455696), (2359, 0.07695841089649846), (2984, 0.07550354950405223), (2871, 0.0731246770954683), (1352, 0.07200620984767055), (4220, 0.0694977127323792), (729, 0.06893276561692398), (2536, 0.06704981110376722), (1539, 0.06652351156424986), (210, 0.06650786814858253), (2693, 0.06635085222820455), (1558, 0.06464020159533673), (2821, 0.06456741320039171), (890, 0.06451629939670335), (216, 0.0639769822337693), (4398, 0.0633234749500987), (1461, 0.06331810024752967), (202, 0.06182857663131341), (4672, 0.06082536506943746), (2089, 0.05924640867074956), (2661, 0.05828602473352555), (1999, 0.0560766219599289), (1181, 0.055717511803205895), (4639, 0.055396003507725264), (3831, 0.0546912778580287), (536, 0.054624821211246156), (3620, 0.05459930903749892), (3894, 0.054120994021006646), (130, 0.053726137060367114), (288, 0.050348982789183185), (3799, 0.05017626521446791), (3853, 0.049987771154605426), (465, 0.04990923087622122), (2931, 0.04953045565462458), (145, 0.04882135243356754), (2215, 0.048178038651172934), (228, 0.0467362885060228), (309, 0.046468188451272006), (3920, 0.046443695169211166), (2298, 0.04514180747515883), (995, 0.044814269558187694), (1184, 0.04454168260172857), (1892, 0.044253979157069155), (1826, 0.044069581734188235), (4504, 0.04327572753120433), (2315, 0.0421649143700425), (246, 0.03908064173529169), (2726, 0.03858567007466647), (2940, 0.03831561845962035), (204, 0.0380914692183774), (1968, 0.03806205708855666), (4366, 0.03804172494735697), (2079, 0.03803467588569528), (358, 0.03797229952749115), (343, 0.03791368829431873), (478, 0.037374208758655804), (356, 0.03724162731398669), (3289, 0.03673783425582698), (3031, 0.03649237201641763), (921, 0.036336903585742625), (2630, 0.03614984864250707), (418, 0.0352423913875339), (4528, 0.03519802253760358), (1731, 0.034861042383369456), (1547, 0.03479369528171889), (2254, 0.03477976136821439), (157, 0.034724897813836204), (1759, 0.034721773319767404), (792, 0.03447613564495343), (208, 0.03440921875713974), (2886, 0.03424434868674664), (262, 0.03404840988290511), (2936, 0.033817319570065625), (2370, 0.03376636740260258), (3032, 0.03343844920854687), (308, 0.03340578503366619), (2954, 0.03329172244271181), (1845, 0.03301675854762615), (4542, 0.0329409334952941), (4077, 0.03292469184810144), (1372, 0.032875100057596925), (4322, 0.03287096950143691), (3863, 0.03277299997474922), (1043, 0.032645835403015654), (635, 0.03262340008072918), (224, 0.032509766729192674), (3341, 0.03250144106800087), (3824, 0.03238511384160115), (3056, 0.03234438465092619), (4259, 0.03224131761113767), (2690, 0.032220726916463154), (4076, 0.03219103210824108), (1770, 0.03213002217347763), (3554, 0.03207454718043466), (21, 0.031946557373461804), (2962, 0.03170567331992583), (753, 0.03169729996237812), (3691, 0.03142343130545372), (1188, 0.031355542743742915), (429, 0.03130849198164161), (4371, 0.03112624998426852), (543, 0.031113905877083983), (3615, 0.031097941103093194), (1534, 0.031097872465937162), (4001, 0.030833041572960972), (743, 0.030698007677538112), (1003, 0.030542715801187326), (4678, 0.03054026087870636), (3653, 0.030452295949332187), (1020, 0.030324980505719443), (1978, 0.03024210480541648), (3670, 0.030129141885895223), (558, 0.029886469447253906), (2558, 0.029877681685333907), (2799, 0.029655930502284985), (105, 0.029627764752210677), (1604, 0.029626247939341033), (158, 0.029622286515573873), (2252, 0.029461714710982717), (3705, 0.02932790401705115), (1696, 0.029301256991998547), (3370, 0.02899750797802535), (1298, 0.028865306941748863), (3334, 0.02876974570405965), (4232, 0.02870935770013787), (487, 0.028597493901434713), (4523, 0.028577452099345226), (1416, 0.028547746681683892), (1993, 0.028529646955376194), (4551, 0.02831911211475486), (236, 0.028060880768610304), (1055, 0.027844070198916843), (399, 0.02768115525754334), (3369, 0.027555618732947575), (334, 0.027439079289304186), (3252, 0.027006370140624077), (1495, 0.026956943375648277), (2163, 0.026655897651457764), (2213, 0.026640249353091127), (4110, 0.026519791246781898), (2617, 0.026338391388973), (317, 0.0261581457618182), (1069, 0.02579962482388385), (4367, 0.025676726342011902), (3409, 0.025487118381073686), (2271, 0.02507557020181187), (185, 0.025049715789947642), (1898, 0.02477567362140152), (3909, 0.024720969988441616), (142, 0.02471631640559447), (1747, 0.024598674753635377), (1033, 0.02452766272387539), (1478, 0.02450388377265155), (2548, 0.024482838219248505), (645, 0.02439913599388948), (3151, 0.024375286297492138), (2125, 0.024233278321644777), (298, 0.024087915338023683), (1310, 0.023914365076394425), (4634, 0.023877312811560858), (807, 0.023766428811891428), (4456, 0.02374741651266104), (809, 0.023673365947035733), (3070, 0.02366861805930958), (4402, 0.02366130188542305), (3840, 0.02363874963596924), (3522, 0.023600176387384732), (899, 0.023588271985294704), (3282, 0.02335150853648752), (1522, 0.02328545960164824), (1919, 0.02328231521615571), (3278, 0.02326761977162005), (2414, 0.023244057563863486), (4719, 0.023215297247762494), (2820, 0.02317553229763689), (299, 0.023055533112304995), (722, 0.02299271064591185), (1492, 0.02292975040236087), (1067, 0.02199305190900945), (1356, 0.021658181718947983), (4569, 0.02164618205220481), (1068, 0.02132518937693025), (4015, 0.021108422750949315), (4295, 0.020558369703058715), (824, 0.020212836693351534), (3323, 0.02000193551676406), (1863, 0.019914958572382138), (318, 0.019677814694321383), (2678, 0.01952139987997034), (3552, 0.01949490261391052), (2732, 0.019289263366378172), (4418, 0.019134411548916368), (2118, 0.018965154512712287), (3178, 0.018951382495281943), (163, 0.018717254052902567), (844, 0.018429977046168056), (2122, 0.018177762242625056), (4555, 0.01806547661616862), (2529, 0.017399806400314112), (737, 0.017396318139414918), (2068, 0.01711014953790061), (1109, 0.017102649765729252), (2764, 0.0170771333918378), (3899, 0.01682746487686014), (3271, 0.016665318490194043), (3137, 0.016663206869149294), (3166, 0.016626771982769656), (2776, 0.01661170484609028), (3678, 0.01640839121298674), (4333, 0.016393844997738383), (735, 0.01636765991329884), (1951, 0.01636420529173789), (456, 0.016341220997092933), (2610, 0.016300088494772588), (1893, 0.01626782534954259), (211, 0.016121646976269142), (4222, 0.016075688930091075), (3479, 0.016007746835339898), (2737, 0.01581166252745824), (2832, 0.01573055927089125), (3182, 0.01571184301232715), (741, 0.015507064982311868), (531, 0.01548109329307425), (1075, 0.01534750271352976), (2838, 0.015318543620059306), (2701, 0.015305477957588456), (1634, 0.015286774888537639), (1208, 0.015281776976911481), (2032, 0.015109666315939206), (2111, 0.015108172710366023), (3447, 0.015071436442292818), (3890, 0.014921826900045), (2834, 0.01487088838239803), (3352, 0.014832326257329885), (225, 0.014829051921484915), (3577, 0.014813398401202247), (2857, 0.014796048155968727), (4599, 0.014790371641920791), (1002, 0.01469565595270124), (4437, 0.014690133245489274), (2797, 0.014671413023195832), (2488, 0.01464888816475459), (3859, 0.014638641726019724), (1201, 0.014602827007527611), (3492, 0.014551154153259811), (4223, 0.014495558935501418), (3257, 0.014443202689804181), (3413, 0.014397285381084108), (3147, 0.014358663628387147), (3950, 0.01433317805339046), (2434, 0.014329704858626245), (1049, 0.014213301448487696), (2662, 0.014211176393402917), (3308, 0.014190694041807523), (2986, 0.01417822811176284), (2769, 0.01414806312565186), (431, 0.014136038560687014), (2570, 0.014107802363387396), (1187, 0.014083056645133745), (1803, 0.014081472091353409), (2320, 0.013934642067166698), (2696, 0.013933903105316801), (2924, 0.01390130145634525), (1690, 0.013896238624418078), (29, 0.013873944812995203), (3408, 0.013861545575538998), (3364, 0.013837400343270988), (3866, 0.01381680362023104), (764, 0.013801747626644578), (2872, 0.013797661323307196), (2187, 0.013756855452948673), (3952, 0.01374599220032239), (847, 0.01374537222798947), (985, 0.013711730401165627), (2702, 0.013699781567971999), (4117, 0.01368291117479567), (2566, 0.013631754052235288), (2302, 0.013614619053644226), (2388, 0.013601902941752418), (998, 0.013588343739944109), (999, 0.013577222627648237), (1489, 0.013468865543432584), (1594, 0.013420428051664067), (2891, 0.013395524639313485), (4051, 0.013372781733869792), (2747, 0.013364512396017266), (2106, 0.013329390473775456), (788, 0.013328291948668693), (4628, 0.013308635539284557), (2108, 0.013304163372957116), (2535, 0.01328527331749189), (2234, 0.0132430030613323), (3009, 0.013241962531406172), (2049, 0.01321451897744079), (4263, 0.0132021072166927), (1585, 0.013194512958305319), (2500, 0.013194384198348029), (2375, 0.01316840010801585), (768, 0.01315382311242373), (2410, 0.013149609792334468), (1479, 0.013146703166088427), (3571, 0.013130875350161126), (3183, 0.013125841670380368), (1905, 0.01306811022669656), (2748, 0.013034372942673275), (3258, 0.01303410077533148), (2335, 0.013007957549416983), (3889, 0.012999607798589826), (3449, 0.012952618508533274), (2116, 0.012936881438705913), (2494, 0.012923181867087088), (665, 0.012922812135882186), (1518, 0.012909536120396099), (3276, 0.012905642366793927), (3496, 0.012866420453286079), (3601, 0.012783469683999411), (3218, 0.012778888258266192), (4357, 0.012777188562230172), (3925, 0.012725534696430934), (1329, 0.012724011326140157), (3103, 0.012720249939604784), (113, 0.012683369933959243), (2755, 0.012674734344961781), (1888, 0.012666206843274023), (2973, 0.012646433062665732), (3388, 0.012629155621162399), (2385, 0.01262485429172952), (3882, 0.012615351119486086), (2663, 0.012605742094029695), (2633, 0.012583924696858657), (1821, 0.012578299030496964), (3493, 0.012545823718623927), (3919, 0.012530283048935782), (3599, 0.012515438901426198), (879, 0.012505382045146594), (3845, 0.01250256080800312), (2531, 0.012492145214682894), (4198, 0.012487092312953961), (1851, 0.0124790180063788), (3800, 0.012476661617539072), (1565, 0.012453102794740172), (1364, 0.012446327160833957), (4025, 0.012435392613747048), (2744, 0.012422787046924753), (4422, 0.012386875969615737), (4287, 0.012383605443015899), (3198, 0.012382580248714907), (1382, 0.012372334875667506), (3391, 0.0123500185274531), (3526, 0.012266924606547993), (3733, 0.012230030058905085), (4197, 0.012219631769619071), (2928, 0.01221163432739449), (4166, 0.01220892621681751), (3303, 0.01219797088504198), (2397, 0.012190696547577408), (3792, 0.012189736385213746), (2746, 0.01218754149802578), (3217, 0.012186619865211433), (3077, 0.012176661975704883), (4012, 0.012169219323827855), (4084, 0.012160204824956593), (1533, 0.012158949785318555), (3078, 0.012152081537511166), (579, 0.012150772791119258), (1476, 0.01214399160702203), (1410, 0.012114654683422463), (1722, 0.012104302851681167), (2193, 0.012095592198552801), (4082, 0.012077509640679098), (2492, 0.012061574872361286), (504, 0.012058994217963918), (3541, 0.012057450595460305), (697, 0.012036662319593147), (2614, 0.012029856501491631), (1180, 0.012010181288331737), (1170, 0.012000022232068686), (114, 0.011997955147802884), (3936, 0.011963400639898836), (2983, 0.011935275356775514), (2999, 0.011918585467410722), (948, 0.011907343123474513), (3477, 0.011885826375299446), (3161, 0.011877059454936622), (2543, 0.011866160325488366), (3239, 0.011856299978410588), (174, 0.011839715403336372), (2349, 0.011837390568271168), (2308, 0.011834967036939674), (1145, 0.01182216992577607), (2407, 0.011817893503655353), (867, 0.011813291398230197), (973, 0.011809329480265092), (2687, 0.0117928750793832), (169, 0.01177672221645727), (3592, 0.011757575367806444), (1286, 0.011751014775637808), (1084, 0.011745260971884428), (2945, 0.011733315250020545), (3220, 0.011714881145554513), (3098, 0.011713499562973361), (1935, 0.011703945969275917), (583, 0.011689145106444235), (2553, 0.011685797414746034), (1408, 0.011674058505907957), (2809, 0.011661665789861336), (2422, 0.01163537013439914), (4442, 0.011626465846295297), (1816, 0.011623070628545026), (2461, 0.011621983824129241), (2730, 0.011619346871520074), (4192, 0.011607276458345816), (2775, 0.011606320220826718), (1261, 0.011605375384166615), (2870, 0.011589730689412634), (3030, 0.011581847474382661), (2883, 0.01156937571870796), (2467, 0.011564648557555426), (2642, 0.011548529172215605), (2131, 0.011514761472949463), (3246, 0.011491080499172699), (3291, 0.011488896192721077), (3832, 0.011480351695082543), (2367, 0.011473856424755298), (3868, 0.011469098071721869), (3315, 0.011450538962867168), (883, 0.011450165585301195), (3214, 0.0114434517177639), (144, 0.011441212440401308), (4514, 0.011438738424648424), (1744, 0.011434935562985582), (4321, 0.011411725901055055), (1878, 0.011381129604617353), (4408, 0.011354102766007595), (3646, 0.011334074387050825), (325, 0.01132689644880992), (2619, 0.011324796452119082), (197, 0.011317826671633863), (3194, 0.011313752406735452), (3758, 0.011310546505837578), (4483, 0.011281117570465241), (2368, 0.011271351944596785), (2333, 0.011257608234507414), (1693, 0.011254354268321009), (3686, 0.011242463555616563), (2559, 0.01123874671232947), (3017, 0.011235891784758374), (3071, 0.011227256917598374), (279, 0.011221318115506407), (212, 0.011217573435650118), (2075, 0.011202261727473413), (2009, 0.011200587534073353), (471, 0.011193711735614125), (795, 0.011177428937524839), (2201, 0.01115044628955087), (582, 0.011140952743534781), (3500, 0.011120642206575212), (589, 0.011108793011394868), (2399, 0.01106452592896175), (2643, 0.01105695464579003), (3839, 0.011056016152082434), (1543, 0.011043387369585551), (907, 0.011022969512222244), (3767, 0.011010876256184046), (4018, 0.010989895778060834), (3050, 0.010981933765476232), (1216, 0.01086939644205747), (2402, 0.010855290194147126), (3304, 0.010853671328389679), (760, 0.010848725250916146), (1827, 0.010839223153867681), (3015, 0.010833715450355419), (1719, 0.010817803462097597), (1424, 0.010796669395512814), (161, 0.010774148373804457), (2982, 0.010762256919557896), (3140, 0.010759372966705861), (4556, 0.010755316758291703), (885, 0.010751379248794515), (4460, 0.010719628207100217), (2186, 0.010719086407160336), (3039, 0.01070132058352726), (3363, 0.010662448207202292), (3168, 0.010648743241009994), (703, 0.010647376477398858), (4104, 0.01062474803119775), (1394, 0.010619830150611128), (2420, 0.010592861642953092), (1199, 0.01057387828188842), (4306, 0.010569791961950405), (4498, 0.01056696758704078), (3964, 0.010561730980264816), (4580, 0.010552895278755468), (605, 0.010547185388404962), (3, 0.01053748093904321), (1616, 0.010533672481940363), (3004, 0.010530222936862173), (2266, 0.010527026076171946), (3999, 0.010526993839989889), (2240, 0.010518800031978644), (4156, 0.010507151201065063), (3808, 0.010499919440285405), (3681, 0.010498197148166917), (4463, 0.010497045711923381), (4064, 0.010490863753567593), (3371, 0.010475881075613442), (326, 0.010470021407850447), (385, 0.010468808355047068), (2848, 0.010435611503337744), (3302, 0.010416639375550124), (1217, 0.010406280337778386), (982, 0.010402939181272277), (1786, 0.010400955063047891), (1655, 0.0103996388868119), (3967, 0.010395768442164565), (2966, 0.010393067027187907), (3529, 0.01039164913139804), (2415, 0.01037408174851912), (3424, 0.010361177724773293), (2101, 0.010348777432845279), (4061, 0.010329681103918506), (1806, 0.010324351809192169), (278, 0.010323581622656704), (2978, 0.01028289193811929), (1833, 0.010263941701342906), (2258, 0.010254684463715072), (60, 0.010253625061429295), (3579, 0.010231481021072152), (489, 0.01022720676336266), (3932, 0.010218581235086333), (146, 0.010200828142750067), (4458, 0.010196471416749401), (1441, 0.010194663753672535), (2880, 0.01019243652996685), (2933, 0.010179385539950977), (3584, 0.010156317179127204), (4351, 0.010141509307323826), (405, 0.010138204594742128), (3175, 0.010133679114885573), (754, 0.01013159647797914), (2588, 0.010129446710483058), (873, 0.010126799501527211), (1359, 0.010105109605157491), (2817, 0.010083917202978378), (4632, 0.010079246948163), (195, 0.010075086442705536), (2086, 0.010072085128550219), (3109, 0.010071748454961482), (4315, 0.010070845549875675), (4594, 0.01007004391209686), (2603, 0.010067248569483423), (3524, 0.010058825051678323), (3745, 0.01005700281100244), (1053, 0.010055740999059967), (2211, 0.010043708050926543), (4145, 0.010042749075027838), (2151, 0.01002645583271767), (1885, 0.01001730965178181), (3973, 0.010012417714799876), (2876, 0.010010980773897029), (3094, 0.010003487271103392), (3297, 0.009992463176562098), (4027, 0.009985914604693832), (3359, 0.009949521792944633), (474, 0.00993679407261051), (3072, 0.009936673459275368), (3189, 0.00993570194011037), (1955, 0.009933489210432281), (2269, 0.00992253922956418), (1718, 0.009912549124531189), (3513, 0.009908201265127703), (3425, 0.009906130448367256), (1398, 0.009896916020680073), (4713, 0.009896895672617648), (1881, 0.00989129695440009), (2249, 0.009889807278668283), (3061, 0.009887533843245644), (1445, 0.009880841876154475), (448, 0.009868102447531849), (3506, 0.009860388512602394), (2509, 0.009850272385121268), (4369, 0.009835890681726401), (1427, 0.009825843943877978), (3229, 0.00982163907166906), (3165, 0.009819624883953723), (2560, 0.009812263834164529), (784, 0.009805533436442948), (2511, 0.009802300427306334), (2794, 0.009790449629295043), (2816, 0.009785006222449176), (3648, 0.009784826476282933), (3549, 0.009780269313493562), (671, 0.00976500892447034), (2519, 0.009754709807948785), (3489, 0.00974801841459437), (2148, 0.009747219120497301), (3875, 0.009742728035337003), (4311, 0.009738428777056331), (156, 0.00973736111274951), (2353, 0.009736634541428285), (971, 0.009734026441749087), (2431, 0.009733020667318843), (4243, 0.009732807376398884), (3296, 0.009723789980510857), (4319, 0.009720113672356269), (2051, 0.009713478802575583), (3867, 0.009712143901742963), (1317, 0.00971181902815774), (2441, 0.009706414511724385), (2629, 0.009704959955588295), (1909, 0.00970386393580043), (3575, 0.00968367562410192), (846, 0.009683413508008068), (3148, 0.009679743451751347), (110, 0.009665134085478611), (3016, 0.009654098557101134), (2582, 0.009647690395924492), (3013, 0.009644396410078006), (576, 0.009637595633903191), (3603, 0.009637346891269438), (3274, 0.009632796006691143), (2740, 0.00962605802983408), (1023, 0.009610098047793355), (3560, 0.009606027632407855), (4702, 0.009602948418058657), (813, 0.009602177621150149), (2974, 0.009598659965884923), (1302, 0.009591524982746921), (4718, 0.009588412075263243), (510, 0.009581315306499614), (1858, 0.009566354023628796), (1956, 0.009565479100934998), (1871, 0.009540287425721258), (3804, 0.009536932290349432), (3248, 0.0095347679586046), (758, 0.009530220342351205), (398, 0.009522623064144906), (312, 0.0095222974272048), (736, 0.009520271678022248), (3034, 0.00951839917165809), (3273, 0.009518041399603739), (529, 0.009515312267492646), (2830, 0.009514945654774407), (609, 0.009510550705929051), (4605, 0.009496508409762522), (2472, 0.009486870605061969), (1804, 0.00948556539153157), (4571, 0.009481477542764107), (938, 0.009479280860843289), (4138, 0.00947638428495753), (1707, 0.009465781674296962), (785, 0.00946246594145683), (4738, 0.009452570495751949), (2026, 0.009449344566160084), (3188, 0.009446083559270402), (1501, 0.009444890785774469), (857, 0.009440929496823519), (62, 0.009438994456185776), (1345, 0.009435898123396796), (2890, 0.009433859494251465), (1677, 0.009430286309502992), (1488, 0.009427672492461738), (2159, 0.009427393511173568), (3417, 0.009416155180538507), (946, 0.009410779175391695), (587, 0.009402460811069165), (3116, 0.00939474794144366), (4688, 0.009390058062543782), (2836, 0.009383344269438956), (2390, 0.009372280076037734), (1040, 0.00936201391080984), (1867, 0.00933952248157155), (1126, 0.009338254284983175), (1866, 0.00933527198716679), (4101, 0.0093312162175622), (1549, 0.00932841308165686), (3565, 0.009306907474031074), (2915, 0.009297214400234547), (3644, 0.00929135610786101), (983, 0.009288110243580653), (3915, 0.009286094319381533), (8, 0.00928477130212514), (2807, 0.009277521764160909), (1897, 0.009269621292758446), (1589, 0.009263590302855347), (2705, 0.009257110732562513), (1094, 0.00925482410094208), (3288, 0.009252833805823773), (3400, 0.009248328261021961), (192, 0.009246754900399223), (3893, 0.009235896586650904), (1880, 0.00922024140213156), (1771, 0.00921984216500503), (4073, 0.009217362465511728), (4327, 0.009216261589959104), (2677, 0.0092140452024412), (1403, 0.009209441253989464), (3626, 0.009196177228908435), (4657, 0.009194887380949507), (2475, 0.009194109534594349), (3184, 0.00918264594856448), (1798, 0.009178075385336815), (3531, 0.009172473796684599), (3879, 0.009168427793805802), (3375, 0.009167698760420936), (49, 0.009166438782414913), (4652, 0.009161958589403829), (1618, 0.009156959365322048), (1422, 0.009156270861801164), (3512, 0.009149661026765434), (773, 0.009148361259487982), (3904, 0.009144471035354096), (227, 0.009136855195781043), (2003, 0.009136235921757281), (1324, 0.009119677073538139), (2609, 0.009118961695091419), (2664, 0.009114515136288111), (3235, 0.00911396961337092), (1619, 0.00911096454017805), (2105, 0.009103833480331808), (4175, 0.00910351215866708), (4252, 0.009098753480431303), (3434, 0.009095407329537938), (2681, 0.009091795080275487), (2167, 0.009087343856975202), (3490, 0.009081480767607324), (623, 0.009080127087640442), (493, 0.009077233782019408), (612, 0.009077109446344125), (930, 0.009074423400323803), (3314, 0.0090672638101925), (3326, 0.009054933109215547), (4575, 0.009045844475524811), (1685, 0.009045383166728337), (193, 0.009039187708454863), (2897, 0.009032900858373837), (3406, 0.009022633007337001), (4566, 0.009012468062692033), (2878, 0.009012190493350888), (2107, 0.00900795270587976), (2409, 0.009006925466129011), (783, 0.009006073865675016), (3511, 0.008999398000005987), (51, 0.008994958669901226), (178, 0.008993625827707186), (3654, 0.008991375915364185), (1190, 0.008990977898944454), (1073, 0.008990797728329294), (830, 0.008987062158407194), (3177, 0.008983345581970073), (1363, 0.008974959721539102), (649, 0.00896256069348439), (1787, 0.008956913488405601), (255, 0.008952626538945966), (859, 0.008939203214611528), (660, 0.008930518146100908), (1256, 0.008929016523630682), (3241, 0.008919220646230911), (1475, 0.008912581503371432), (23, 0.008909190384815802), (4136, 0.008906185196544425), (2160, 0.008898789404779877), (2911, 0.008897759526010237), (2904, 0.008892294953403568), (2405, 0.008891893210727135), (588, 0.008883896694820748), (2650, 0.00888257900874654), (2319, 0.008881477061774931), (4625, 0.008876941290245662), (4079, 0.008862670318433435), (774, 0.008858417722575788), (2594, 0.008857787360267018), (1903, 0.008846418558841909), (2170, 0.008843755859245924), (1746, 0.008825963992249507), (1629, 0.008825079719879322), (2699, 0.0088226444179974), (2992, 0.008817650789093353), (2863, 0.008815074836401789), (1778, 0.008808461843633259), (1457, 0.008806943924791269), (472, 0.008801619401155238), (2866, 0.008799971737683173), (2048, 0.00879950022365528), (1860, 0.008792313526937965), (3083, 0.00879110344869211), (1768, 0.008789971156324811), (1946, 0.008785265034345329), (871, 0.008784336084445909), (2230, 0.008780094905100675), (865, 0.008778498223402107), (2894, 0.008773375537913125), (3809, 0.008759439062219338), (71, 0.008758561401386228), (1610, 0.008755702381676587), (2386, 0.00874074400621656), (1077, 0.008734166222849206), (406, 0.008722651429979897), (3589, 0.008720764532101306), (2489, 0.008712661393884416), (3753, 0.008711834979346581), (1122, 0.008704045123633389), (2155, 0.008698837233385971), (1942, 0.00869810049163896), (1984, 0.008691885417856995), (2798, 0.008681637620973418), (2313, 0.008679945101719204), (1157, 0.008676974865638561), (198, 0.008674365701561083), (2430, 0.00867401444286613), (1472, 0.008648783637396788), (2652, 0.00864312828048046), (1974, 0.008642423480319327), (3335, 0.008638102597254213), (1038, 0.008636929929400523), (2007, 0.008631939603002708), (2440, 0.008628812542013689), (3551, 0.008628753941285327), (1175, 0.00862803978535382), (2144, 0.008623685327680274), (416, 0.008617598714628652), (2379, 0.008611301932291057), (2036, 0.008608651722647145), (3295, 0.008606090937311016), (2169, 0.008604650572499132), (2490, 0.0086001201541841), (1200, 0.008595695961696164), (2344, 0.008567157473712748), (1378, 0.008542125926818779), (3418, 0.008534279026458137), (1485, 0.008532085841366891), (2212, 0.008530853145777504), (4320, 0.008527675090975627), (2195, 0.008526844342201795), (2943, 0.008518660226343937), (1061, 0.008513708507145064), (1612, 0.008513404421017362), (4056, 0.00850318929609055), (3716, 0.008499538619816557), (4060, 0.008493965281347366), (1569, 0.008491010055968933), (3667, 0.008470413710478394), (1438, 0.008466806055268696), (490, 0.008465865510399765), (2858, 0.008457451305695064), (2137, 0.008456979193410158), (464, 0.008450650390647315), (3139, 0.008447950967101828), (3067, 0.008445867345466278), (3237, 0.008444294505108373), (1666, 0.0084309001092275), (3933, 0.008429543013900866), (880, 0.008426619646008052), (2156, 0.008420853170701573), (2161, 0.008420561583727199), (1026, 0.008389293392479583), (940, 0.008388869992528407), (2722, 0.00837645064345793), (3598, 0.008371443275714928), (129, 0.008370207402768653), (1392, 0.008361115645180545), (2802, 0.008359785454952764), (2102, 0.008357966894476723), (820, 0.008353611668959121), (2587, 0.00834539557670373), (4309, 0.008344454988587501), (3040, 0.00833283082019939), (1350, 0.008327849049187782), (693, 0.008321055138334518), (1405, 0.008313991572966898), (959, 0.008304053267949899), (3075, 0.008303204522335015), (3421, 0.00829270317928436), (4183, 0.008292077158781696), (1797, 0.008290786953259044), (4381, 0.008288296448352377), (1245, 0.008287224709938153), (2805, 0.00826960166627738), (488, 0.008269406700510615), (1482, 0.008266090477907082), (520, 0.008262930657122212), (3298, 0.008258498838463897), (1247, 0.008257539691981324), (4139, 0.00825576687995524), (1060, 0.008248709352071873), (1463, 0.008242963978894485), (1421, 0.008241900982166843), (85, 0.008224611331126317), (3826, 0.00821916519969806), (1248, 0.008214147638113792), (1506, 0.008208548953441003), (1034, 0.008187369404828622), (2537, 0.008185368207344373), (3856, 0.008184344246455104), (3748, 0.008182278512062444), (852, 0.008178134973091973), (1027, 0.008175200147191166), (4536, 0.008168024092755058), (2779, 0.008161385944030503), (3268, 0.008159815786209623), (2001, 0.008143255936293631), (1273, 0.008136606317099367), (3170, 0.008133369582632511), (86, 0.008132974824320885), (221, 0.008128623342776989), (644, 0.008121551689065067), (2404, 0.008115773696975043), (2892, 0.008115437942389744), (3898, 0.00811306298349921), (2859, 0.00810542955817966), (2995, 0.008102685394843519), (373, 0.008102438642721841), (2168, 0.00809250659127421), (698, 0.008088789525854364), (3042, 0.008084720620584117), (408, 0.008083047158230185), (1523, 0.008079250875033146), (966, 0.008072132780872626), (3014, 0.008070860121310214), (388, 0.00807078744276941), (116, 0.008068945053614572), (3954, 0.008068736440117966), (2006, 0.008064994659586957), (2004, 0.008035325154781583), (3300, 0.008034263095715562), (4011, 0.008029170004777632), (3407, 0.008026123160162543), (1682, 0.008022877251242292), (2855, 0.00801962975838555), (2731, 0.008009370776320666), (1639, 0.008005839866063399), (975, 0.008003536802550396), (2149, 0.007988093824015753), (3721, 0.007985631894158938), (655, 0.007983659436552056), (944, 0.00796529300354562), (1819, 0.00796494701499406), (4484, 0.007955514225249063), (410, 0.007953849385287284), (838, 0.007949731238944342), (3829, 0.00794716435158446), (2877, 0.007939447995656185), (2528, 0.00793941575795764), (2907, 0.00792901047141904), (786, 0.007920631888330112), (709, 0.007918903427622415), (1052, 0.007914836620229605), (726, 0.007907401697509057), (3558, 0.007892905338441733), (3913, 0.007892785597051677), (15, 0.007885665724120522), (355, 0.007883348214500195), (638, 0.007879640544503897), (4479, 0.00787409805424377), (2453, 0.007857636349059673), (121, 0.007857608538630502), (1875, 0.007850891501257347), (524, 0.007842991092646221), (2362, 0.00783692646310328), (1628, 0.007822647885417347), (2301, 0.007820517820109278), (1782, 0.007819364820035394), (1065, 0.007814100824283927), (218, 0.007805195018175745), (538, 0.00780091012579007), (1883, 0.007796656962700651), (2011, 0.00777397579488566), (2199, 0.0077671774823358875), (1237, 0.007760779805565277), (2331, 0.007759224694421885), (3892, 0.007756709598034739), (608, 0.007749779355526655), (1869, 0.0077406135752716735), (3614, 0.007738382676798711), (2338, 0.007724218818664164), (1220, 0.00771638479350031), (1366, 0.007711922235991505), (4350, 0.007705932775157683), (3318, 0.007705277011235162), (4712, 0.007701616741684772), (1080, 0.007696436840193516), (2457, 0.007690527665004759), (2304, 0.0076807765696399865), (2852, 0.007676790290139496), (1219, 0.007669691702864015), (3327, 0.0076685036136429924), (4080, 0.007665618461854389), (2607, 0.007663203498952816), (3111, 0.007651861664087695), (1963, 0.007651316879276577), (3795, 0.007647666014639123), (1762, 0.007626928185489551), (4141, 0.007622691083466648), (1977, 0.007611960907087424), (1453, 0.0076089946281063334), (3192, 0.007594294834892192), (3380, 0.0075892678352068085), (1423, 0.007587505589336159), (132, 0.007579634513267774), (3444, 0.007577571564120545), (4102, 0.007576092270992431), (4026, 0.007573923316371775), (2951, 0.007573330467630311), (705, 0.007568777860498357), (33, 0.007555477577271014), (2502, 0.007543044148708737), (2423, 0.007519721055506979), (2975, 0.007510968543251105), (2237, 0.0075019517655263695), (3403, 0.007490221700740318), (3895, 0.007484073760638662), (1563, 0.007468488703499855), (3249, 0.007462827852690662), (924, 0.007446916152207361), (3655, 0.007440300559217341), (2412, 0.007423466150674128), (3616, 0.0074200307444990616), (3357, 0.007416866246306594), (1764, 0.007410709544752184), (3537, 0.007400981131073911), (733, 0.007397161525327489), (2328, 0.007388375457724727), (926, 0.007375916427771134), (4094, 0.007367242144523977), (3945, 0.007366206166546698), (3922, 0.007365933042619149), (2761, 0.007357097626064181), (4347, 0.007356208128989371), (2527, 0.007353124316138111), (413, 0.00734059212257011), (2729, 0.007333952723673955), (4411, 0.00732427371903693), (1763, 0.007321232350413768), (3074, 0.007320691932626245), (2499, 0.007308992290713991), (3934, 0.007299938506644154), (4233, 0.007281005768469417), (1743, 0.00727715020981278), (4147, 0.0072654260544959565), (3200, 0.007264143032909431), (3544, 0.00726319814037889), (403, 0.007246380033493633), (3669, 0.007245208114885865), (3020, 0.007243710134218515), (2035, 0.007242647967713403), (344, 0.007230051257385708), (3969, 0.007221730302583989), (1365, 0.007219466417460376), (547, 0.007208068114609299), (752, 0.007193704304484557), (2253, 0.0071737580776078565), (2132, 0.0071424324808810336), (1861, 0.007128169292251062), (796, 0.007097884772170535), (3265, 0.007084309168624112), (778, 0.007074524205665979), (1305, 0.0070678788609633714), (2844, 0.0070610232505126935), (4023, 0.00704654203663117), (4717, 0.007045569223370598), (2738, 0.007041524030082299), (950, 0.007033072965652456), (3763, 0.007032115344683395), (843, 0.0070307519372369825), (1362, 0.007027611083928984), (3621, 0.0070212532357989636), (4633, 0.007012374348475967), (1792, 0.007012099202106643), (1415, 0.0070045845674890144), (2720, 0.00699330011465977), (3254, 0.006990360751207722), (1169, 0.006983382723328761), (1950, 0.0069832806710372055), (2846, 0.006981844459442905), (1624, 0.006957043207161041), (4149, 0.006949945373062249), (2671, 0.00694590427931133), (1947, 0.006926729528696339), (3754, 0.006919833728975165), (4203, 0.006916464153386223), (2884, 0.0068880407611388045), (3337, 0.00688483393794368), (1297, 0.006880092716148272), (2403, 0.00687713986412008), (4650, 0.006876438299113377), (925, 0.006860889462719335), (508, 0.006860870635248163), (407, 0.006859741790489392), (4741, 0.006859602470546856), (194, 0.006859380445758647), (4507, 0.00685360872110426), (2478, 0.006849779543465221), (1656, 0.006840949461176329), (2796, 0.0068285130612688125), (331, 0.006827547484994355), (2000, 0.006812906366701253), (63, 0.0068041721504767455), (3764, 0.006792833741615806), (3772, 0.006790268906384005), (2967, 0.006790255522342508), (2223, 0.006784366540471655), (2766, 0.006783758843335274), (1508, 0.0067699300325194086), (2411, 0.006756499125820405), (2914, 0.006748122365294961), (3992, 0.006744802449478518), (3761, 0.006731720457847717), (3373, 0.006715825728166685), (3962, 0.006701394930032037), (3585, 0.006700082346490819), (3822, 0.0066997347159695395), (3180, 0.0066971404213755316), (3146, 0.006674226624615659), (2436, 0.0066689616333739585), (1592, 0.006667084377743162), (2806, 0.006666676848324699), (4293, 0.0066582884974843454), (4050, 0.006649717140256248), (2209, 0.006642866734894172), (2782, 0.006642096736894043), (4217, 0.0066395892030881995), (4706, 0.0066291198447434975), (3003, 0.006628421117207505), (4113, 0.00662744493512817), (1923, 0.0066267621829524765), (3062, 0.006615226428230899), (1658, 0.00660611929140821), (2592, 0.006605698688853015), (700, 0.006604459261038791), (3026, 0.006592404745821612), (607, 0.006587850206176026), (3097, 0.006579514071841907), (3309, 0.006564321536796471), (271, 0.0065520740048047345), (4446, 0.006545549772907401), (3202, 0.0065449627733957395), (2464, 0.006544053353650789), (4308, 0.006543507936214399), (1733, 0.006542419975010026), (2324, 0.006527777892333031), (253, 0.006523697759291248), (3234, 0.006522113036920981), (4140, 0.006519491778425975), (2823, 0.0065084861027902546), (1243, 0.006508197400614842), (3044, 0.006504146531260855), (4522, 0.006502534721448353), (350, 0.006495884777049862), (1106, 0.006494215528311454), (2882, 0.006483960979375104), (2507, 0.006481793798508129), (2202, 0.0064761982433132765), (3736, 0.006455793215079935), (4734, 0.0064483358092572735), (3622, 0.006443498023212617), (3834, 0.006440851489082499), (1868, 0.006438119268870738), (3319, 0.006427335611621333), (1848, 0.006423268835135292), (1907, 0.006422728317184382), (4132, 0.006422657143640329), (1637, 0.006400420672981035), (2044, 0.006394151875867109), (2550, 0.006393056886715755), (2786, 0.006389840673261565), (1537, 0.0063883052393770585), (872, 0.006387867391338186), (4111, 0.006387639405810526), (1683, 0.0063850827733755834), (1648, 0.006384582057320965), (1409, 0.006383482454260509), (2260, 0.006383007240287938), (3728, 0.006380589424079066), (3546, 0.006378498090654052), (2712, 0.00637529169665174), (275, 0.006365785726674669), (2970, 0.006360027947845579), (978, 0.00635842433039755), (3747, 0.006357914938048083), (1572, 0.006349004690131907), (2584, 0.006338548813676529), (3084, 0.006328514047157556), (4489, 0.006328412835545879), (4054, 0.006326962124335244), (1234, 0.006318500696315612), (4052, 0.006306256762925929), (1822, 0.006298744805099548), (3037, 0.0062983544344317535), (4420, 0.006291766445408112), (2394, 0.006287299914696386), (3187, 0.00627910137771572), (3984, 0.006275187026784976), (776, 0.006274267696831002), (684, 0.006273421604369301), (1902, 0.006271789379059747), (1536, 0.0062597514909467295), (3798, 0.006244062169105867), (3150, 0.006242946699248085), (2926, 0.006240231606385864), (1660, 0.006234364051102528), (1006, 0.006233845803854818), (4448, 0.006231403993103549), (3514, 0.006229200000493211), (1224, 0.0062286193706721634), (3351, 0.006227504989850757), (3382, 0.006226208663381815), (2561, 0.006225089142337693), (2601, 0.006222824806158152), (1513, 0.006215695021527006), (3224, 0.006212237461420089), (2546, 0.006211597303147347), (884, 0.006207960442575112), (1727, 0.006203902612372454), (4756, 0.006193377398350976), (3349, 0.006190504391665761), (1124, 0.006186126270951886), (3517, 0.006178133178878973), (1765, 0.00617130693603511), (929, 0.006167225846139528), (1715, 0.006156774156392601), (377, 0.0061479073030932686), (1494, 0.006147004890047103), (1516, 0.006145043311449468), (3290, 0.006140540474070922), (2145, 0.006105250902004654), (115, 0.006101243871265977), (933, 0.006093814576677532), (969, 0.006090270073093585), (1337, 0.0060892173212030234), (3113, 0.006085891428426032), (238, 0.006085776304395232), (1688, 0.006084472143232305), (3606, 0.006083823698369193), (3283, 0.006077688906493272), (2292, 0.00607720475709159), (455, 0.006066662129723587), (4049, 0.006055718689521116), (1346, 0.006054084331296757), (1204, 0.006053969724639251), (4135, 0.006051494257214886), (3386, 0.006045887050131607), (347, 0.006040077249816029), (3739, 0.00603245952297805), (1566, 0.0060245277158499705), (2396, 0.006021091165180851), (2608, 0.0060209824746635865), (2554, 0.0060194155892379485), (272, 0.00601789479212572), (3914, 0.006017420017328812), (182, 0.006014440284435327), (1232, 0.0060128890237572275), (2192, 0.006008950730652731), (3155, 0.006007677484842031), (2284, 0.005999054501400286), (3594, 0.0059959126774227), (2340, 0.005981642074904163), (1304, 0.005968843144199706), (2495, 0.005966333004038487), (479, 0.0059598148159411505), (1159, 0.005957378058405106), (2387, 0.00595388493994666), (3665, 0.005952660561744988), (2589, 0.005950512287232635), (1021, 0.005943490198383224), (1112, 0.005943002361341378), (3673, 0.005942695037091994), (2523, 0.0059407278814803555), (3630, 0.005933250036366562), (346, 0.005929060733984761), (2512, 0.005924044271157879), (4394, 0.005920992275090468), (2060, 0.005906271798730158), (3888, 0.005903900466057119), (1411, 0.005896259808079606), (2569, 0.00589597117823474), (1598, 0.005890154949610144), (1309, 0.005883415732843899), (618, 0.0058767219959120565), (1541, 0.005873799948951002), (1100, 0.005868108848455794), (215, 0.005861999045464903), (3260, 0.005854296717529956), (328, 0.0058464128108064), (2087, 0.005836009525639516), (4530, 0.0058355481031705445), (4036, 0.005830159842066432), (4229, 0.005819361963388467), (3402, 0.005814581325810065), (1284, 0.005808448736400639), (4395, 0.005804827339851517), (755, 0.0057987615249431735), (3765, 0.005796108942585618), (2912, 0.005777666052758923), (3348, 0.005774486261617103), (4438, 0.005771203553319055), (4382, 0.005769743643975473), (3641, 0.005762668777004531), (2653, 0.005757940104991753), (2555, 0.005753346720247248), (1597, 0.005747815371691766), (923, 0.005746219647734574), (1117, 0.005732093522579763), (1582, 0.005728434563325122), (3503, 0.005721631743482362), (1446, 0.0057180353405108485), (4022, 0.005705845194223231), (819, 0.005705586942460688), (2143, 0.005704877406240139), (2309, 0.005699870234611172), (1877, 0.005693828434373292), (1929, 0.0056883424786590385), (2597, 0.005675820220988485), (984, 0.0056757126486294066), (4213, 0.005673836999957367), (2706, 0.005672674849582561), (505, 0.005668402147308985), (4206, 0.005667828265319003), (4246, 0.005649604458614684), (939, 0.0056280217741604705), (2303, 0.005627550876584562), (3811, 0.005625036761356293), (2972, 0.005624350544451961), (2812, 0.005623295170018357), (1663, 0.005621216910554935), (4257, 0.005620953395697752), (2348, 0.005620294714697293), (2166, 0.005619485785420992), (507, 0.005602715045725197), (4254, 0.005602603548746988), (1203, 0.005602378635947749), (1606, 0.005599910094893104), (886, 0.005593969032097117), (903, 0.005593144282818331), (3941, 0.005591567755898682), (941, 0.005588557878001509), (3475, 0.005587212879691817), (2099, 0.005577097971215909), (4603, 0.005565883537106129), (659, 0.005558080338400431), (4356, 0.0055492329564167855), (2446, 0.005541993555319778), (1642, 0.005522412357407799), (1477, 0.005503587887760759), (4174, 0.005492011648936307), (3389, 0.00548776813637931), (1079, 0.0054870864591253735), (1236, 0.005474488342147491), (1308, 0.005474359379195864), (302, 0.005471225434906162), (3329, 0.005454940252393643), (957, 0.005448451555942653), (3563, 0.005438253121317466), (759, 0.005432649669336851), (2728, 0.005431196665684866), (1528, 0.005419592522380211), (2265, 0.005416837507938579), (2236, 0.0054145048883458375), (3267, 0.005414177830704652), (473, 0.005398267347272858), (3311, 0.0053975230644164925), (515, 0.005378452693783498), (2741, 0.005372493557332651), (3108, 0.005355393260226282), (4304, 0.005355305243421151), (2591, 0.00535319122795643), (1980, 0.00535185046549026), (3115, 0.00535081819955243), (2976, 0.005345144859555885), (594, 0.005333282018353573), (1318, 0.005321489545478973), (2703, 0.005320811353412581), (672, 0.005320655771376751), (2264, 0.005301021330711237), (1830, 0.005287018668746259), (1954, 0.0052856056650280574), (1251, 0.0052800465089047535), (3755, 0.005273473799500038), (712, 0.005271681797968466), (4066, 0.005240044407652277), (851, 0.005227186118926542), (4473, 0.005196745854189333), (1943, 0.00519358762785955), (2721, 0.0051846931324191076), (1465, 0.005173147463777212), (1397, 0.005159930823868501), (4739, 0.0051585725399144015), (2270, 0.005155474029465281), (3835, 0.005149052701908637), (357, 0.00514902807384926), (4288, 0.005147395159646119), (1370, 0.0051449048022280276), (3238, 0.005134977025383181), (3393, 0.005131823437555765), (1802, 0.005127173781054835), (4627, 0.0051199555506527775), (3088, 0.005111140688587254), (1088, 0.0051007091129750435), (2146, 0.005099244288887722), (2669, 0.00508311382053707), (2758, 0.005067603598176332), (1340, 0.005067316693564629), (3855, 0.005062955681420582), (4144, 0.005061464635902608), (175, 0.0050384430831731065), (951, 0.005037152056015515), (1312, 0.005035419817397805), (2657, 0.005034735362159985), (2076, 0.005032445004678547), (4636, 0.005031848978937486), (707, 0.005018735533807904), (2157, 0.0050173061724617125), (1442, 0.005008860243547365), (4610, 0.005007791741062243), (1367, 0.004982873500295252), (2684, 0.004977590790790148), (1078, 0.004969098788131327), (3430, 0.00496662441077615), (2659, 0.0049510529605952805), (2312, 0.00494849238378659), (25, 0.004935780988960233), (4200, 0.004933334179039591), (1571, 0.004933180520704284), (1530, 0.004929789322595723), (3240, 0.004889083018004661), (4007, 0.004887379643937102), (996, 0.004850168229897322), (4480, 0.0048395592107282615), (4744, 0.004837060678283484), (3980, 0.004829164457639412), (691, 0.00482254220338843), (2818, 0.004813276319669773), (3410, 0.004801582957369538), (1019, 0.004801027242015257), (2925, 0.00479076880519105), (757, 0.004766239325399917), (3538, 0.004757776506164336), (3266, 0.004754718233388287), (2395, 0.0047544986590366215), (3796, 0.004753862200191841), (3142, 0.004752208765103701), (4239, 0.004748649873236433), (3949, 0.004724818455974388), (2667, 0.004683625761298287), (2922, 0.004676780552355598), (4700, 0.004653992975552125), (3226, 0.004653274673887902), (4115, 0.004637759553159234), (2990, 0.004627029478135776), (3204, 0.0046011055420075294), (1939, 0.004561515032215432), (2281, 0.004560050691184153), (351, 0.004552346338322312), (2483, 0.004532918317969824), (82, 0.0045279719978779534), (4182, 0.004526957478443239), (2715, 0.004524919771988961), (3325, 0.004519684037732203), (3205, 0.004477688313925206), (2948, 0.004476075170177549), (4537, 0.0044741981926190106), (1277, 0.004462048458509003), (3439, 0.004458173435392244), (2228, 0.0044485898955006035), (4040, 0.0044352888038388695), (3715, 0.004435272816182211), (2941, 0.004417132286547916), (2282, 0.004416094665052699), (391, 0.004402114892160429), (4440, 0.004395657610121204), (2875, 0.004368551560037928), (2455, 0.004362670622709736), (3740, 0.004349966338951071), (4151, 0.004346359251337937), (2656, 0.004339747451442372), (2600, 0.004336434566975535), (3087, 0.004336346293094473), (3988, 0.0043263750128289405), (3844, 0.0043071820498279), (2581, 0.00429515485219703), (2939, 0.0042809027605768555), (3671, 0.004278504916409902), (4721, 0.0042778781946285665), (4058, 0.00427527512525139), (2564, 0.004270110267986426), (4562, 0.004269961668376932), (2515, 0.004267296282410315), (4199, 0.00426403749183776), (2363, 0.004247630376786076), (842, 0.004202796910982288), (4725, 0.004195864094918624), (2077, 0.004191832027283773), (3534, 0.004177670500622867), (3089, 0.004176133282134675), (4631, 0.004173960893494934), (4127, 0.004172170554827492), (4720, 0.0041718396030577), (751, 0.004147671560972036), (2781, 0.004142240784715432), (3203, 0.0041395067177967485), (2756, 0.0041377585734163995), (2727, 0.0041341127893476295), (3054, 0.004130089669666052), (368, 0.004125768027339), (1941, 0.004113874105381856), (4570, 0.004108761909580552), (4506, 0.0041036626722432005), (2351, 0.004102668768251056), (4190, 0.004099310624906198), (3996, 0.004098198956350958), (1790, 0.004097422959646038), (4204, 0.004090983288046619), (4341, 0.00407722173444764), (461, 0.004070347822655385), (1615, 0.004070346968321951), (3610, 0.004059556251811687), (3789, 0.004059243854570464), (4711, 0.004056729309862699), (4451, 0.004055382625728533), (955, 0.0040526719051862566), (904, 0.004046064991671707), (2299, 0.004045251673729686), (153, 0.004039760606390176), (3324, 0.004039469414930837), (711, 0.004037362405998234), (4285, 0.0040335834450157745), (2635, 0.00402741358824494), (3931, 0.004020802009491478), (4031, 0.004017991991792738), (2468, 0.004016011624286239), (2158, 0.004007575166323145), (3256, 0.004006704047234299), (740, 0.0040028133908511536), (3172, 0.004002247387797757), (4346, 0.003987683596383109), (2261, 0.003984122251320352), (3190, 0.003982849544379726), (905, 0.003976063871805939), (1758, 0.003974589223762196), (4010, 0.003966009642408786), (4454, 0.003965399167085054), (679, 0.0039612568863951385), (3921, 0.0039606559734949335), (1321, 0.003955818961122815), (2012, 0.003952817187572887), (3858, 0.0039414918202503296), (2676, 0.003941362381195121), (2510, 0.003940090800584614), (1507, 0.003936077482146546), (3759, 0.003935224968345478), (4496, 0.003934199978801902), (2305, 0.0039311423846719986), (38, 0.003928021118760087), (2486, 0.003924336373191983), (3791, 0.003921994190849367), (4335, 0.003915037003128032), (4121, 0.003909322483220002), (3253, 0.003908683768335674), (2873, 0.003903858537371174), (2339, 0.0039038457965317928), (2357, 0.0039020601202186204), (3649, 0.0038992785279467245), (4746, 0.0038984945932391177), (4317, 0.003897602319179146), (4737, 0.0038972557029495762), (2138, 0.0038956585068816475), (1437, 0.0038947778672293073), (3383, 0.0038919420629745845), (4452, 0.003887705157795351), (1928, 0.0038858491852439684), (3820, 0.003885792073315864), (839, 0.0038833628455915126), (2518, 0.0038802283744009914), (1560, 0.0038732691414031283), (2757, 0.003871883564562653), (4105, 0.0038581448470839815), (139, 0.0038564242256374334), (1311, 0.0038560000419887107), (40, 0.003855652005921834), (2810, 0.0038521828588981497), (2164, 0.0038472047054398657), (4108, 0.0038460365650214014), (3221, 0.00384432930055073), (2479, 0.003838188767817671), (4453, 0.0038377365898906), (1260, 0.0038341358990587947), (2381, 0.003832211036497585), (3080, 0.0038311764067641566), (2384, 0.003828101413650159), (2218, 0.0038212023760442215), (1371, 0.0038181009593743513), (365, 0.0038169388802511257), (2843, 0.0038168551322002838), (1836, 0.0038163135002381794), (687, 0.00381341341247147), (4324, 0.003810383271317532), (3688, 0.003808534984691521), (3572, 0.0038054209051533996), (3735, 0.003803479069496573), (3652, 0.0037978782224895426), (2998, 0.003797727888628037), (4003, 0.0037968465579885633), (362, 0.003794926759630425), (2493, 0.0037934613993485175), (1766, 0.003792934338397809), (1486, 0.0037853086826710163), (3519, 0.0037841961123655557), (2930, 0.0037790961702345344), (1089, 0.0037789295879592723), (3581, 0.003778444889221484), (3207, 0.003777161119287486), (990, 0.0037757929334526073), (141, 0.003775332983842521), (841, 0.003774122680735422), (1844, 0.0037736268280151976), (3837, 0.00377287903136312), (2626, 0.0037723035038019575), (2452, 0.0037708199546505933), (956, 0.003765837888570013), (1583, 0.003765654280751118), (4097, 0.003764054033280045), (2811, 0.0037640177198467), (3628, 0.0037586603222847276), (4226, 0.0037576468235552226), (3730, 0.0037573640697932805), (2575, 0.0037567700734429128), (363, 0.00375587698937938), (2968, 0.0037517437947353336), (678, 0.003747089157205936), (2458, 0.0037457276907178465), (1491, 0.0037456839469061274), (3181, 0.0037454724437344425), (4258, 0.003745036051980182), (2604, 0.0037405657516934787), (2979, 0.003734276401009471), (4207, 0.0037302400906249465), (4332, 0.0037289953093081955), (2082, 0.00372883086003065), (4413, 0.0037268836861778527), (1679, 0.0037241946958201998), (2371, 0.0037233741847036935), (2021, 0.0037205106918157165), (4086, 0.003719395243156859), (1246, 0.0037131784932188947), (1640, 0.003712366493774612), (4118, 0.003706563028660982), (3510, 0.00370547620652575), (1103, 0.0037038254418333546), (771, 0.003703034813270464), (1390, 0.0036979239756155667), (3943, 0.003694548961675329), (4492, 0.0036923117799680725), (2637, 0.0036902969356671744), (1520, 0.0036897340718882897), (2124, 0.0036835793454079325), (4131, 0.0036782078331857315), (4173, 0.003677503707260435), (1614, 0.003677017482519098), (1282, 0.0036746048423822106), (1732, 0.003673613769029065), (4607, 0.0036733975084087636), (4370, 0.003670931081184838), (1609, 0.003667898960142532), (1737, 0.003666443825434327), (1333, 0.003665365459938596), (3461, 0.0036637967811979514), (3539, 0.0036619004416653697), (1791, 0.0036591926733327185), (1205, 0.0036572055190272185), (3236, 0.0036556851909478006), (1856, 0.0036553208574237168), (4560, 0.0036552890560083095), (1926, 0.003652317763221622), (1596, 0.003651104459159755), (392, 0.0036510921606809545), (787, 0.003649754941153098), (361, 0.0036486102887595623), (4622, 0.003648492002298785), (2147, 0.0036483265312994596), (4256, 0.003647479359131619), (4557, 0.0036459969281342364), (3442, 0.0036458687308483814), (1099, 0.0036446860686988655), (2208, 0.0036429799376403115), (3464, 0.0036427893129414115), (2516, 0.0036418946109269728), (205, 0.003639592914863016), (4655, 0.003638170720491889), (3905, 0.0036357727802809672), (4260, 0.0036328800584308815), (2937, 0.0036325338535628956), (4180, 0.0036322435747883587), (1013, 0.00363183005570959), (415, 0.0036304487682169173), (1401, 0.0036294802598650284), (3041, 0.0036280321498356263), (3523, 0.0036263735009696312), (3422, 0.0036254348438581403), (3259, 0.003624899859349728), (4323, 0.0036204412102712052), (1578, 0.003620109304286485), (781, 0.003619789426509148), (1389, 0.003619442546148104), (3277, 0.0036191556868798423), (4705, 0.003616804629232176), (667, 0.0036136841962696033), (1336, 0.003609023323491398), (3051, 0.0036084459846503995), (1299, 0.003608149678920471), (1689, 0.00360618066004685), (2754, 0.003603525578517608), (2675, 0.0036031588565053887), (1193, 0.0036017130176430492), (1734, 0.0036015099267017146), (1142, 0.0036008500005101102), (2217, 0.003598298430997288), (2002, 0.003597463381351876), (3415, 0.0035972290707199503), (2768, 0.0035959376400707724), (3038, 0.0035955323992263033), (2380, 0.0035952452089567646), (3672, 0.0035946388525148164), (3870, 0.003593357298900636), (1965, 0.003590186837241077), (3018, 0.0035895262476388565), (2605, 0.003588033627278838), (4421, 0.0035879991374445554), (3591, 0.0035873346996820425), (2090, 0.0035872693341633525), (797, 0.003587173836632906), (3378, 0.003586666302432242), (2042, 0.003586652260334444), (4433, 0.0035860332212647246), (3310, 0.0035856941490534414), (3162, 0.003584137610498055), (1047, 0.0035811335714663584), (586, 0.0035804072129365636), (1432, 0.0035803293905349314), (1024, 0.003579920764169034), (1613, 0.0035751910828673017), (2241, 0.0035742198673698634), (2649, 0.003573291807490028), (3790, 0.0035724879893803785), (1702, 0.0035724558434558325), (4125, 0.003569918512621359), (793, 0.0035696218067502055), (1911, 0.0035693990315663077), (2325, 0.0035682209683189515), (4008, 0.003567130535430965), (1602, 0.003566178216092604), (1155, 0.0035648888825254837), (2194, 0.0035648615700459565), (1949, 0.0035633823737395314), (4552, 0.0035627253914241367), (4486, 0.0035626771609555464), (1165, 0.003560395032924955), (1542, 0.0035586711786734088), (3930, 0.003558427294777643), (1469, 0.003558301785585233), (961, 0.0035562194058709404), (4648, 0.0035547046120061603), (3287, 0.003553297234950634), (3428, 0.0035510246344542798), (2189, 0.0035510190082566817), (2222, 0.0035502705629107388), (1847, 0.003548761512492514), (2456, 0.0035475523062433595), (708, 0.0035462364382999006), (1244, 0.0035453748743412283), (1735, 0.0035446353450641955), (2648, 0.0035442121454830576), (59, 0.003541287646878591), (1961, 0.003540912929701182), (730, 0.003539157854414931), (1697, 0.003537990033523387), (4202, 0.0035372327044604335), (4388, 0.0035346510092284147), (3722, 0.0035339765063198965), (1557, 0.0035318967838136074), (1777, 0.003531191973029931), (2092, 0.0035308957609821953), (814, 0.003530799878386379), (2856, 0.003530408198577226), (4329, 0.0035292428457505114), (1917, 0.0035282658220717926), (1726, 0.0035271007941672715), (245, 0.0035256391738869557), (2307, 0.0035256113347069064), (2989, 0.0035249068064593294), (1525, 0.003524131226067019), (869, 0.0035241091280904385), (3169, 0.0035236485128344744), (1564, 0.0035202356168997904), (2251, 0.0035197373890000034), (3683, 0.0035183479291074236), (4093, 0.003515962339607706), (42, 0.0035157571788139892), (3209, 0.003515265789548557), (3632, 0.0035132611068702277), (2200, 0.0035124358469340216), (4404, 0.003511626973158679), (3912, 0.003511566902460635), (908, 0.003511376392053284), (134, 0.003511209422386772), (2290, 0.0035074955748866875), (1108, 0.0035070736675499262), (2444, 0.003506039751480185), (1085, 0.0035040380405188527), (1166, 0.003503668804993873), (3102, 0.0035031251196582566), (528, 0.00349980314055228), (1322, 0.0034989380378095624), (1587, 0.0034987431704375247), (3812, 0.003498429366076101), (219, 0.003497164525446349), (1425, 0.003496599757444956), (3060, 0.003493860600636032), (2551, 0.0034923988385603746), (3990, 0.0034917042036425455), (1361, 0.003491458554420706), (2896, 0.0034904264218723383), (28, 0.003489784977313554), (1889, 0.0034895725179462616), (2685, 0.0034882600904700954), (1105, 0.0034882036213387756), (4210, 0.003486336963285823), (2041, 0.0034858346297661725), (401, 0.003483619497699432), (2487, 0.0034834109298098256), (3650, 0.0034827499781688257), (2586, 0.0034825389700894327), (2889, 0.0034823832214419767), (4214, 0.0034815559558353305), (1473, 0.003481452605374703), (945, 0.0034803460067490567), (1599, 0.0034800591187828843), (3462, 0.0034798473675811694), (3332, 0.0034783285944204275), (1751, 0.003477563422658055), (1879, 0.0034773101956040685), (1611, 0.0034735788788055775), (3676, 0.003473442673888436), (1769, 0.0034733879315716303), (630, 0.0034729572767278638), (3245, 0.003472806964256178), (3119, 0.0034680663411098545), (1577, 0.003467173143336236), (1741, 0.0034649777156188113), (4300, 0.003464034691472979), (4609, 0.0034607955333053656), (4617, 0.0034598240476999284), (2994, 0.003459451668262548), (2449, 0.003459427901455103), (3494, 0.003459229265446088), (2153, 0.0034559548019431185), (4704, 0.0034558702010455498), (3052, 0.003455297096834037), (494, 0.0034529459288612802), (1388, 0.003452134269220138), (822, 0.0034517110142725784), (4184, 0.003451194110750091), (1906, 0.0034488283780931307), (1074, 0.0034477255995729555), (1505, 0.0034471172149454343), (943, 0.0034454075143899613), (2813, 0.0034444979829228208), (3926, 0.003442690919281172), (3055, 0.0034422672689168824), (264, 0.0034418986106781206), (2081, 0.0034408036327046683), (2709, 0.003438662485296664), (2804, 0.00343821915255475), (4099, 0.003436260034213301), (3662, 0.003435446868350455), (3033, 0.0034352199711149963), (4195, 0.0034350792019475387), (849, 0.0034349006768370854), (931, 0.0034347949025226375), (3343, 0.0034336913363156307), (1227, 0.003433680170494227), (1644, 0.0034332823197928213), (2046, 0.0034328831151155498), (4017, 0.0034328247178861547), (4291, 0.0034323493559481814), (1133, 0.003429776672720406), (965, 0.0034296515091711273), (3561, 0.0034292563189424557), (3104, 0.0034291181927140232), (3805, 0.0034271717902314373), (4592, 0.0034265242695162234), (3106, 0.003426283957121305), (627, 0.003425413786933311), (4457, 0.0034244987305216525), (4675, 0.0034242450068506115), (1638, 0.0034238367955306114), (1420, 0.003423176811513611), (1517, 0.0034220564290838675), (1022, 0.0034214472995106864), (3518, 0.0034212189007186275), (1444, 0.0034202216613033903), (3635, 0.0034201650419279526), (525, 0.0034187657441071082), (2014, 0.0034185967086060617), (2336, 0.003417875511235658), (3570, 0.003415663303351291), (3270, 0.003414818681561203), (1196, 0.0034147317674686263), (188, 0.003414730505686304), (1238, 0.003413737130389323), (2019, 0.003413592568543339), (22, 0.003412833388715119), (947, 0.003412379521714595), (3545, 0.003411617877910248), (3818, 0.0034086263657608766), (2923, 0.0034084243295973956), (1834, 0.0034074970582753084), (2280, 0.0034048599417715246), (1837, 0.0034034324319037507), (1198, 0.003402337703708407), (1986, 0.0033992700427211173), (2825, 0.003395510164582815), (4749, 0.0033949376126541394), (50, 0.0033943847941745957), (2435, 0.003394104263475065), (1028, 0.0033923020511389883), (1913, 0.0033919462829322556), (4529, 0.00339180107331009), (535, 0.0033914699079923027), (3073, 0.0033912275066769414), (3350, 0.0033909268931146264), (3443, 0.003390233360010743), (1447, 0.0033902241261215458), (1757, 0.0033859710478272454), (1849, 0.0033837274230706983), (3508, 0.0033825903325963), (2484, 0.0033823718987418022), (2310, 0.0033822652225718964), (4221, 0.003382197053404464), (1292, 0.0033800206046470903), (2128, 0.003379971367474407), (3090, 0.003379949978303731), (1330, 0.0033740993267526737), (2639, 0.003372358804616482), (3685, 0.00337199451407877), (4611, 0.0033718649451228155), (2329, 0.0033713653987599694), (2694, 0.0033696906826049017), (3939, 0.0033692604306326274), (2297, 0.0033690844018391306), (4029, 0.003368400046087657), (1130, 0.0033680562382776063), (3580, 0.0033675377926252036), (459, 0.0033673532826748133), (2673, 0.003365179072951748), (1842, 0.0033630058377083255), (4218, 0.0033621039282598023), (2616, 0.003360700071252906), (3066, 0.0033581735184592286), (2763, 0.0033567343341135004), (2504, 0.00335589248998815), (4112, 0.0033549978224041168), (4234, 0.0033530667850641435), (2861, 0.003353053992732149), (2655, 0.0033524085787883214), (3836, 0.003352164636837833), (217, 0.003350157024740785), (2322, 0.0033481479906177472), (2932, 0.003344660780419381), (4172, 0.0033442944456020716), (503, 0.0033435582448414513), (1235, 0.003338179449872343), (3286, 0.003337077147347835), (404, 0.003335601789802542), (662, 0.0033325623608145226), (345, 0.0033312687792994688), (1373, 0.0033299229529048543), (3127, 0.003329387492355658), (2150, 0.003328493264048012), (840, 0.0033277426214834756), (339, 0.0033261901867401556), (3878, 0.003324796853476462), (1267, 0.003322708569942322), (3366, 0.0033195522940883057), (1113, 0.003318111081352294), (546, 0.003316324599345329), (1368, 0.003316315508461328), (3149, 0.003315374589391014), (3896, 0.003314346327766321), (4314, 0.003314245356586413), (4696, 0.003314105055251051), (4444, 0.0033137580952799736), (2465, 0.003312682604467279), (2056, 0.003312185957705063), (2628, 0.003311580810168137), (3141, 0.0033114762434694883), (3998, 0.003311387506597989), (3582, 0.003311195585857926), (3562, 0.003310737072329285), (3076, 0.0033106615442181136), (4564, 0.0033095148922532977), (1668, 0.0033093880483081313), (521, 0.0033093071438425503), (1900, 0.0033091853693729455), (4407, 0.003308902848790865), (585, 0.003306515803281132), (3219, 0.003305924542879875), (720, 0.003305770979762112), (1561, 0.003303767352874732), (1293, 0.0033037125421311645), (2448, 0.003303706612048673), (2392, 0.0033029700885525365), (1125, 0.003302940759549866), (3292, 0.0033023066786558694), (1767, 0.0033018267661785315), (3886, 0.003300948366462489), (4303, 0.0033005942221929823), (1544, 0.0032994872447751067), (772, 0.0032974130597634016), (427, 0.00329687164816545), (1545, 0.003296021553096451), (3762, 0.003295664187443284), (1231, 0.003293673276051824), (2829, 0.0032930813288279616), (367, 0.0032927271528354527), (4434, 0.003292617111823177), (1912, 0.003290779774230355), (3595, 0.0032885696197729893), (1552, 0.0032862765996027783), (1526, 0.0032845825710448953), (1490, 0.0032840683282856363), (3965, 0.0032826415587631458), (1839, 0.003282391812134938), (1654, 0.003280899286029345), (4423, 0.0032803153619917545), (2620, 0.0032798468054001254), (4019, 0.0032793030663928876), (2425, 0.003278573540239152), (2050, 0.00327742963996832), (498, 0.003276811323007077), (1700, 0.003275729330623541), (2644, 0.003270529228226883), (780, 0.0032702063166408853), (4546, 0.0032698909736610035), (1915, 0.0032687794237789367), (1327, 0.003268492361412567), (2787, 0.0032683443796668716), (2140, 0.003268220247683249), (2631, 0.0032641102520130204), (1376, 0.0032637807513121488), (2255, 0.0032637287352775966), (1738, 0.0032629942156107853), (1532, 0.003262650398857414), (45, 0.0032621234625436223), (4272, 0.00326080023736125), (1487, 0.003258831065718223), (1818, 0.0032571428726476184), (53, 0.0032570266505480756), (2257, 0.003256934894948873), (1211, 0.0032569033542000072), (4037, 0.0032560942403593853), (3712, 0.0032558463190877343), (3322, 0.00325574618902348), (889, 0.0032556314374997315), (2645, 0.0032555940866447466), (3262, 0.0032549755728545305), (263, 0.0032526805233291166), (1029, 0.003252607955026525), (1785, 0.003252403376619734), (4071, 0.003252166985372636), (2350, 0.0032506425638307054), (2901, 0.0032478966495461713), (422, 0.003247560634166667), (3864, 0.0032436278448888774), (4230, 0.003241311649968858), (2154, 0.003240272207903886), (1895, 0.0032378773515812026), (4142, 0.0032342211879606954), (1783, 0.0032340814814631027), (1973, 0.0032333944078456237), (2311, 0.0032332860237420597), (1139, 0.003232937792586405), (2286, 0.003232842183819787), (1788, 0.0032321192091641893), (1824, 0.003230881481908924), (1914, 0.0032303304763150386), (1496, 0.0032298835393106593), (2179, 0.0032289489687570886), (3320, 0.0032282583141999494), (311, 0.0032261604361194015), (4400, 0.0032247893863224008), (4403, 0.003224286808906282), (3250, 0.003223621120346016), (4690, 0.003223382823416695), (1709, 0.003222217397488932), (1721, 0.003216320925240787), (702, 0.00321579084139405), (2530, 0.003215218639908858), (1855, 0.0032149243815264737), (648, 0.0032122288563492304), (1992, 0.003211119319446677), (3848, 0.00320939355511189), (2052, 0.003205493691346292), (2327, 0.0032046240536875185), (1899, 0.0032042829702907012), (4606, 0.003202584416609551), (3732, 0.0032022752376037393), (2306, 0.0032005502360299798), (1673, 0.0031998595825892396), (2590, 0.003199664137775998), (3828, 0.0031992977654973693), (690, 0.0031979630281125083), (2071, 0.0031976238767248938), (4710, 0.003197590472274254), (1353, 0.003195876284652713), (2450, 0.003195240645090268), (3543, 0.003195162951340443), (2795, 0.003194672513825227), (710, 0.0031931362500350604), (4305, 0.0031931020398416683), (2615, 0.003192892496011494), (417, 0.0031926835529915813), (2272, 0.0031926115093719953), (532, 0.0031916951889058762), (2874, 0.003190074157838394), (454, 0.0031900058258890283), (3128, 0.003188828597536785), (4325, 0.00318808891609642), (2183, 0.003187343348338226), (1152, 0.003186599992369907), (3354, 0.0031849148724811083), (916, 0.00318486991481114), (1291, 0.003183844330869695), (526, 0.0031810465681751912), (3321, 0.003180256317579561), (2093, 0.003178877609811959), (745, 0.0031779325236599423), (770, 0.003174697267169281), (2497, 0.0031744747220994744), (1711, 0.0031722917826627153), (1121, 0.0031693077676814858), (2491, 0.003169015117651784), (1149, 0.003168640336273919), (409, 0.0031644705311521452), (2445, 0.003163552413924328), (2274, 0.0031626084644124385), (4469, 0.003160688537224101), (2666, 0.0031596873840881853), (3687, 0.0031596116340737606), (3923, 0.003158215622131993), (4692, 0.003157744914439162), (3395, 0.0031575372482516547), (4521, 0.003157525807841303), (4577, 0.0031559384911646992), (4544, 0.0031557492367416395), (920, 0.0031553760568715328), (1987, 0.003155085374559607), (3638, 0.003153952355848524), (1331, 0.0031504338299076437), (4297, 0.003149727315116341), (4612, 0.003149228363037242), (3244, 0.0031486382019645792), (1982, 0.0031482614449784255), (2225, 0.0031482074573659278), (1524, 0.00314794409834847), (821, 0.0031478855039843903), (2207, 0.003146759614384779), (4186, 0.003146366800867664), (4600, 0.003145493112032459), (14, 0.0031452041585231186), (2203, 0.0031451506241641516), (1794, 0.003145117811455092), (1242, 0.0031443526396139564), (4242, 0.0031427048224212635), (1714, 0.0031425224224683026), (958, 0.0031416341023404095), (2557, 0.0031373956781864257), (338, 0.003135899959731005), (2438, 0.003133397775730918), (3159, 0.0031308746990998146), (1729, 0.003130561064218151), (3842, 0.00312844360947541), (1288, 0.0031273498115262357), (3885, 0.003126800360973075), (2033, 0.0031264795787420002), (3197, 0.003123716792401503), (4107, 0.003123636297944361), (1784, 0.0031211098147739826), (3613, 0.0031202081006325906), (4660, 0.003119419282375335), (4447, 0.0031183708392760563), (4724, 0.0031183676221731215), (670, 0.0031175590404228203), (3521, 0.003116461535305317), (2063, 0.003116106127365873), (2424, 0.0031154585183909064), (1626, 0.003114428585449049), (1567, 0.0031135588970955075), (4191, 0.0031134202985134986), (2043, 0.003112534249728579), (2542, 0.0031110420211893975), (1173, 0.003110513200452466), (4109, 0.003110043143194671), (4647, 0.003108093917576603), (1093, 0.003106601389621251), (4572, 0.0031046741049449524), (4298, 0.003103463274121691), (2058, 0.0031017610204088285), (4209, 0.0030998369683668376), (214, 0.003099412359631701), (4443, 0.003098929298043022), (2426, 0.003098058871716643), (2262, 0.003096578503286455), (898, 0.0030963379479370776), (3154, 0.003096203932868062), (2957, 0.003094819468469202), (2568, 0.0030938987372173443), (3874, 0.0030934017424047422), (4723, 0.003092972671367049), (2005, 0.003090662524548685), (2514, 0.0030880143243965904), (2188, 0.00308728565323478), (3123, 0.003085603925227105), (3397, 0.003084650563967747), (402, 0.00308384813820996), (664, 0.003081045520293293), (2879, 0.0030807726897299713), (2185, 0.0030791913903363633), (2459, 0.003079049037086385), (577, 0.0030783925755305417), (3633, 0.003078349789226799), (3231, 0.0030779533950845424), (1870, 0.0030720694989002585), (1750, 0.003071768724975442), (3358, 0.0030711426473847034), (3228, 0.0030699682686670888), (2389, 0.003065947135950535), (1593, 0.0030656727389004102), (3865, 0.0030653009077021487), (1064, 0.0030648086658614446), (4062, 0.0030639803736681767), (2833, 0.003063755656727718), (383, 0.0030633297609926444), (1025, 0.0030629690341599284), (3206, 0.00306067071646397), (4237, 0.003060039349664283), (2778, 0.0030588397511466625), (497, 0.003058699103731645), (1994, 0.003058251152578712), (3082, 0.0030570293498231984), (3779, 0.003054688331325127), (2454, 0.00305467782180614), (3485, 0.003054315209303851), (1694, 0.0030517339077354047), (2993, 0.0030512099332258655), (1601, 0.003050927093918734), (3901, 0.0030508103540010994), (1652, 0.0030487791829295658), (2366, 0.0030481946250896156), (1264, 0.0030472043924586927), (1468, 0.0030466639884906433), (393, 0.0030438310736358967), (3861, 0.003043526516244829), (91, 0.00304291334545446), (1429, 0.0030411357499877524), (777, 0.003040407883271686), (3063, 0.0030396107245705207), (1168, 0.003037728381750437), (2360, 0.0030376837297064066), (4358, 0.003032547355635701), (836, 0.0030301256807373504), (4596, 0.003029421044831828), (2895, 0.003027967652476296), (3911, 0.003022771096417117), (912, 0.0030224213652678598), (545, 0.003019428565908003), (1213, 0.0030193404237981595), (3766, 0.0030167382713543298), (3411, 0.0030155977086423233), (3675, 0.0030155026738424525), (4701, 0.003014977472502754), (4558, 0.0030116167337305064), (1684, 0.0030108066687660404), (2433, 0.0030099576587782045), (949, 0.0030089697838113264), (3803, 0.003007271927613044), (4554, 0.003007042710629713), (3232, 0.0030051830151445855), (1194, 0.003003060552349906), (4637, 0.003001734134993119), (4490, 0.0030000225442799455), (4280, 0.002998029396502924), (2059, 0.002997677680342578), (2772, 0.0029966122990257925), (2460, 0.002995446198922135), (862, 0.0029943911754146822), (1348, 0.0029939401600046415), (4735, 0.0029934655750344604), (4035, 0.002990719784285036), (2971, 0.0029907131033511535), (475, 0.0029887770620256595), (4353, 0.0029849327366468148), (2539, 0.002983786248527273), (3684, 0.0029829770278306466), (3509, 0.0029820886829968283), (3935, 0.002980863731264668), (2613, 0.002980189421825674), (1249, 0.0029798954133480097), (1379, 0.0029791811916388853), (4416, 0.0029776957799723994), (892, 0.002977688237796224), (3081, 0.002977102819563913), (2378, 0.0029770662836410395), (73, 0.0029757398460354954), (4584, 0.0029740218527537477), (4694, 0.002972315653811776), (2406, 0.0029714315562167325), (2707, 0.002968994004223209), (1698, 0.002968920514710659), (1521, 0.0029685642296296806), (629, 0.0029680435130234038), (2822, 0.0029663653465178217), (4426, 0.0029657360130328505), (518, 0.0029656333852847933), (1212, 0.0029652075955413034), (1850, 0.0029646549446690337), (4412, 0.002963323629800651), (2417, 0.0029618948720932796), (1748, 0.002961749757973852), (4030, 0.0029609150955611885), (4589, 0.0029609003380475177), (3275, 0.0029566968200989865), (937, 0.0029555048058887076), (4477, 0.0029554044010671257), (1323, 0.002953183116906558), (4032, 0.0029517947133635056), (4075, 0.0029517395298273076), (3951, 0.0029517146588421434), (3540, 0.002950487106590391), (2142, 0.002950344176129719), (2688, 0.0029488521120449385), (1008, 0.0029452665493637327), (3019, 0.002944879062264514), (4126, 0.002943654407745197), (3884, 0.0029432516566373244), (2098, 0.0029401079168270327), (3307, 0.0029384882195134573), (2427, 0.0029384147248558237), (3450, 0.002937980044793362), (4002, 0.00293782824515235), (1070, 0.002937744110300033), (4163, 0.002932882855074457), (3729, 0.0029316881443943632), (860, 0.0029310009402469103), (3916, 0.0029288114055791292), (443, 0.0029259308527034506), (1781, 0.002924563195899449), (3230, 0.0029205008116942994), (2987, 0.002920431571047822), (1178, 0.002919861086701495), (3419, 0.0029193456080845695), (1275, 0.002918893473556741), (3396, 0.0029178698526223317), (823, 0.0029158537326698037), (2204, 0.0029137092212132695), (3164, 0.002910733199735762), (3355, 0.00291032721258425), (1010, 0.0029071240750307755), (2625, 0.002906386215207985), (1300, 0.002906378405159083), (4267, 0.0029047712920242876), (274, 0.0029045976301168832), (970, 0.002904023209893861), (614, 0.002902453122423586), (3674, 0.002901401814510072), (4516, 0.0029007986904314945), (4465, 0.0028992170453143616), (721, 0.0028984907388023033), (4244, 0.002898065761745493), (3903, 0.002897553985757416), (3639, 0.002895158257764106), (3423, 0.0028945358079773944), (3651, 0.002893867893673668), (3481, 0.00289277085652615), (1924, 0.0028900283661474416), (3658, 0.0028882772816500803), (1957, 0.00288761495978382), (876, 0.0028874253994642793), (2296, 0.0028873335903636917), (1497, 0.002887060447699567), (739, 0.0028866080978680216), (3661, 0.002885103191772646), (4753, 0.0028845499100802877), (3883, 0.0028835561157223213), (1214, 0.0028821294190582328), (1222, 0.002881393643299764), (3559, 0.0028809714807186285), (2346, 0.002876237655716946), (3611, 0.0028742987353877927), (2638, 0.0028742444344527504), (1062, 0.0028739622306992786), (2437, 0.002871323852637429), (1981, 0.0028704153557667146), (4187, 0.0028703473620738753), (1843, 0.0028692045206899575), (107, 0.002869086005106105), (3186, 0.0028683293261919152), (3960, 0.0028678853692121237), (1887, 0.002866742902959814), (2373, 0.0028664757058013087), (1938, 0.0028657389095192985), (964, 0.0028653807939086865), (2881, 0.002865040579660034), (4731, 0.0028641451351367224), (2623, 0.0028637995689020667), (3043, 0.0028637153294319385), (4092, 0.002862755901347924), (2400, 0.002861216473631901), (3680, 0.0028605882244995677), (4494, 0.0028578137044446366), (1148, 0.0028561903219689357), (2227, 0.002856109514168165), (683, 0.0028558371456130524), (281, 0.0028557655660758114), (1383, 0.002855589135228959), (235, 0.0028552799646688366), (1944, 0.0028547396784703574), (4699, 0.0028542066380834643), (1349, 0.0028503170393359535), (3587, 0.002849623207397922), (3212, 0.0028493967810297137), (419, 0.0028490997246824546), (4368, 0.002847041417383337), (533, 0.0028452682520183196), (2508, 0.0028450593672772165), (2770, 0.00284231254042306), (1752, 0.002841797040344114), (922, 0.0028381520405286985), (1716, 0.0028370299770777412), (2903, 0.002836878258371764), (3196, 0.0028366733980384716), (4160, 0.0028362630685283643), (3012, 0.0028361674308006644), (2579, 0.0028355309895072077), (2025, 0.00283536858451504), (596, 0.002834397266506685), (2916, 0.0028335368036703), (1862, 0.0028331524887183846), (1499, 0.0028318022194358462), (3414, 0.0028317223977220676), (4535, 0.0028314084526802185), (436, 0.0028302918797286783), (4396, 0.0028302400090291827), (2665, 0.0028302286009366517), (2134, 0.0028295650409679075), (2356, 0.0028279143016366956), (4401, 0.0028263465385021153), (3737, 0.002824714062347505), (3593, 0.0028238980481699724), (1289, 0.002823877570836919), (701, 0.002823836781234797), (458, 0.002822645576152266), (2439, 0.00282196186499198), (1156, 0.0028216293628694792), (2840, 0.0028214089694914343), (3640, 0.002821193229772537), (1474, 0.002821142831651305), (1341, 0.002821037317013629), (2913, 0.0028192482269405513), (444, 0.0028186289837154226), (3877, 0.0028165419538603255), (319, 0.0028163054782278534), (2585, 0.0028160956221118315), (3157, 0.0028156820484341), (4397, 0.0028153628378420744), (41, 0.002814841176137885), (4593, 0.002812938808363533), (1498, 0.0028123858725764782), (3857, 0.0028097175247455875), (2854, 0.0028094670900879067), (2505, 0.0028093983354481496), (1890, 0.002806973229207098), (1326, 0.0028058730404909296), (888, 0.0028036625886296144), (2018, 0.002803554553995064), (4531, 0.0028034972210172334), (366, 0.0028030308594902313), (688, 0.002802318169155291), (1960, 0.0028008540538498037), (3797, 0.0027993453059002534), (3101, 0.0027948065662463744), (2040, 0.002794713980923974), (4042, 0.0027940015093681084), (967, 0.002792922061815053), (2176, 0.002792575688253039), (3961, 0.0027921600259856742), (2112, 0.0027920746387776504), (2428, 0.002791732380182026), (715, 0.0027914952750500576), (1580, 0.0027914196155158014), (4619, 0.0027910973355544737), (254, 0.0027882401281492503), (48, 0.0027873423201870513), (1754, 0.002786685385120281), (506, 0.002785409273674887), (2996, 0.0027839155261650665), (371, 0.002783647903613981), (1695, 0.0027820430310479516), (3924, 0.002780788616525733), (1344, 0.0027793661197185256), (1454, 0.00277853738073987), (476, 0.0027768603011317644), (3677, 0.0027767989256902415), (2739, 0.002776114560346703), (450, 0.0027758022595396063), (4602, 0.002775486491939031), (4046, 0.0027732270521431883), (3971, 0.0027718791354861), (4048, 0.0027693517931076154), (4601, 0.0027688611673269406), (2624, 0.002768030267664526), (123, 0.002767677965529528), (1646, 0.0027655732137936567), (3714, 0.002765037768335727), (4130, 0.0027649380644062136), (2229, 0.0027645309235474255), (3497, 0.0027639551730354378), (2364, 0.0027635505633892346), (896, 0.0027635044042254855), (1115, 0.002761832795630477), (2646, 0.0027617722415288863), (673, 0.0027605565601186654), (3813, 0.002760155619670881), (4732, 0.0027591528798195414), (675, 0.002758720973896905), (4133, 0.0027583484598504124), (3749, 0.002758205947692895), (4116, 0.002757939620916297), (4519, 0.0027575094241743692), (2293, 0.0027574183740473024), (2037, 0.002756850430758174), (1805, 0.0027561466585737143), (342, 0.0027557470628848026), (4669, 0.0027551739781140993), (4013, 0.002754157005087791), (499, 0.002752981585768915), (2097, 0.0027528089941879523), (3064, 0.0027526095269541314), (1268, 0.0027516869546188624), (3516, 0.002751217234478687), (481, 0.0027510596502456322), (887, 0.002750619575802795), (2214, 0.002750477544649895), (4087, 0.002749961234288569), (1997, 0.0027484244012409907), (2774, 0.002746573545862248), (1586, 0.002746008282330317), (1676, 0.0027444174559028175), (2595, 0.0027437796286719344), (3642, 0.0027431721150161267), (4722, 0.0027424545925906936), (1325, 0.002741886713128654), (2888, 0.002740251915672018), (3771, 0.00273997323531544), (3694, 0.002737708989751928), (4545, 0.002737522637235149), (1959, 0.0027364170965731033), (3269, 0.0027363943089702973), (952, 0.0027345681987787905), (1015, 0.0027345272675430654), (1874, 0.0027338690101606426), (794, 0.002733834579284195), (3704, 0.0027337203758139544), (2477, 0.0027331391664833604), (3086, 0.0027327440204903573), (2734, 0.0027318742158757674), (4024, 0.0027318107211486563), (3757, 0.0027288126540484766), (2377, 0.0027284860924785517), (728, 0.0027284394787231523), (2190, 0.0027267734047660627), (4579, 0.0027266927628181964), (3692, 0.002723734491410176), (430, 0.0027227776558281236), (3112, 0.002720205898753075), (1995, 0.0027201334998947784), (4540, 0.0027181535149567748), (4245, 0.0027179301750689805), (791, 0.0027175784865938655), (1708, 0.0027170155389460477), (2162, 0.002716582672219677), (3095, 0.0027158692400299682), (991, 0.002715439234550598), (395, 0.0027141035295779933), (4269, 0.002713434730108828), (485, 0.0027109468481221442), (3781, 0.0027104497149133566), (4495, 0.00270958385592863), (1140, 0.0027086037779257936), (4574, 0.002708595957438222), (2725, 0.0027054196464144967), (4431, 0.0027053532777664745), (3873, 0.002704955290764782), (4680, 0.0027047335256836793), (4038, 0.002704454108278116), (1712, 0.0027039857545144677), (1141, 0.0027034119760265644), (2964, 0.002703222189810061), (4005, 0.0027030533510816307), (2949, 0.002702919205694515), (3007, 0.0027024958662877864), (2104, 0.002701632247657439), (12, 0.0027014112278552385), (3780, 0.0027010109125986514), (1119, 0.0027008679636146794), (2393, 0.002699629255833699), (1071, 0.0026995715788405436), (4231, 0.002698506916217193), (1320, 0.0026981824789497895), (826, 0.0026978950401126975), (2096, 0.002696323739575444), (2522, 0.002696076876817924), (4355, 0.0026949749050904897), (4169, 0.002694662919049681), (3987, 0.0026943010031283457), (1779, 0.002693276141868724), (74, 0.002690420287184148), (680, 0.0026902848263678654), (2113, 0.0026896995166153393), (1339, 0.0026888575033995844), (622, 0.002688013461741802), (3590, 0.0026871658337895535), (1896, 0.0026836371551861044), (2565, 0.0026835157657964944), (206, 0.002683454434131011), (2361, 0.0026832457062591648), (68, 0.0026828689027968184), (4471, 0.0026825706815648354), (1687, 0.002682150767137904), (2418, 0.00268145744896284), (3618, 0.0026814408206670038), (2792, 0.002680072782835144), (3483, 0.0026784074687897443), (4505, 0.0026776724745232443), (1853, 0.002677645461647674), (2953, 0.002677622779839447), (2714, 0.0026772638663642555), (1484, 0.002675907797344463), (2288, 0.0026757535426221255), (2196, 0.002675141063115819), (4286, 0.0026745707072893493), (2849, 0.0026743694745954318), (4318, 0.0026730963259033436), (3777, 0.002672790148832517), (1918, 0.0026720623301646506), (3264, 0.0026711161331661776), (4123, 0.002671029438179998), (483, 0.002670935090883812), (4, 0.0026691202920347316), (4033, 0.002668750642664152), (1225, 0.0026686809492357006), (470, 0.0026680264105837103), (1400, 0.0026665762150302266), (1916, 0.0026657774359346176), (4474, 0.0026635626319819793), (1670, 0.002662526756855078), (1570, 0.002660407987356114), (421, 0.002658264525789971), (2419, 0.0026577007157482704), (3372, 0.0026567762022028725), (4757, 0.0026565470111013178), (4178, 0.0026562268483639293), (3242, 0.002655911603490454), (1643, 0.002655815051732808), (4225, 0.002655491824138296), (716, 0.0026527289217772986), (1402, 0.0026526626511342), (173, 0.0026512483314557115), (1192, 0.0026504251961429336), (2088, 0.002650375562341604), (4363, 0.0026494845637373807), (1439, 0.002648688456031851), (4430, 0.0026485680607575657), (4497, 0.002648467793455054), (845, 0.0026483542592685627), (502, 0.002648306619716615), (3437, 0.002648255040276042), (1736, 0.00264823239159912), (2083, 0.002647360864315776), (2640, 0.0026468442944355035), (4354, 0.0026463282739927637), (20, 0.0026459701727945756), (3770, 0.002645345725338726), (837, 0.0026421734604608906), (3862, 0.0026419989758851934), (4083, 0.002641028486042881), (1229, 0.0026409860652234036), (482, 0.002640419299023524), (3574, 0.0026398314286010457), (4629, 0.0026389517091922362), (717, 0.0026380470184031884), (4419, 0.0026372075448435218), (2545, 0.002635547574310996), (1983, 0.0026346311712237384), (4089, 0.002633972642513449), (972, 0.0026327466192776327), (34, 0.002632319611532711), (3902, 0.0026320811590995834), (1083, 0.002632039907212235), (4361, 0.0026318826954401346), (369, 0.0026305499803095313), (3353, 0.002629956926049033), (1048, 0.0026287664526044754), (3778, 0.002627642359636747), (551, 0.0026271954226966833), (447, 0.002626758833951766), (3666, 0.002626611085624147), (4262, 0.002626311146404146), (2016, 0.0026261384717014002), (3536, 0.00262478872940963), (987, 0.002623833065936295), (2072, 0.0026212919076364495), (4379, 0.0026210022004943658), (3959, 0.0026200942031337766), (637, 0.0026196076510226892), (11, 0.0026195977365517553), (2123, 0.0026183940428651936), (584, 0.0026175286859956353), (1703, 0.0026173670879285995), (3689, 0.0026165792689042447), (4340, 0.0026163474479668943), (3527, 0.002614925957328549), (4334, 0.0026145705747948485), (980, 0.002614502852085199), (2919, 0.0026133051963358623), (2053, 0.0026117051824053245), (806, 0.0026105823853131275), (4249, 0.00261011507912458), (3623, 0.002609591003610836), (2988, 0.002609088352005412), (2126, 0.002608839463577308), (4470, 0.0026080866785507485), (3636, 0.002606951292167527), (1717, 0.0026053044233252435), (3153, 0.0026049221036250196), (2334, 0.002603742940376371), (2668, 0.0026028662640662026), (3233, 0.002602444541032309), (4643, 0.0026021219623175262), (631, 0.0026010017321842394), (176, 0.002599363950845433), (2321, 0.002599019771862619), (2466, 0.002597957227386097), (1294, 0.0025969070351335053), (1334, 0.002596865108126092), (509, 0.002594249803765843), (4563, 0.002594016337087492), (3701, 0.0025934059781655416), (4098, 0.0025930471875366), (1254, 0.002592643134553584), (3225, 0.0025922961147157825), (3445, 0.002590729694857507), (1355, 0.0025905344031436233), (2977, 0.0025901674563675115), (3000, 0.0025900724579623413), (4533, 0.0025890018477432095), (4273, 0.002588670797646246), (3542, 0.0025882529475815684), (4189, 0.002587592740562747), (652, 0.002587487231249058), (1174, 0.00258610580021685), (2784, 0.0025856360919560947), (1936, 0.002585454449761876), (1931, 0.002584630702812096), (3699, 0.002583816547581521), (1176, 0.0025822301466394515), (414, 0.002581133286738649), (1182, 0.002580972157955259), (1740, 0.0025805430885920445), (593, 0.002580205946603897), (4283, 0.0025786271996704733), (2073, 0.002578177907302163), (750, 0.0025771885652261604), (850, 0.0025753180487928418), (3707, 0.0025746522127877065), (832, 0.0025721497841999542), (2210, 0.0025720114900126974), (1087, 0.002571817275687461), (3501, 0.002571412584715801), (2045, 0.002570873416644649), (994, 0.0025707783226649756), (4068, 0.0025699830006876336), (2295, 0.0025699121064652673), (3643, 0.0025699068625412206), (353, 0.002569222092931457), (1440, 0.0025687451931851817), (1413, 0.002567332947094628), (544, 0.002567109163261959), (4004, 0.00256545607239892), (2091, 0.002564902301823725), (4255, 0.002564405291199237), (2277, 0.002564317911911667), (2374, 0.002563749524366648), (2887, 0.0025632392320372524), (1278, 0.0025622226466566465), (2061, 0.0025621994683228096), (2647, 0.002562144439029774), (4014, 0.0025595419623030487), (1138, 0.0025589608283693543), (1872, 0.0025585827197352083), (4677, 0.0025568379880713706), (4391, 0.002556501953970482), (1985, 0.0025561820431492834), (864, 0.0025561713219899823), (4501, 0.002555775908814838), (1335, 0.002554881133381748), (636, 0.0025547882568083867), (1510, 0.0025538168106756065), (1922, 0.0025536616702963115), (4137, 0.002552912386397333), (1574, 0.0025527955904234025), (1706, 0.0025527324998427916), (4266, 0.0025526349284305055), (3210, 0.0025516725708520055), (4503, 0.002551268277496618), (848, 0.002551200591957071), (3227, 0.0025506564959479907), (628, 0.0025504928739186546), (2109, 0.0025500004114068606), (993, 0.0025482975094122274), (2934, 0.0025481232620752307), (2606, 0.0025471635800144742), (696, 0.002546276876227602), (3436, 0.0025459571444154516), (2783, 0.002545810084515113), (104, 0.0025456627397832166), (4686, 0.002545115112512806), (4517, 0.002544994288704995), (2067, 0.0025449018342675947), (2533, 0.0025442983800210927), (1876, 0.002544224896982685), (4081, 0.002543693976991008), (4604, 0.002543356741548488), (2826, 0.0025432004001161874), (3125, 0.0025421877642965557), (4435, 0.002541760986042248), (378, 0.002540526784850494), (1191, 0.0025396693589781086), (3491, 0.0025396238903530525), (3564, 0.0025395072329633017), (1223, 0.0025394770846326026), (1131, 0.0025381348941677442), (172, 0.002537713918848786), (5, 0.0025372194206669495), (2219, 0.002536608892497845), (4715, 0.002536218870724148), (4640, 0.0025343710044715578), (1385, 0.0025328741116977774), (2695, 0.0025328131843713316), (2831, 0.002532598999769225), (2354, 0.002532214692926629), (2064, 0.0025316829308650915), (749, 0.0025312133198794806), (4330, 0.002531103344222528), (3612, 0.0025306598580779557), (761, 0.002530068310566933), (3478, 0.002529698506728561), (226, 0.0025293458157435917), (1179, 0.0025293417968759112), (986, 0.0025277615977851906), (4427, 0.002526853389671727), (1163, 0.0025252340281637572), (66, 0.0025247581248960755), (2250, 0.0025242321020264827), (280, 0.0025230784404841385), (3346, 0.002522967971802016), (3174, 0.002522939002880152), (4016, 0.002522727956319888), (109, 0.002522028139738478), (79, 0.0025218046253251227), (2900, 0.0025216482005008104), (3330, 0.002521077588534501), (4268, 0.002519475906250848), (3216, 0.00251735314500908), (2853, 0.002517018125620186), (3807, 0.0025164287800603018), (4511, 0.0025160604804555296), (689, 0.002515817861976392), (1678, 0.0025152396767291205), (4409, 0.002514727774412627), (3299, 0.0025137065237264954), (988, 0.002512636080117364), (2289, 0.0025121750356507312), (1102, 0.0025106694184626158), (3374, 0.0025105207955220714), (1483, 0.002510071474056246), (1811, 0.002509349480302168), (3441, 0.00250891521804049), (3727, 0.0025081675974304206), (1891, 0.002507743269516643), (2174, 0.002507471123523224), (3553, 0.002507156375135684), (400, 0.002506466371582458), (1252, 0.002506326033095579), (3624, 0.002506251355187635), (894, 0.0025059289155320214), (1072, 0.002505542390327848), (3435, 0.00250510508572718), (4520, 0.0025042329976150547), (348, 0.0025041816981554005), (1059, 0.0025040791836911424), (3596, 0.0025035548509177896), (1831, 0.002501233845772871), (247, 0.0025012336442107254), (466, 0.002500969996191255), (3381, 0.0024994861691114392), (1500, 0.0024994659349535514), (4228, 0.002499200507091352), (534, 0.002498484607473773), (61, 0.0024975191846433016), (769, 0.0024965763688875307), (374, 0.0024958611474151624), (1550, 0.002494444891468354), (1621, 0.0024938267845490527), (2416, 0.002493203793855142), (1257, 0.0024927811696915745), (4668, 0.002492596643170678), (4487, 0.00249228223189733), (282, 0.002492143225151305), (3173, 0.0024912784008553498), (2173, 0.002491023247525083), (2961, 0.002490023915951351), (3093, 0.002489572121006538), (2946, 0.002489542923335245), (3195, 0.0024894578089021584), (3906, 0.002488903616026192), (989, 0.0024881429622822617), (1338, 0.0024880685742635893), (4349, 0.0024874756444769525), (2463, 0.002486580515682241), (1110, 0.002486525611224111), (2069, 0.0024854655292431554), (727, 0.0024853748404709947), (3499, 0.0024851385850540686), (4685, 0.002483592802624328), (4284, 0.002482099322124657), (1319, 0.0024818800650225612), (119, 0.0024818577639235213), (4020, 0.0024817432973113884), (1807, 0.0024813190806077614), (3046, 0.00248111486420965), (2980, 0.002480984042386124), (3557, 0.002480683747582657), (3827, 0.002480304571253963), (3379, 0.002480131697992089), (2216, 0.0024792345703718954), (1882, 0.0024785584383978485), (98, 0.002477055727121909), (4362, 0.0024769586675354666), (1527, 0.002475739433582195), (26, 0.00247517112842256), (2910, 0.0024750968898067226), (2226, 0.002473593806780709), (870, 0.0024735802403590993), (4687, 0.0024735259464396964), (4641, 0.002471205609099144), (3069, 0.0024703715178995963), (2632, 0.002470230839586042), (0, 0.0024700993014189596), (2029, 0.0024697250774168155), (1617, 0.002469641054208101), (4299, 0.0024695142693503887), (3719, 0.002469121688202708), (3706, 0.0024688008430573827), (4743, 0.002468271979781377), (446, 0.0024677345135078565), (3412, 0.002467171769903999), (2909, 0.0024671656142110678), (1653, 0.0024668784038154768), (4387, 0.002466638063959253), (799, 0.0024660645586639255), (336, 0.0024650924639218912), (2279, 0.0024647970131901897), (2698, 0.002464688032367592), (2103, 0.002463229736254852), (127, 0.0024631407761164254), (1096, 0.002461043833985493), (2008, 0.0024601117663545923), (2814, 0.002459035217681968), (1017, 0.0024588111514261568), (2401, 0.0024585232175665084), (1035, 0.002457533705398496), (1967, 0.002457523560977819), (4693, 0.002457271418796849), (4576, 0.0024570420086880364), (1813, 0.0024559439758987545), (522, 0.002455572650845945), (292, 0.0024543468513904313), (349, 0.0024534819139677296), (676, 0.002452477974606631), (4550, 0.002452384477276443), (4573, 0.002452324522902329), (643, 0.002451339927902755), (2808, 0.002451225408027744), (1044, 0.002450566937237726), (4673, 0.0024501254840407086), (1671, 0.0024491723452273926), (1030, 0.002448719643861264), (4129, 0.0024485651233636736), (1481, 0.0024483957239960566), (817, 0.0024480275129920843), (541, 0.002446850078118922), (4472, 0.0024453332367657386), (3028, 0.002444561974667953), (2080, 0.002444137613912592), (2571, 0.0024440522981302687), (1645, 0.002443833196508486), (167, 0.002443831806889064), (4336, 0.0024434654789534673), (4069, 0.00244341206302283), (2612, 0.002443147822952285), (2268, 0.0024431249024400863), (651, 0.0024422950477334168), (87, 0.0024420326579265806), (1969, 0.00244128257849237), (19, 0.002440710395067888), (2027, 0.002440162719255531), (3696, 0.0024395766114229784), (3660, 0.002439470448099121), (3010, 0.002439383064073534), (2716, 0.0024366513282451856), (112, 0.002435421752497243), (4461, 0.0024353053859708694), (3917, 0.0024334372392706438), (1864, 0.002433106913029232), (646, 0.002432685260238881), (3900, 0.0024325317665966507), (3487, 0.0024322162046591196), (4658, 0.002432002081664194), (396, 0.0024309485704691104), (4729, 0.0024299035198311774), (620, 0.0024296808780221437), (782, 0.0024274468479946), (2117, 0.0024265149090082904), (18, 0.00242569167957278), (4670, 0.0024231995614705827), (3504, 0.0024229963213384977), (2024, 0.0024224215600133305), (731, 0.0024198350023190195), (2752, 0.0024195272973423308), (52, 0.0024187522948410007), (2141, 0.0024179195983681837), (4567, 0.002417729367455154), (4155, 0.002416723684478768), (4614, 0.002416306114510169), (1854, 0.0024152655660091803), (854, 0.002414220561101502), (798, 0.002414087015263451), (4152, 0.0024135316568591352), (3122, 0.0024132502816103444), (3978, 0.0024128733851606883), (2540, 0.0024109926936626814), (1001, 0.002410991480512099), (3390, 0.002410262142660192), (1153, 0.0024099328551897546), (2473, 0.0024092000847678132), (2121, 0.0024083064046286824), (3035, 0.00240824745917024), (3784, 0.002407846131367039), (4085, 0.0024076970031280823), (164, 0.0024071042897143937), (3036, 0.0024050852343767653), (2765, 0.002404573333623846), (1375, 0.0024043344085308976), (1123, 0.002404195902291516), (1132, 0.002404130951770589), (1255, 0.0024035946928107127), (2965, 0.00240302344886415), (4428, 0.002402073910631615), (4374, 0.0024012817325078572), (1160, 0.002401096930354029), (2224, 0.00240044394508321), (437, 0.0024003307441325373), (767, 0.0023996757168013617), (4345, 0.002399525823689206), (962, 0.0023986953795073957), (911, 0.002396589389576299), (2572, 0.002396308658363299), (1710, 0.0023962738784838993), (3293, 0.002394342285020336), (2679, 0.0023937669435055773), (4124, 0.0023936521087194436), (203, 0.0023935836613411554), (2651, 0.0023933880441488037), (2598, 0.00239336532381915), (434, 0.002393216635131474), (2133, 0.002392722125143111), (1742, 0.0023919014524887107), (1404, 0.002391232964263159), (2997, 0.0023910271155404782), (4399, 0.002390741978631845), (2800, 0.002390006544856776), (818, 0.002389817035603203), (878, 0.002389327261779128), (1032, 0.0023893115590520072), (3819, 0.002388506321620155), (578, 0.002387511472688312), (126, 0.0023867823247354235), (3734, 0.0023859404670322337), (1036, 0.002385875537484688), (387, 0.0023857983012374484), (276, 0.0023852188001230266), (1177, 0.0023829777641922933), (2023, 0.0023821987186190448), (2525, 0.0023820692269609033), (3433, 0.002381940203304849), (31, 0.002379102824868177), (694, 0.0023788524777391957), (2899, 0.002378013295623042), (742, 0.0023779048553438883), (1041, 0.00237455869818536), (154, 0.002374519356170396), (287, 0.002373657517697362), (3057, 0.002373111078577613), (307, 0.0023728386403008344), (1793, 0.002370993331460796), (3243, 0.002369299435852419), (734, 0.0023691310631363885), (1665, 0.0023685733418296983), (2496, 0.00236570509580093), (4059, 0.0023656840550446453), (1620, 0.00236540714380378), (900, 0.0023652240362495793), (2552, 0.002365101848631292), (1206, 0.0023647923044498556), (963, 0.002364645919798615), (1884, 0.0023644247975805354), (2634, 0.002363702200962286), (3399, 0.002363400204922111), (3452, 0.002358886709293566), (229, 0.0023584155521710563), (2862, 0.0023575401292583644), (372, 0.00235702683732151), (598, 0.0023569713812120405), (895, 0.002356810890877377), (3725, 0.0023554416934593106), (1555, 0.0023549587375338043), (213, 0.0023544409818185424), (1107, 0.002353645581845605), (1433, 0.002353475653252909), (935, 0.002352933766995076), (4591, 0.0023527514636893497), (866, 0.0023517098170621493), (111, 0.0023499441380063907), (3342, 0.002349029587845247), (868, 0.002348721160722305), (1183, 0.002348058844684463), (1456, 0.002348031457546374), (1641, 0.0023458360936394404), (1650, 0.002345736991389789), (2556, 0.002345680825919294), (463, 0.00234444586257841), (2129, 0.0023440289269394837), (3120, 0.002342051277750528), (96, 0.0023412929757918996), (1514, 0.00234114898745687), (2777, 0.002340709081570976), (766, 0.002340660802318237), (2317, 0.0023406468681342126), (3627, 0.0023406095952060255), (2868, 0.002340434053817629), (744, 0.0023394235374926903), (3854, 0.002339326792077103), (1519, 0.002339283045424528), (805, 0.0023392725895692535), (1920, 0.0023389878086387387), (1760, 0.0023388641412819345), (1448, 0.0023374539729801164), (4616, 0.0023368151225390084), (136, 0.002336061659069811), (2735, 0.002335663352607181), (2593, 0.0023339442229383302), (2482, 0.002331749714983534), (324, 0.0023315759527746437), (590, 0.0023315256609804168), (1667, 0.0023313834537164705), (3656, 0.0023313549437158788), (1357, 0.0023312310704982162), (1114, 0.0023300061263454496), (1814, 0.0023292212547402352), (2674, 0.0023286456561700227), (4282, 0.0023286016292145603), (669, 0.002327602003746734), (604, 0.0023265355403554056), (4348, 0.002326362911512484), (3460, 0.002326184329370575), (4176, 0.0023260863567901163), (2347, 0.0023254674748135642), (829, 0.0023238483549825988), (4649, 0.0023231695286373955), (3455, 0.0023227511354310115), (3876, 0.0023220921172926344), (43, 0.0023219432553611883), (457, 0.002321777447471844), (359, 0.0023215134384033387), (1462, 0.0023202866135329657), (183, 0.0023200194731344084), (4326, 0.0023192757359187834), (3306, 0.002319175410551557), (4277, 0.0023170852875108693), (3284, 0.0023168590799928753), (1672, 0.002315782407886524), (910, 0.0023156740580487587), (2920, 0.002314573766710394), (624, 0.002313843598571069), (863, 0.0023123494348670014), (4620, 0.0023113433542536746), (3742, 0.0023106775620911155), (4502, 0.0023104392001527642), (124, 0.002309894961267029), (1434, 0.0023096032287687773), (4359, 0.0023095337453320954), (1796, 0.002308109627460251), (4638, 0.002307589471377318), (199, 0.002306612488365075), (1730, 0.0023062907623953893), (934, 0.002305509270291723), (1675, 0.0023045424213955098), (1360, 0.0023023230829452945), (2803, 0.00230212428046312), (3953, 0.002301663518638566), (3474, 0.0022986489720178784), (1680, 0.002297457855709479), (1538, 0.0022961769431410757), (4053, 0.002295424428667), (1865, 0.0022949189068748863), (1503, 0.0022935903594137872), (2055, 0.002292726223684618), (968, 0.002291526316041367), (285, 0.0022910846909380135), (1595, 0.002289296303547), (449, 0.0022878827227928687), (1964, 0.0022867333239685625), (4154, 0.002285862774262408), (428, 0.002283893939785169), (1387, 0.002283660889907715), (1161, 0.0022835325786577563), (2323, 0.0022828545055755085), (2031, 0.0022827483440652093), (563, 0.002281077004455678), (581, 0.0022796581062798334), (981, 0.0022774240436038277), (3336, 0.0022769219955713783), (3974, 0.002276871804458208), (4074, 0.002276545718577188), (3027, 0.002276368860528604), (2285, 0.0022762710106359984), (936, 0.0022761385795570517), (3986, 0.0022761115505538524), (1000, 0.002275305766969784), (804, 0.002275261115918155), (4475, 0.0022748223054526524), (1625, 0.0022747310161707317), (1739, 0.002274571341174872), (2248, 0.002274247392385088), (597, 0.0022739961186375533), (4143, 0.002273922593111266), (800, 0.002273770395699266), (2065, 0.002272727732421901), (1808, 0.0022687090341450234), (2191, 0.0022686835014422463), (3841, 0.0022685880528342125), (1004, 0.0022674097954387077), (3801, 0.00226642887362666), (3167, 0.0022654725870060763), (4590, 0.0022651937287036586), (917, 0.0022643090296249747), (3556, 0.002261876541237283), (1921, 0.0022607878501680763), (815, 0.002260013267384607), (4205, 0.002259521308548268), (2580, 0.0022591024050474537), (1934, 0.0022587625835831676), (732, 0.00225825624394164), (856, 0.0022580429011159826), (1414, 0.0022567976622497408), (268, 0.002256237210616486), (3956, 0.0022547093172337975), (2724, 0.0022478788420948995), (3360, 0.0022470577570822166), (657, 0.0022464191157896747), (4608, 0.002244860044874231), (1009, 0.0022441567347571832), (4661, 0.002242357179577416), (1290, 0.0022411313352889736), (252, 0.0022407607849186714), (4343, 0.002237554725177101), (495, 0.0022374173588012277), (2047, 0.002235400318459204), (200, 0.0022352521688932866), (166, 0.0022341109317142427), (519, 0.002233584653510752), (1608, 0.0022329171284854866), (1553, 0.0022326040707174068), (808, 0.002230131840323815), (2753, 0.0022285645951995487), (1776, 0.0022278539230581257), (184, 0.0022276057571468514), (222, 0.0022265350120863063), (92, 0.0022262279216783013), (4679, 0.0022240007373422813), (4247, 0.002223406613724501), (1186, 0.0022212238700736694), (3910, 0.002220908131507946), (97, 0.0022199777906136793), (480, 0.0022197999928091033), (647, 0.002219554928975206), (249, 0.0022185276277559437), (32, 0.002218388886485308), (1136, 0.0022177430035168456), (4432, 0.0022141724129176982), (3637, 0.0022122616205587664), (1301, 0.0022100638083058597), (3880, 0.002207009779373039), (4296, 0.002203469911735907), (653, 0.002200967738694503), (2621, 0.002200871170053016), (3096, 0.002198985804091469), (2692, 0.002196696924815654), (4429, 0.002196428704552087), (2520, 0.0021929447615535677), (4748, 0.0021908838782923544), (3211, 0.002190256275632198), (242, 0.002190217588350819), (2942, 0.0021889994052428814), (165, 0.0021868216397839322), (642, 0.00218505694858489), (1828, 0.0021827765692842313), (4386, 0.002181750685055319), (874, 0.00218154554575297), (1450, 0.002179987094216828), (861, 0.002178382032159417), (364, 0.002176307728797872), (3629, 0.0021725345163962407), (286, 0.0021707771115168292), (269, 0.0021706473376536424), (2611, 0.0021702491862463664), (2447, 0.0021696516717542445), (3569, 0.0021688928143283265), (2743, 0.0021688652331864726), (251, 0.0021682043994811825), (2382, 0.0021669919520076976), (445, 0.0021655929019926174), (1215, 0.002165324260620534), (4476, 0.0021646624584352463), (2070, 0.002163762709439175), (4344, 0.002162419180742903), (1627, 0.002162401178380501), (2981, 0.0021609781721667384), (3376, 0.0021601753007134523), (496, 0.002159724414568232), (190, 0.002158742222633969), (1691, 0.0021584814994497423), (1050, 0.002155107877529496), (432, 0.0021520533235573486), (3065, 0.002148708399843437), (3344, 0.0021483730688119543), (4095, 0.002146841680733752), (2771, 0.002146518501870459), (1202, 0.0021457424559486976), (1971, 0.002144162777555974), (626, 0.0021437999638206228), (267, 0.002143768827461003), (3668, 0.002141184664531424), (3634, 0.0021388419010215645), (617, 0.0021357948919068295), (3657, 0.0021347696602467573), (2039, 0.002127893316124789), (196, 0.0021247916921823505), (1801, 0.00212446298287034), (2127, 0.0021236613817138695), (3347, 0.002123206130958281), (566, 0.0021223133704055333), (3821, 0.0021215140113568787), (3091, 0.002117389192620117), (3928, 0.0021130854797658267), (1042, 0.00211275860318577), (4733, 0.0021107435918156), (2985, 0.0021100459896557164), (2355, 0.0021089933194138226), (3331, 0.00210872827379843), (16, 0.002108467310267122), (616, 0.0021081040789632305), (1209, 0.0021080564523257308), (2481, 0.00210664170632858), (44, 0.0021057874209870348), (3927, 0.0021055865192180657), (2221, 0.0021030335049245646), (2602, 0.0020990112501618843), (2969, 0.002098098169208198), (442, 0.0020975526989677686), (901, 0.002095282674581122), (3024, 0.0020926388529678547), (2563, 0.00209217450682533), (441, 0.0020904487918672354), (149, 0.0020889853633853325), (3957, 0.0020850962216134718), (2034, 0.002084145657577709), (3548, 0.0020802880796145316), (1241, 0.002079603391938177), (3751, 0.0020792160712823893), (1464, 0.0020721784984064177), (3317, 0.0020719541512373737), (2697, 0.0020709571597863044), (1369, 0.0020704782272791974), (2526, 0.0020697742241442894), (433, 0.0020692731577184173), (3756, 0.0020692397443722796), (412, 0.002066693089737895), (3313, 0.0020653037456277966), (1098, 0.002062815771674209), (816, 0.0020589435537506306), (1037, 0.0020578127075744743), (942, 0.0020565554013640647), (4626, 0.0020452356921911666), (1377, 0.0020406256074769094), (1303, 0.002039585363603984), (953, 0.0020367966400553603), (2908, 0.002032873930800636), (719, 0.002032301074238323), (1989, 0.002031815692095398), (4674, 0.0020317703953958077), (3431, 0.002031418108495666), (1144, 0.002016840041457996), (3471, 0.0020113679461427657), (1886, 0.002010654471251279), (706, 0.0020092480568380615), (3362, 0.002003148528746939), (527, 0.0020026687225768803), (2010, 0.001997734811883006), (2917, 0.001992530919495275), (4598, 0.001984617735615875), (3301, 0.00198096083122616), (2469, 0.0019805952209761366), (159, 0.001979864257116862), (1417, 0.001974665043362363), (3152, 0.001974047076533924), (2767, 0.0019735969172759117), (3199, 0.0019589758490565694), (853, 0.0019559001922549047), (571, 0.0019504323502183543), (106, 0.001947319229890852), (266, 0.001946427219174838), (3316, 0.0019459166377639018), (2760, 0.0019416402620958024), (2474, 0.0019408231439909905), (453, 0.0019343730611660983), (1005, 0.0019335639192526344), (1774, 0.0019315282493088917), (562, 0.0019191512298156919), (3645, 0.0019067394229296962), (452, 0.0019052846582148458), (3285, 0.0019017591594326986), (2636, 0.0018992004676268036), (4445, 0.001899064495038101), (296, 0.0018959506142847023), (3983, 0.0018951601204311632), (256, 0.0018898981858567233), (4301, 0.001876833936742206), (1471, 0.0018759210386699945), (1351, 0.0018655776111597237), (2902, 0.001860520455399169), (283, 0.0018512347237812788), (1306, 0.0018441085379655776), (7, 0.0018172356722010556), (4752, 0.0018120357919080286), (641, 0.0018115081722913518), (108, 0.0017998015594830373), (293, 0.0017986796140153452), (4171, 0.001787834337608626), (831, 0.0017858554004699012), (3365, 0.001783948743282339), (243, 0.0017809807293018242), (542, 0.0017739373256392705), (330, 0.001747915223414415), (3458, 0.001733104701344613), (1509, 0.0017281568359473493), (858, 0.0017080425887684837), (3392, 0.0016808547455100875), (3328, 0.0016627320829968797), (2443, 0.0016613596229988307), (24, 0.001652210339653426), (1780, 0.0016502120696450932), (3608, 0.0016477143584646109), (2538, 0.0015135926605722824), (2841, 0.0014129769490345437), (2534, 0.0011284703750298756), (1, 0.0), (2, 0.0), (6, 0.0), (9, 0.0), (10, 0.0), (13, 0.0), (17, 0.0), (27, 0.0), (30, 0.0), (35, 0.0), (36, 0.0), (37, 0.0), (39, 0.0), (46, 0.0), (47, 0.0), (54, 0.0), (55, 0.0), (56, 0.0), (57, 0.0), (58, 0.0), (64, 0.0), (65, 0.0), (67, 0.0), (69, 0.0), (70, 0.0), (72, 0.0), (75, 0.0), (76, 0.0), (77, 0.0), (78, 0.0), (80, 0.0), (81, 0.0), (83, 0.0), (84, 0.0), (88, 0.0), (89, 0.0), (90, 0.0), (93, 0.0), (94, 0.0), (95, 0.0), (99, 0.0), (100, 0.0), (101, 0.0), (102, 0.0), (117, 0.0), (118, 0.0), (122, 0.0), (125, 0.0), (128, 0.0), (131, 0.0), (133, 0.0), (135, 0.0), (137, 0.0), (138, 0.0), (143, 0.0), (148, 0.0), (150, 0.0), (151, 0.0), (152, 0.0), (155, 0.0), (160, 0.0), (162, 0.0), (168, 0.0), (170, 0.0), (171, 0.0), (177, 0.0), (179, 0.0), (180, 0.0), (181, 0.0), (186, 0.0), (187, 0.0), (189, 0.0), (191, 0.0), (201, 0.0), (207, 0.0), (220, 0.0), (223, 0.0), (230, 0.0), (231, 0.0), (232, 0.0), (233, 0.0), (234, 0.0), (237, 0.0), (239, 0.0), (240, 0.0), (241, 0.0), (244, 0.0), (248, 0.0), (250, 0.0), (257, 0.0), (258, 0.0), (259, 0.0), (260, 0.0), (261, 0.0), (265, 0.0), (273, 0.0), (277, 0.0), (284, 0.0), (289, 0.0), (290, 0.0), (291, 0.0), (294, 0.0), (295, 0.0), (297, 0.0), (300, 0.0), (301, 0.0), (303, 0.0), (304, 0.0), (305, 0.0), (306, 0.0), (310, 0.0), (313, 0.0), (314, 0.0), (315, 0.0), (316, 0.0), (320, 0.0), (321, 0.0), (322, 0.0), (323, 0.0), (327, 0.0), (332, 0.0), (333, 0.0), (335, 0.0), (337, 0.0), (340, 0.0), (341, 0.0), (352, 0.0), (354, 0.0), (360, 0.0), (375, 0.0), (376, 0.0), (379, 0.0), (380, 0.0), (381, 0.0), (382, 0.0), (384, 0.0), (386, 0.0), (389, 0.0), (390, 0.0), (394, 0.0), (397, 0.0), (411, 0.0), (420, 0.0), (423, 0.0), (424, 0.0), (425, 0.0), (426, 0.0), (435, 0.0), (438, 0.0), (439, 0.0), (440, 0.0), (451, 0.0), (460, 0.0), (462, 0.0), (467, 0.0), (468, 0.0), (469, 0.0), (477, 0.0), (484, 0.0), (486, 0.0), (491, 0.0), (492, 0.0), (500, 0.0), (501, 0.0), (511, 0.0), (512, 0.0), (513, 0.0), (514, 0.0), (516, 0.0), (517, 0.0), (523, 0.0), (537, 0.0), (539, 0.0), (540, 0.0), (548, 0.0), (549, 0.0), (550, 0.0), (552, 0.0), (553, 0.0), (554, 0.0), (555, 0.0), (556, 0.0), (557, 0.0), (559, 0.0), (560, 0.0), (561, 0.0), (565, 0.0), (567, 0.0), (568, 0.0), (569, 0.0), (570, 0.0), (572, 0.0), (573, 0.0), (574, 0.0), (575, 0.0), (591, 0.0), (595, 0.0), (599, 0.0), (600, 0.0), (601, 0.0), (602, 0.0), (603, 0.0), (610, 0.0), (613, 0.0), (615, 0.0), (619, 0.0), (621, 0.0), (625, 0.0), (633, 0.0), (634, 0.0), (639, 0.0), (640, 0.0), (650, 0.0), (654, 0.0), (656, 0.0), (658, 0.0), (661, 0.0), (663, 0.0), (666, 0.0), (668, 0.0), (674, 0.0), (677, 0.0), (681, 0.0), (682, 0.0), (685, 0.0), (686, 0.0), (692, 0.0), (695, 0.0), (699, 0.0), (704, 0.0), (713, 0.0), (714, 0.0), (718, 0.0), (723, 0.0), (724, 0.0), (725, 0.0), (738, 0.0), (746, 0.0), (747, 0.0), (748, 0.0), (756, 0.0), (762, 0.0), (763, 0.0), (765, 0.0), (775, 0.0), (779, 0.0), (789, 0.0), (790, 0.0), (801, 0.0), (802, 0.0), (803, 0.0), (810, 0.0), (811, 0.0), (812, 0.0), (825, 0.0), (827, 0.0), (833, 0.0), (834, 0.0), (835, 0.0), (855, 0.0), (875, 0.0), (877, 0.0), (881, 0.0), (882, 0.0), (891, 0.0), (902, 0.0), (906, 0.0), (909, 0.0), (913, 0.0), (914, 0.0), (915, 0.0), (918, 0.0), (919, 0.0), (927, 0.0), (928, 0.0), (932, 0.0), (960, 0.0), (974, 0.0), (976, 0.0), (977, 0.0), (979, 0.0), (992, 0.0), (997, 0.0), (1011, 0.0), (1012, 0.0), (1014, 0.0), (1016, 0.0), (1018, 0.0), (1031, 0.0), (1039, 0.0), (1045, 0.0), (1046, 0.0), (1051, 0.0), (1054, 0.0), (1056, 0.0), (1057, 0.0), (1058, 0.0), (1063, 0.0), (1066, 0.0), (1076, 0.0), (1081, 0.0), (1082, 0.0), (1086, 0.0), (1090, 0.0), (1091, 0.0), (1092, 0.0), (1095, 0.0), (1097, 0.0), (1101, 0.0), (1104, 0.0), (1111, 0.0), (1116, 0.0), (1118, 0.0), (1120, 0.0), (1127, 0.0), (1128, 0.0), (1129, 0.0), (1134, 0.0), (1135, 0.0), (1137, 0.0), (1143, 0.0), (1146, 0.0), (1147, 0.0), (1150, 0.0), (1151, 0.0), (1154, 0.0), (1158, 0.0), (1162, 0.0), (1164, 0.0), (1167, 0.0), (1171, 0.0), (1172, 0.0), (1185, 0.0), (1189, 0.0), (1195, 0.0), (1197, 0.0), (1207, 0.0), (1210, 0.0), (1218, 0.0), (1221, 0.0), (1226, 0.0), (1228, 0.0), (1230, 0.0), (1233, 0.0), (1239, 0.0), (1240, 0.0), (1250, 0.0), (1253, 0.0), (1258, 0.0), (1259, 0.0), (1262, 0.0), (1263, 0.0), (1265, 0.0), (1266, 0.0), (1269, 0.0), (1271, 0.0), (1272, 0.0), (1274, 0.0), (1276, 0.0), (1279, 0.0), (1280, 0.0), (1281, 0.0), (1283, 0.0), (1285, 0.0), (1287, 0.0), (1295, 0.0), (1296, 0.0), (1307, 0.0), (1314, 0.0), (1315, 0.0), (1316, 0.0), (1328, 0.0), (1332, 0.0), (1342, 0.0), (1343, 0.0), (1347, 0.0), (1354, 0.0), (1358, 0.0), (1374, 0.0), (1380, 0.0), (1381, 0.0), (1384, 0.0), (1386, 0.0), (1391, 0.0), (1393, 0.0), (1395, 0.0), (1396, 0.0), (1399, 0.0), (1406, 0.0), (1407, 0.0), (1412, 0.0), (1418, 0.0), (1419, 0.0), (1426, 0.0), (1428, 0.0), (1430, 0.0), (1431, 0.0), (1435, 0.0), (1436, 0.0), (1443, 0.0), (1449, 0.0), (1451, 0.0), (1452, 0.0), (1455, 0.0), (1458, 0.0), (1459, 0.0), (1460, 0.0), (1466, 0.0), (1467, 0.0), (1470, 0.0), (1480, 0.0), (1493, 0.0), (1502, 0.0), (1504, 0.0), (1511, 0.0), (1512, 0.0), (1515, 0.0), (1529, 0.0), (1531, 0.0), (1535, 0.0), (1540, 0.0), (1546, 0.0), (1548, 0.0), (1551, 0.0), (1554, 0.0), (1556, 0.0), (1559, 0.0), (1562, 0.0), (1568, 0.0), (1573, 0.0), (1575, 0.0), (1576, 0.0), (1579, 0.0), (1584, 0.0), (1588, 0.0), (1590, 0.0), (1591, 0.0), (1600, 0.0), (1603, 0.0), (1607, 0.0), (1622, 0.0), (1623, 0.0), (1630, 0.0), (1631, 0.0), (1632, 0.0), (1633, 0.0), (1635, 0.0), (1636, 0.0), (1647, 0.0), (1649, 0.0), (1651, 0.0), (1657, 0.0), (1659, 0.0), (1661, 0.0), (1662, 0.0), (1664, 0.0), (1669, 0.0), (1674, 0.0), (1681, 0.0), (1686, 0.0), (1692, 0.0), (1699, 0.0), (1701, 0.0), (1704, 0.0), (1705, 0.0), (1713, 0.0), (1720, 0.0), (1723, 0.0), (1724, 0.0), (1725, 0.0), (1728, 0.0), (1745, 0.0), (1749, 0.0), (1753, 0.0), (1755, 0.0), (1756, 0.0), (1761, 0.0), (1772, 0.0), (1773, 0.0), (1775, 0.0), (1789, 0.0), (1795, 0.0), (1799, 0.0), (1800, 0.0), (1809, 0.0), (1810, 0.0), (1812, 0.0), (1815, 0.0), (1817, 0.0), (1820, 0.0), (1823, 0.0), (1825, 0.0), (1829, 0.0), (1832, 0.0), (1835, 0.0), (1838, 0.0), (1840, 0.0), (1841, 0.0), (1846, 0.0), (1852, 0.0), (1857, 0.0), (1859, 0.0), (1873, 0.0), (1894, 0.0), (1901, 0.0), (1904, 0.0), (1908, 0.0), (1910, 0.0), (1925, 0.0), (1927, 0.0), (1930, 0.0), (1932, 0.0), (1933, 0.0), (1937, 0.0), (1940, 0.0), (1945, 0.0), (1948, 0.0), (1952, 0.0), (1953, 0.0), (1958, 0.0), (1962, 0.0), (1966, 0.0), (1970, 0.0), (1972, 0.0), (1975, 0.0), (1976, 0.0), (1979, 0.0), (1988, 0.0), (1990, 0.0), (1991, 0.0), (1996, 0.0), (1998, 0.0), (2013, 0.0), (2015, 0.0), (2017, 0.0), (2020, 0.0), (2022, 0.0), (2028, 0.0), (2030, 0.0), (2038, 0.0), (2054, 0.0), (2057, 0.0), (2062, 0.0), (2066, 0.0), (2074, 0.0), (2078, 0.0), (2084, 0.0), (2085, 0.0), (2094, 0.0), (2095, 0.0), (2100, 0.0), (2110, 0.0), (2114, 0.0), (2115, 0.0), (2119, 0.0), (2120, 0.0), (2130, 0.0), (2135, 0.0), (2136, 0.0), (2139, 0.0), (2152, 0.0), (2165, 0.0), (2171, 0.0), (2172, 0.0), (2175, 0.0), (2177, 0.0), (2178, 0.0), (2180, 0.0), (2181, 0.0), (2182, 0.0), (2184, 0.0), (2197, 0.0), (2198, 0.0), (2205, 0.0), (2206, 0.0), (2220, 0.0), (2231, 0.0), (2232, 0.0), (2233, 0.0), (2235, 0.0), (2238, 0.0), (2239, 0.0), (2243, 0.0), (2244, 0.0), (2245, 0.0), (2246, 0.0), (2247, 0.0), (2256, 0.0), (2259, 0.0), (2263, 0.0), (2267, 0.0), (2273, 0.0), (2275, 0.0), (2276, 0.0), (2278, 0.0), (2283, 0.0), (2291, 0.0), (2294, 0.0), (2300, 0.0), (2314, 0.0), (2316, 0.0), (2318, 0.0), (2326, 0.0), (2330, 0.0), (2332, 0.0), (2337, 0.0), (2341, 0.0), (2342, 0.0), (2343, 0.0), (2345, 0.0), (2352, 0.0), (2358, 0.0), (2365, 0.0), (2369, 0.0), (2372, 0.0), (2376, 0.0), (2383, 0.0), (2398, 0.0), (2408, 0.0), (2413, 0.0), (2421, 0.0), (2429, 0.0), (2432, 0.0), (2442, 0.0), (2451, 0.0), (2462, 0.0), (2470, 0.0), (2471, 0.0), (2476, 0.0), (2480, 0.0), (2485, 0.0), (2498, 0.0), (2501, 0.0), (2503, 0.0), (2506, 0.0), (2513, 0.0), (2517, 0.0), (2521, 0.0), (2524, 0.0), (2532, 0.0), (2541, 0.0), (2544, 0.0), (2547, 0.0), (2549, 0.0), (2562, 0.0), (2567, 0.0), (2573, 0.0), (2574, 0.0), (2576, 0.0), (2577, 0.0), (2578, 0.0), (2583, 0.0), (2596, 0.0), (2599, 0.0), (2618, 0.0), (2622, 0.0), (2627, 0.0), (2641, 0.0), (2654, 0.0), (2658, 0.0), (2660, 0.0), (2670, 0.0), (2680, 0.0), (2682, 0.0), (2683, 0.0), (2686, 0.0), (2689, 0.0), (2691, 0.0), (2700, 0.0), (2704, 0.0), (2708, 0.0), (2710, 0.0), (2711, 0.0), (2713, 0.0), (2717, 0.0), (2718, 0.0), (2719, 0.0), (2733, 0.0), (2736, 0.0), (2742, 0.0), (2749, 0.0), (2750, 0.0), (2751, 0.0), (2759, 0.0), (2762, 0.0), (2773, 0.0), (2780, 0.0), (2785, 0.0), (2788, 0.0), (2789, 0.0), (2790, 0.0), (2791, 0.0), (2793, 0.0), (2801, 0.0), (2815, 0.0), (2819, 0.0), (2824, 0.0), (2827, 0.0), (2828, 0.0), (2835, 0.0), (2837, 0.0), (2839, 0.0), (2842, 0.0), (2847, 0.0), (2850, 0.0), (2851, 0.0), (2860, 0.0), (2864, 0.0), (2865, 0.0), (2867, 0.0), (2869, 0.0), (2885, 0.0), (2898, 0.0), (2905, 0.0), (2906, 0.0), (2918, 0.0), (2921, 0.0), (2927, 0.0), (2929, 0.0), (2935, 0.0), (2938, 0.0), (2944, 0.0), (2947, 0.0), (2950, 0.0), (2952, 0.0), (2955, 0.0), (2956, 0.0), (2958, 0.0), (2959, 0.0), (2960, 0.0), (2963, 0.0), (2991, 0.0), (3001, 0.0), (3002, 0.0), (3005, 0.0), (3006, 0.0), (3008, 0.0), (3011, 0.0), (3021, 0.0), (3022, 0.0), (3023, 0.0), (3025, 0.0), (3029, 0.0), (3045, 0.0), (3047, 0.0), (3048, 0.0), (3049, 0.0), (3053, 0.0), (3058, 0.0), (3059, 0.0), (3068, 0.0), (3079, 0.0), (3085, 0.0), (3092, 0.0), (3099, 0.0), (3100, 0.0), (3105, 0.0), (3107, 0.0), (3110, 0.0), (3114, 0.0), (3117, 0.0), (3118, 0.0), (3121, 0.0), (3124, 0.0), (3126, 0.0), (3129, 0.0), (3130, 0.0), (3131, 0.0), (3132, 0.0), (3133, 0.0), (3134, 0.0), (3135, 0.0), (3136, 0.0), (3138, 0.0), (3143, 0.0), (3144, 0.0), (3145, 0.0), (3156, 0.0), (3158, 0.0), (3160, 0.0), (3163, 0.0), (3176, 0.0), (3179, 0.0), (3185, 0.0), (3191, 0.0), (3193, 0.0), (3201, 0.0), (3208, 0.0), (3213, 0.0), (3215, 0.0), (3222, 0.0), (3223, 0.0), (3247, 0.0), (3251, 0.0), (3255, 0.0), (3261, 0.0), (3263, 0.0), (3272, 0.0), (3279, 0.0), (3280, 0.0), (3281, 0.0), (3294, 0.0), (3305, 0.0), (3312, 0.0), (3333, 0.0), (3338, 0.0), (3339, 0.0), (3340, 0.0), (3345, 0.0), (3356, 0.0), (3361, 0.0), (3367, 0.0), (3368, 0.0), (3377, 0.0), (3384, 0.0), (3385, 0.0), (3387, 0.0), (3394, 0.0), (3398, 0.0), (3401, 0.0), (3404, 0.0), (3405, 0.0), (3416, 0.0), (3420, 0.0), (3426, 0.0), (3427, 0.0), (3429, 0.0), (3432, 0.0), (3438, 0.0), (3440, 0.0), (3446, 0.0), (3448, 0.0), (3451, 0.0), (3453, 0.0), (3454, 0.0), (3456, 0.0), (3457, 0.0), (3459, 0.0), (3463, 0.0), (3465, 0.0), (3466, 0.0), (3467, 0.0), (3468, 0.0), (3469, 0.0), (3470, 0.0), (3472, 0.0), (3473, 0.0), (3476, 0.0), (3480, 0.0), (3482, 0.0), (3484, 0.0), (3486, 0.0), (3488, 0.0), (3495, 0.0), (3502, 0.0), (3505, 0.0), (3507, 0.0), (3515, 0.0), (3520, 0.0), (3525, 0.0), (3528, 0.0), (3530, 0.0), (3532, 0.0), (3533, 0.0), (3535, 0.0), (3547, 0.0), (3550, 0.0), (3555, 0.0), (3566, 0.0), (3567, 0.0), (3568, 0.0), (3573, 0.0), (3576, 0.0), (3578, 0.0), (3583, 0.0), (3586, 0.0), (3588, 0.0), (3597, 0.0), (3600, 0.0), (3602, 0.0), (3604, 0.0), (3605, 0.0), (3607, 0.0), (3609, 0.0), (3617, 0.0), (3619, 0.0), (3625, 0.0), (3631, 0.0), (3659, 0.0), (3663, 0.0), (3664, 0.0), (3679, 0.0), (3682, 0.0), (3690, 0.0), (3693, 0.0), (3695, 0.0), (3697, 0.0), (3698, 0.0), (3700, 0.0), (3702, 0.0), (3703, 0.0), (3708, 0.0), (3709, 0.0), (3710, 0.0), (3711, 0.0), (3713, 0.0), (3717, 0.0), (3718, 0.0), (3720, 0.0), (3723, 0.0), (3724, 0.0), (3726, 0.0), (3731, 0.0), (3738, 0.0), (3741, 0.0), (3743, 0.0), (3744, 0.0), (3746, 0.0), (3750, 0.0), (3752, 0.0), (3760, 0.0), (3768, 0.0), (3769, 0.0), (3773, 0.0), (3774, 0.0), (3775, 0.0), (3776, 0.0), (3782, 0.0), (3783, 0.0), (3785, 0.0), (3786, 0.0), (3787, 0.0), (3788, 0.0), (3793, 0.0), (3794, 0.0), (3802, 0.0), (3806, 0.0), (3810, 0.0), (3814, 0.0), (3815, 0.0), (3816, 0.0), (3817, 0.0), (3823, 0.0), (3825, 0.0), (3830, 0.0), (3833, 0.0), (3838, 0.0), (3843, 0.0), (3846, 0.0), (3847, 0.0), (3849, 0.0), (3850, 0.0), (3852, 0.0), (3860, 0.0), (3869, 0.0), (3871, 0.0), (3872, 0.0), (3881, 0.0), (3887, 0.0), (3891, 0.0), (3897, 0.0), (3907, 0.0), (3908, 0.0), (3918, 0.0), (3929, 0.0), (3937, 0.0), (3938, 0.0), (3940, 0.0), (3942, 0.0), (3944, 0.0), (3946, 0.0), (3947, 0.0), (3948, 0.0), (3955, 0.0), (3958, 0.0), (3963, 0.0), (3966, 0.0), (3968, 0.0), (3970, 0.0), (3972, 0.0), (3975, 0.0), (3976, 0.0), (3977, 0.0), (3979, 0.0), (3981, 0.0), (3982, 0.0), (3985, 0.0), (3989, 0.0), (3991, 0.0), (3993, 0.0), (3994, 0.0), (3995, 0.0), (3997, 0.0), (4006, 0.0), (4009, 0.0), (4021, 0.0), (4028, 0.0), (4034, 0.0), (4039, 0.0), (4041, 0.0), (4043, 0.0), (4044, 0.0), (4045, 0.0), (4047, 0.0), (4055, 0.0), (4057, 0.0), (4063, 0.0), (4065, 0.0), (4067, 0.0), (4070, 0.0), (4072, 0.0), (4078, 0.0), (4088, 0.0), (4090, 0.0), (4091, 0.0), (4096, 0.0), (4100, 0.0), (4103, 0.0), (4106, 0.0), (4114, 0.0), (4119, 0.0), (4120, 0.0), (4122, 0.0), (4128, 0.0), (4134, 0.0), (4146, 0.0), (4148, 0.0), (4150, 0.0), (4153, 0.0), (4157, 0.0), (4158, 0.0), (4159, 0.0), (4162, 0.0), (4164, 0.0), (4165, 0.0), (4167, 0.0), (4168, 0.0), (4170, 0.0), (4177, 0.0), (4179, 0.0), (4181, 0.0), (4185, 0.0), (4188, 0.0), (4193, 0.0), (4194, 0.0), (4196, 0.0), (4201, 0.0), (4208, 0.0), (4211, 0.0), (4212, 0.0), (4215, 0.0), (4216, 0.0), (4219, 0.0), (4224, 0.0), (4227, 0.0), (4235, 0.0), (4236, 0.0), (4238, 0.0), (4240, 0.0), (4241, 0.0), (4248, 0.0), (4250, 0.0), (4251, 0.0), (4253, 0.0), (4261, 0.0), (4264, 0.0), (4265, 0.0), (4270, 0.0), (4271, 0.0), (4274, 0.0), (4275, 0.0), (4276, 0.0), (4278, 0.0), (4279, 0.0), (4281, 0.0), (4289, 0.0), (4290, 0.0), (4292, 0.0), (4294, 0.0), (4302, 0.0), (4307, 0.0), (4310, 0.0), (4312, 0.0), (4313, 0.0), (4316, 0.0), (4328, 0.0), (4331, 0.0), (4337, 0.0), (4338, 0.0), (4339, 0.0), (4342, 0.0), (4352, 0.0), (4360, 0.0), (4364, 0.0), (4365, 0.0), (4372, 0.0), (4373, 0.0), (4375, 0.0), (4376, 0.0), (4377, 0.0), (4378, 0.0), (4380, 0.0), (4383, 0.0), (4384, 0.0), (4385, 0.0), (4389, 0.0), (4390, 0.0), (4392, 0.0), (4393, 0.0), (4405, 0.0), (4406, 0.0), (4410, 0.0), (4414, 0.0), (4415, 0.0), (4417, 0.0), (4424, 0.0), (4425, 0.0), (4436, 0.0), (4439, 0.0), (4441, 0.0), (4449, 0.0), (4450, 0.0), (4455, 0.0), (4459, 0.0), (4462, 0.0), (4464, 0.0), (4466, 0.0), (4467, 0.0), (4468, 0.0), (4478, 0.0), (4481, 0.0), (4482, 0.0), (4485, 0.0), (4488, 0.0), (4491, 0.0), (4493, 0.0), (4499, 0.0), (4500, 0.0), (4508, 0.0), (4509, 0.0), (4510, 0.0), (4512, 0.0), (4513, 0.0), (4515, 0.0), (4518, 0.0), (4524, 0.0), (4525, 0.0), (4526, 0.0), (4527, 0.0), (4532, 0.0), (4534, 0.0), (4538, 0.0), (4539, 0.0), (4541, 0.0), (4543, 0.0), (4547, 0.0), (4548, 0.0), (4549, 0.0), (4553, 0.0), (4559, 0.0), (4561, 0.0), (4565, 0.0), (4568, 0.0), (4578, 0.0), (4581, 0.0), (4582, 0.0), (4583, 0.0), (4585, 0.0), (4586, 0.0), (4587, 0.0), (4588, 0.0), (4595, 0.0), (4597, 0.0), (4613, 0.0), (4615, 0.0), (4618, 0.0), (4621, 0.0), (4623, 0.0), (4630, 0.0), (4635, 0.0), (4642, 0.0), (4644, 0.0), (4645, 0.0), (4646, 0.0), (4651, 0.0), (4653, 0.0), (4654, 0.0), (4656, 0.0), (4659, 0.0), (4662, 0.0), (4663, 0.0), (4664, 0.0), (4665, 0.0), (4666, 0.0), (4671, 0.0), (4676, 0.0), (4681, 0.0), (4682, 0.0), (4683, 0.0), (4684, 0.0), (4689, 0.0), (4691, 0.0), (4695, 0.0), (4697, 0.0), (4698, 0.0), (4703, 0.0), (4707, 0.0), (4708, 0.0), (4709, 0.0), (4714, 0.0), (4716, 0.0), (4726, 0.0), (4727, 0.0), (4728, 0.0), (4730, 0.0), (4736, 0.0), (4740, 0.0), (4742, 0.0), (4745, 0.0), (4747, 0.0), (4750, 0.0), (4751, 0.0), (4754, 0.0), (4755, 0.0), (4758, 0.0), (4759, 0.0)]\n"
          ]
        }
      ]
    },
    {
      "cell_type": "code",
      "source": [
        "# print the name of similar movies based on the index\n",
        "print('Top 3o Movies Suggested for you : \\n')\n",
        "i = 1\n",
        "for movie in Sorted_Similar_Movies:\n",
        "  index = movie[0]\n",
        "  title_from_index = df[df.index==index]['Movie_Title'].values[0]\n",
        "  if (i<31):\n",
        "    print(i, '.',title_from_index)\n",
        "    i+=1"
      ],
      "metadata": {
        "id": "W7hQaqZpuMZd",
        "colab": {
          "base_uri": "https://localhost:8080/"
        },
        "outputId": "bdc85a9b-b0d0-4019-d697-d5c013c6958f"
      },
      "execution_count": null,
      "outputs": [
        {
          "output_type": "stream",
          "name": "stdout",
          "text": [
            "Top 3o Movies Suggested for you : \n",
            "\n",
            "1 . Volver\n",
            "2 . Sleepers\n",
            "3 . Mystic River\n",
            "4 . The Celebration\n",
            "5 . The Sea Inside\n",
            "6 . To Rome with Love\n",
            "7 . Radio Flyer\n",
            "8 . Woman on Top\n",
            "9 . Wild Things\n",
            "10 . G-Force\n",
            "11 . Monster\n",
            "12 . Captain Corelli's Mandolin\n",
            "13 . Vanilla Sky\n",
            "14 . Sahara\n",
            "15 . All the Pretty Horses\n",
            "16 . Vicky Cristina Barcelona\n",
            "17 . The Good Night\n",
            "18 . Oliver Twist\n",
            "19 . Cape Fear\n",
            "20 . Pirates of the Caribbean: On Stranger Tides\n",
            "21 . The Counselor\n",
            "22 . The Chronicles of Narnia: The Voyage of the Dawn Treader\n",
            "23 . The Sixth Sense\n",
            "24 . Nine\n",
            "25 . Blow\n",
            "26 . Zoolander 2\n",
            "27 . Masked and Anonymous\n",
            "28 . Bandidas\n",
            "29 . Gothika\n",
            "30 . Ever After: A Cinderella Story\n"
          ]
        }
      ]
    },
    {
      "cell_type": "markdown",
      "source": [
        "Top 10 movie Recommendation System"
      ],
      "metadata": {
        "id": "BtFDmtBwrxPh"
      }
    },
    {
      "cell_type": "code",
      "source": [
        "  Movie_Name = input(' Enter your favourite movie name : ')\n",
        "\n",
        "  list_of_all_titles = df['Movie_Title'].tolist()\n",
        "\n",
        "  Find_Close_Match = difflib.get_close_matches(Movie_Name, list_of_all_titles)\n",
        "\n",
        "  Close_Match = Find_Close_Match[0]\n",
        "\n",
        "  Index_of_Movie = df[df.Movie_Title == Close_Match]['Movie_ID'].values[0]\n",
        "\n",
        "  Recommendation_Score = list(enumerate(Similarity_Score[Index_of_Movie]))\n",
        "\n",
        "  Sorted_Similar_Movies = sorted(Recommendation_Score, key = lambda x:x[1], reverse = True)\n",
        "\n",
        "  print('Top 10 Movies suggested for you : \\n')\n",
        "\n",
        "  i = 1\n",
        "\n",
        "  for movie in Sorted_Similar_Movies:\n",
        "    index = movie[0]\n",
        "    title_from_index = df[df.Movie_ID==index]['Movie_Title'].values\n",
        "  if (i<11):\n",
        "    print(i, '.',title_from_index)\n",
        "    i+=1\n"
      ],
      "metadata": {
        "id": "KHquoYY4r4Vq"
      },
      "execution_count": null,
      "outputs": []
    },
    {
      "cell_type": "markdown",
      "source": [
        "Top 10 Movies suggested for you :"
      ],
      "metadata": {
        "id": "vIp6qM2531RS"
      }
    },
    {
      "cell_type": "markdown",
      "source": [
        "\n",
        "1.   ['Terminator']\n",
        "\n",
        "1.   [Judgment Day']\n",
        "\n",
        "1.   ['RoboCop']\n",
        "\n",
        "1.   ['Predator']\n",
        "\n",
        "1.   ['Blade Runner']\n",
        "2.   ['Total Recall']\n",
        "\n",
        "\n",
        "7.   ['The Matrix']\n",
        "\n",
        "\n",
        "8.   ['Mad Max: Fury Road']\n",
        "\n",
        "\n",
        "9.   ['I, Robot']\n",
        "\n",
        "\n",
        "10.   ['Aliens']\n",
        "\n",
        "\n",
        "\n",
        "\n"
      ],
      "metadata": {
        "id": "zf0fQCzVzPQQ"
      }
    },
    {
      "cell_type": "markdown",
      "source": [],
      "metadata": {
        "id": "PZKOYi8H2QEu"
      }
    }
  ]
}